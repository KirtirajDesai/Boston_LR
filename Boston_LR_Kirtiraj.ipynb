{
 "cells": [
  {
   "cell_type": "code",
   "execution_count": 101,
   "id": "246307c0",
   "metadata": {},
   "outputs": [],
   "source": [
    "import pandas as pd\n",
    "import numpy as np\n",
    "import seaborn as sns \n",
    "import matplotlib.pyplot as plt\n",
    "from statsmodels.stats.outliers_influence import variance_inflation_factor\n",
    "from sklearn.model_selection import train_test_split,GridSearchCV,RandomizedSearchCV\n",
    "from sklearn.linear_model import LinearRegression,Lasso,Ridge\n",
    "from sklearn.metrics import mean_squared_error, mean_absolute_error,r2_score\n",
    "from sklearn.tree import DecisionTreeRegressor,plot_tree"
   ]
  },
  {
   "cell_type": "markdown",
   "id": "fa57a1bc",
   "metadata": {},
   "source": [
    "# Problem Statement"
   ]
  },
  {
   "cell_type": "markdown",
   "id": "0e4e2e90",
   "metadata": {},
   "source": [
    "To Predict Boston House Price Using Given Data Apply Linear Regression,Decicion Tree, With Hyperparameter Tunning\n",
    "and PRUNNING Decision Tree."
   ]
  },
  {
   "cell_type": "markdown",
   "id": "44511c92",
   "metadata": {},
   "source": [
    "# Data Gathering"
   ]
  },
  {
   "cell_type": "code",
   "execution_count": 102,
   "id": "b2e017da",
   "metadata": {},
   "outputs": [
    {
     "data": {
      "text/html": [
       "<div>\n",
       "<style scoped>\n",
       "    .dataframe tbody tr th:only-of-type {\n",
       "        vertical-align: middle;\n",
       "    }\n",
       "\n",
       "    .dataframe tbody tr th {\n",
       "        vertical-align: top;\n",
       "    }\n",
       "\n",
       "    .dataframe thead th {\n",
       "        text-align: right;\n",
       "    }\n",
       "</style>\n",
       "<table border=\"1\" class=\"dataframe\">\n",
       "  <thead>\n",
       "    <tr style=\"text-align: right;\">\n",
       "      <th></th>\n",
       "      <th>Unnamed: 0</th>\n",
       "      <th>CRIM</th>\n",
       "      <th>ZN</th>\n",
       "      <th>INDUS</th>\n",
       "      <th>CHAS</th>\n",
       "      <th>NOX</th>\n",
       "      <th>RM</th>\n",
       "      <th>AGE</th>\n",
       "      <th>DIS</th>\n",
       "      <th>RAD</th>\n",
       "      <th>TAX</th>\n",
       "      <th>PTRATIO</th>\n",
       "      <th>B</th>\n",
       "      <th>LSTAT</th>\n",
       "      <th>TARGET</th>\n",
       "    </tr>\n",
       "  </thead>\n",
       "  <tbody>\n",
       "    <tr>\n",
       "      <th>0</th>\n",
       "      <td>0</td>\n",
       "      <td>0.00632</td>\n",
       "      <td>18.0</td>\n",
       "      <td>2.31</td>\n",
       "      <td>0.0</td>\n",
       "      <td>0.538</td>\n",
       "      <td>6.575</td>\n",
       "      <td>65.2</td>\n",
       "      <td>4.0900</td>\n",
       "      <td>1.0</td>\n",
       "      <td>296.0</td>\n",
       "      <td>15.3</td>\n",
       "      <td>396.90</td>\n",
       "      <td>4.98</td>\n",
       "      <td>24.0</td>\n",
       "    </tr>\n",
       "    <tr>\n",
       "      <th>1</th>\n",
       "      <td>1</td>\n",
       "      <td>0.02731</td>\n",
       "      <td>0.0</td>\n",
       "      <td>7.07</td>\n",
       "      <td>0.0</td>\n",
       "      <td>0.469</td>\n",
       "      <td>6.421</td>\n",
       "      <td>78.9</td>\n",
       "      <td>4.9671</td>\n",
       "      <td>2.0</td>\n",
       "      <td>242.0</td>\n",
       "      <td>17.8</td>\n",
       "      <td>396.90</td>\n",
       "      <td>9.14</td>\n",
       "      <td>21.6</td>\n",
       "    </tr>\n",
       "    <tr>\n",
       "      <th>2</th>\n",
       "      <td>2</td>\n",
       "      <td>0.02729</td>\n",
       "      <td>0.0</td>\n",
       "      <td>7.07</td>\n",
       "      <td>0.0</td>\n",
       "      <td>0.469</td>\n",
       "      <td>7.185</td>\n",
       "      <td>61.1</td>\n",
       "      <td>4.9671</td>\n",
       "      <td>2.0</td>\n",
       "      <td>242.0</td>\n",
       "      <td>17.8</td>\n",
       "      <td>392.83</td>\n",
       "      <td>4.03</td>\n",
       "      <td>34.7</td>\n",
       "    </tr>\n",
       "    <tr>\n",
       "      <th>3</th>\n",
       "      <td>3</td>\n",
       "      <td>0.03237</td>\n",
       "      <td>0.0</td>\n",
       "      <td>2.18</td>\n",
       "      <td>0.0</td>\n",
       "      <td>0.458</td>\n",
       "      <td>6.998</td>\n",
       "      <td>45.8</td>\n",
       "      <td>6.0622</td>\n",
       "      <td>3.0</td>\n",
       "      <td>222.0</td>\n",
       "      <td>18.7</td>\n",
       "      <td>394.63</td>\n",
       "      <td>2.94</td>\n",
       "      <td>33.4</td>\n",
       "    </tr>\n",
       "    <tr>\n",
       "      <th>4</th>\n",
       "      <td>4</td>\n",
       "      <td>0.06905</td>\n",
       "      <td>0.0</td>\n",
       "      <td>2.18</td>\n",
       "      <td>0.0</td>\n",
       "      <td>0.458</td>\n",
       "      <td>7.147</td>\n",
       "      <td>54.2</td>\n",
       "      <td>6.0622</td>\n",
       "      <td>3.0</td>\n",
       "      <td>222.0</td>\n",
       "      <td>18.7</td>\n",
       "      <td>396.90</td>\n",
       "      <td>5.33</td>\n",
       "      <td>36.2</td>\n",
       "    </tr>\n",
       "    <tr>\n",
       "      <th>...</th>\n",
       "      <td>...</td>\n",
       "      <td>...</td>\n",
       "      <td>...</td>\n",
       "      <td>...</td>\n",
       "      <td>...</td>\n",
       "      <td>...</td>\n",
       "      <td>...</td>\n",
       "      <td>...</td>\n",
       "      <td>...</td>\n",
       "      <td>...</td>\n",
       "      <td>...</td>\n",
       "      <td>...</td>\n",
       "      <td>...</td>\n",
       "      <td>...</td>\n",
       "      <td>...</td>\n",
       "    </tr>\n",
       "    <tr>\n",
       "      <th>501</th>\n",
       "      <td>501</td>\n",
       "      <td>0.06263</td>\n",
       "      <td>0.0</td>\n",
       "      <td>11.93</td>\n",
       "      <td>0.0</td>\n",
       "      <td>0.573</td>\n",
       "      <td>6.593</td>\n",
       "      <td>69.1</td>\n",
       "      <td>2.4786</td>\n",
       "      <td>1.0</td>\n",
       "      <td>273.0</td>\n",
       "      <td>21.0</td>\n",
       "      <td>391.99</td>\n",
       "      <td>9.67</td>\n",
       "      <td>22.4</td>\n",
       "    </tr>\n",
       "    <tr>\n",
       "      <th>502</th>\n",
       "      <td>502</td>\n",
       "      <td>0.04527</td>\n",
       "      <td>0.0</td>\n",
       "      <td>11.93</td>\n",
       "      <td>0.0</td>\n",
       "      <td>0.573</td>\n",
       "      <td>6.120</td>\n",
       "      <td>76.7</td>\n",
       "      <td>2.2875</td>\n",
       "      <td>1.0</td>\n",
       "      <td>273.0</td>\n",
       "      <td>21.0</td>\n",
       "      <td>396.90</td>\n",
       "      <td>9.08</td>\n",
       "      <td>20.6</td>\n",
       "    </tr>\n",
       "    <tr>\n",
       "      <th>503</th>\n",
       "      <td>503</td>\n",
       "      <td>0.06076</td>\n",
       "      <td>0.0</td>\n",
       "      <td>11.93</td>\n",
       "      <td>0.0</td>\n",
       "      <td>0.573</td>\n",
       "      <td>6.976</td>\n",
       "      <td>91.0</td>\n",
       "      <td>2.1675</td>\n",
       "      <td>1.0</td>\n",
       "      <td>273.0</td>\n",
       "      <td>21.0</td>\n",
       "      <td>396.90</td>\n",
       "      <td>5.64</td>\n",
       "      <td>23.9</td>\n",
       "    </tr>\n",
       "    <tr>\n",
       "      <th>504</th>\n",
       "      <td>504</td>\n",
       "      <td>0.10959</td>\n",
       "      <td>0.0</td>\n",
       "      <td>11.93</td>\n",
       "      <td>0.0</td>\n",
       "      <td>0.573</td>\n",
       "      <td>6.794</td>\n",
       "      <td>89.3</td>\n",
       "      <td>2.3889</td>\n",
       "      <td>1.0</td>\n",
       "      <td>273.0</td>\n",
       "      <td>21.0</td>\n",
       "      <td>393.45</td>\n",
       "      <td>6.48</td>\n",
       "      <td>22.0</td>\n",
       "    </tr>\n",
       "    <tr>\n",
       "      <th>505</th>\n",
       "      <td>505</td>\n",
       "      <td>0.04741</td>\n",
       "      <td>0.0</td>\n",
       "      <td>11.93</td>\n",
       "      <td>0.0</td>\n",
       "      <td>0.573</td>\n",
       "      <td>6.030</td>\n",
       "      <td>80.8</td>\n",
       "      <td>2.5050</td>\n",
       "      <td>1.0</td>\n",
       "      <td>273.0</td>\n",
       "      <td>21.0</td>\n",
       "      <td>396.90</td>\n",
       "      <td>7.88</td>\n",
       "      <td>11.9</td>\n",
       "    </tr>\n",
       "  </tbody>\n",
       "</table>\n",
       "<p>506 rows × 15 columns</p>\n",
       "</div>"
      ],
      "text/plain": [
       "     Unnamed: 0     CRIM    ZN  INDUS  CHAS    NOX     RM   AGE     DIS  RAD  \\\n",
       "0             0  0.00632  18.0   2.31   0.0  0.538  6.575  65.2  4.0900  1.0   \n",
       "1             1  0.02731   0.0   7.07   0.0  0.469  6.421  78.9  4.9671  2.0   \n",
       "2             2  0.02729   0.0   7.07   0.0  0.469  7.185  61.1  4.9671  2.0   \n",
       "3             3  0.03237   0.0   2.18   0.0  0.458  6.998  45.8  6.0622  3.0   \n",
       "4             4  0.06905   0.0   2.18   0.0  0.458  7.147  54.2  6.0622  3.0   \n",
       "..          ...      ...   ...    ...   ...    ...    ...   ...     ...  ...   \n",
       "501         501  0.06263   0.0  11.93   0.0  0.573  6.593  69.1  2.4786  1.0   \n",
       "502         502  0.04527   0.0  11.93   0.0  0.573  6.120  76.7  2.2875  1.0   \n",
       "503         503  0.06076   0.0  11.93   0.0  0.573  6.976  91.0  2.1675  1.0   \n",
       "504         504  0.10959   0.0  11.93   0.0  0.573  6.794  89.3  2.3889  1.0   \n",
       "505         505  0.04741   0.0  11.93   0.0  0.573  6.030  80.8  2.5050  1.0   \n",
       "\n",
       "       TAX  PTRATIO       B  LSTAT  TARGET  \n",
       "0    296.0     15.3  396.90   4.98    24.0  \n",
       "1    242.0     17.8  396.90   9.14    21.6  \n",
       "2    242.0     17.8  392.83   4.03    34.7  \n",
       "3    222.0     18.7  394.63   2.94    33.4  \n",
       "4    222.0     18.7  396.90   5.33    36.2  \n",
       "..     ...      ...     ...    ...     ...  \n",
       "501  273.0     21.0  391.99   9.67    22.4  \n",
       "502  273.0     21.0  396.90   9.08    20.6  \n",
       "503  273.0     21.0  396.90   5.64    23.9  \n",
       "504  273.0     21.0  393.45   6.48    22.0  \n",
       "505  273.0     21.0  396.90   7.88    11.9  \n",
       "\n",
       "[506 rows x 15 columns]"
      ]
     },
     "execution_count": 102,
     "metadata": {},
     "output_type": "execute_result"
    }
   ],
   "source": [
    "df=pd.read_csv('Boston_Dataset.csv')\n",
    "df"
   ]
  },
  {
   "cell_type": "markdown",
   "id": "19fa7599",
   "metadata": {},
   "source": [
    "# Exploratory Data Analysis"
   ]
  },
  {
   "cell_type": "code",
   "execution_count": 103,
   "id": "32e87814",
   "metadata": {},
   "outputs": [
    {
     "name": "stdout",
     "output_type": "stream",
     "text": [
      "<class 'pandas.core.frame.DataFrame'>\n",
      "RangeIndex: 506 entries, 0 to 505\n",
      "Data columns (total 15 columns):\n",
      " #   Column      Non-Null Count  Dtype  \n",
      "---  ------      --------------  -----  \n",
      " 0   Unnamed: 0  506 non-null    int64  \n",
      " 1   CRIM        506 non-null    float64\n",
      " 2   ZN          506 non-null    float64\n",
      " 3   INDUS       506 non-null    float64\n",
      " 4   CHAS        506 non-null    float64\n",
      " 5   NOX         506 non-null    float64\n",
      " 6   RM          506 non-null    float64\n",
      " 7   AGE         506 non-null    float64\n",
      " 8   DIS         506 non-null    float64\n",
      " 9   RAD         506 non-null    float64\n",
      " 10  TAX         506 non-null    float64\n",
      " 11  PTRATIO     506 non-null    float64\n",
      " 12  B           506 non-null    float64\n",
      " 13  LSTAT       506 non-null    float64\n",
      " 14  TARGET      506 non-null    float64\n",
      "dtypes: float64(14), int64(1)\n",
      "memory usage: 59.4 KB\n"
     ]
    }
   ],
   "source": [
    "df.info()"
   ]
  },
  {
   "cell_type": "code",
   "execution_count": 104,
   "id": "e36fc1ec",
   "metadata": {},
   "outputs": [
    {
     "data": {
      "text/html": [
       "<div>\n",
       "<style scoped>\n",
       "    .dataframe tbody tr th:only-of-type {\n",
       "        vertical-align: middle;\n",
       "    }\n",
       "\n",
       "    .dataframe tbody tr th {\n",
       "        vertical-align: top;\n",
       "    }\n",
       "\n",
       "    .dataframe thead th {\n",
       "        text-align: right;\n",
       "    }\n",
       "</style>\n",
       "<table border=\"1\" class=\"dataframe\">\n",
       "  <thead>\n",
       "    <tr style=\"text-align: right;\">\n",
       "      <th></th>\n",
       "      <th>Unnamed: 0</th>\n",
       "      <th>CRIM</th>\n",
       "      <th>ZN</th>\n",
       "      <th>INDUS</th>\n",
       "      <th>CHAS</th>\n",
       "      <th>NOX</th>\n",
       "      <th>RM</th>\n",
       "      <th>AGE</th>\n",
       "      <th>DIS</th>\n",
       "      <th>RAD</th>\n",
       "      <th>TAX</th>\n",
       "      <th>PTRATIO</th>\n",
       "      <th>B</th>\n",
       "      <th>LSTAT</th>\n",
       "      <th>TARGET</th>\n",
       "    </tr>\n",
       "  </thead>\n",
       "  <tbody>\n",
       "    <tr>\n",
       "      <th>count</th>\n",
       "      <td>506.000000</td>\n",
       "      <td>506.000000</td>\n",
       "      <td>506.000000</td>\n",
       "      <td>506.000000</td>\n",
       "      <td>506.000000</td>\n",
       "      <td>506.000000</td>\n",
       "      <td>506.000000</td>\n",
       "      <td>506.000000</td>\n",
       "      <td>506.000000</td>\n",
       "      <td>506.000000</td>\n",
       "      <td>506.000000</td>\n",
       "      <td>506.000000</td>\n",
       "      <td>506.000000</td>\n",
       "      <td>506.000000</td>\n",
       "      <td>506.000000</td>\n",
       "    </tr>\n",
       "    <tr>\n",
       "      <th>mean</th>\n",
       "      <td>252.500000</td>\n",
       "      <td>3.613524</td>\n",
       "      <td>11.363636</td>\n",
       "      <td>11.136779</td>\n",
       "      <td>0.069170</td>\n",
       "      <td>0.554695</td>\n",
       "      <td>6.284634</td>\n",
       "      <td>68.574901</td>\n",
       "      <td>3.795043</td>\n",
       "      <td>9.549407</td>\n",
       "      <td>408.237154</td>\n",
       "      <td>18.455534</td>\n",
       "      <td>356.674032</td>\n",
       "      <td>12.653063</td>\n",
       "      <td>22.532806</td>\n",
       "    </tr>\n",
       "    <tr>\n",
       "      <th>std</th>\n",
       "      <td>146.213884</td>\n",
       "      <td>8.601545</td>\n",
       "      <td>23.322453</td>\n",
       "      <td>6.860353</td>\n",
       "      <td>0.253994</td>\n",
       "      <td>0.115878</td>\n",
       "      <td>0.702617</td>\n",
       "      <td>28.148861</td>\n",
       "      <td>2.105710</td>\n",
       "      <td>8.707259</td>\n",
       "      <td>168.537116</td>\n",
       "      <td>2.164946</td>\n",
       "      <td>91.294864</td>\n",
       "      <td>7.141062</td>\n",
       "      <td>9.197104</td>\n",
       "    </tr>\n",
       "    <tr>\n",
       "      <th>min</th>\n",
       "      <td>0.000000</td>\n",
       "      <td>0.006320</td>\n",
       "      <td>0.000000</td>\n",
       "      <td>0.460000</td>\n",
       "      <td>0.000000</td>\n",
       "      <td>0.385000</td>\n",
       "      <td>3.561000</td>\n",
       "      <td>2.900000</td>\n",
       "      <td>1.129600</td>\n",
       "      <td>1.000000</td>\n",
       "      <td>187.000000</td>\n",
       "      <td>12.600000</td>\n",
       "      <td>0.320000</td>\n",
       "      <td>1.730000</td>\n",
       "      <td>5.000000</td>\n",
       "    </tr>\n",
       "    <tr>\n",
       "      <th>25%</th>\n",
       "      <td>126.250000</td>\n",
       "      <td>0.082045</td>\n",
       "      <td>0.000000</td>\n",
       "      <td>5.190000</td>\n",
       "      <td>0.000000</td>\n",
       "      <td>0.449000</td>\n",
       "      <td>5.885500</td>\n",
       "      <td>45.025000</td>\n",
       "      <td>2.100175</td>\n",
       "      <td>4.000000</td>\n",
       "      <td>279.000000</td>\n",
       "      <td>17.400000</td>\n",
       "      <td>375.377500</td>\n",
       "      <td>6.950000</td>\n",
       "      <td>17.025000</td>\n",
       "    </tr>\n",
       "    <tr>\n",
       "      <th>50%</th>\n",
       "      <td>252.500000</td>\n",
       "      <td>0.256510</td>\n",
       "      <td>0.000000</td>\n",
       "      <td>9.690000</td>\n",
       "      <td>0.000000</td>\n",
       "      <td>0.538000</td>\n",
       "      <td>6.208500</td>\n",
       "      <td>77.500000</td>\n",
       "      <td>3.207450</td>\n",
       "      <td>5.000000</td>\n",
       "      <td>330.000000</td>\n",
       "      <td>19.050000</td>\n",
       "      <td>391.440000</td>\n",
       "      <td>11.360000</td>\n",
       "      <td>21.200000</td>\n",
       "    </tr>\n",
       "    <tr>\n",
       "      <th>75%</th>\n",
       "      <td>378.750000</td>\n",
       "      <td>3.677083</td>\n",
       "      <td>12.500000</td>\n",
       "      <td>18.100000</td>\n",
       "      <td>0.000000</td>\n",
       "      <td>0.624000</td>\n",
       "      <td>6.623500</td>\n",
       "      <td>94.075000</td>\n",
       "      <td>5.188425</td>\n",
       "      <td>24.000000</td>\n",
       "      <td>666.000000</td>\n",
       "      <td>20.200000</td>\n",
       "      <td>396.225000</td>\n",
       "      <td>16.955000</td>\n",
       "      <td>25.000000</td>\n",
       "    </tr>\n",
       "    <tr>\n",
       "      <th>max</th>\n",
       "      <td>505.000000</td>\n",
       "      <td>88.976200</td>\n",
       "      <td>100.000000</td>\n",
       "      <td>27.740000</td>\n",
       "      <td>1.000000</td>\n",
       "      <td>0.871000</td>\n",
       "      <td>8.780000</td>\n",
       "      <td>100.000000</td>\n",
       "      <td>12.126500</td>\n",
       "      <td>24.000000</td>\n",
       "      <td>711.000000</td>\n",
       "      <td>22.000000</td>\n",
       "      <td>396.900000</td>\n",
       "      <td>37.970000</td>\n",
       "      <td>50.000000</td>\n",
       "    </tr>\n",
       "  </tbody>\n",
       "</table>\n",
       "</div>"
      ],
      "text/plain": [
       "       Unnamed: 0        CRIM          ZN       INDUS        CHAS         NOX  \\\n",
       "count  506.000000  506.000000  506.000000  506.000000  506.000000  506.000000   \n",
       "mean   252.500000    3.613524   11.363636   11.136779    0.069170    0.554695   \n",
       "std    146.213884    8.601545   23.322453    6.860353    0.253994    0.115878   \n",
       "min      0.000000    0.006320    0.000000    0.460000    0.000000    0.385000   \n",
       "25%    126.250000    0.082045    0.000000    5.190000    0.000000    0.449000   \n",
       "50%    252.500000    0.256510    0.000000    9.690000    0.000000    0.538000   \n",
       "75%    378.750000    3.677083   12.500000   18.100000    0.000000    0.624000   \n",
       "max    505.000000   88.976200  100.000000   27.740000    1.000000    0.871000   \n",
       "\n",
       "               RM         AGE         DIS         RAD         TAX     PTRATIO  \\\n",
       "count  506.000000  506.000000  506.000000  506.000000  506.000000  506.000000   \n",
       "mean     6.284634   68.574901    3.795043    9.549407  408.237154   18.455534   \n",
       "std      0.702617   28.148861    2.105710    8.707259  168.537116    2.164946   \n",
       "min      3.561000    2.900000    1.129600    1.000000  187.000000   12.600000   \n",
       "25%      5.885500   45.025000    2.100175    4.000000  279.000000   17.400000   \n",
       "50%      6.208500   77.500000    3.207450    5.000000  330.000000   19.050000   \n",
       "75%      6.623500   94.075000    5.188425   24.000000  666.000000   20.200000   \n",
       "max      8.780000  100.000000   12.126500   24.000000  711.000000   22.000000   \n",
       "\n",
       "                B       LSTAT      TARGET  \n",
       "count  506.000000  506.000000  506.000000  \n",
       "mean   356.674032   12.653063   22.532806  \n",
       "std     91.294864    7.141062    9.197104  \n",
       "min      0.320000    1.730000    5.000000  \n",
       "25%    375.377500    6.950000   17.025000  \n",
       "50%    391.440000   11.360000   21.200000  \n",
       "75%    396.225000   16.955000   25.000000  \n",
       "max    396.900000   37.970000   50.000000  "
      ]
     },
     "execution_count": 104,
     "metadata": {},
     "output_type": "execute_result"
    }
   ],
   "source": [
    "df.describe()"
   ]
  },
  {
   "cell_type": "markdown",
   "id": "e24a48d5",
   "metadata": {},
   "source": [
    "We need to Drop 'Unnamed' column"
   ]
  },
  {
   "cell_type": "markdown",
   "id": "2aa00a1e",
   "metadata": {},
   "source": [
    "Outliers present in\n",
    "1. CRIM\n",
    "2. ZN\n"
   ]
  },
  {
   "cell_type": "code",
   "execution_count": 105,
   "id": "6e7bd706",
   "metadata": {},
   "outputs": [
    {
     "data": {
      "text/html": [
       "<div>\n",
       "<style scoped>\n",
       "    .dataframe tbody tr th:only-of-type {\n",
       "        vertical-align: middle;\n",
       "    }\n",
       "\n",
       "    .dataframe tbody tr th {\n",
       "        vertical-align: top;\n",
       "    }\n",
       "\n",
       "    .dataframe thead th {\n",
       "        text-align: right;\n",
       "    }\n",
       "</style>\n",
       "<table border=\"1\" class=\"dataframe\">\n",
       "  <thead>\n",
       "    <tr style=\"text-align: right;\">\n",
       "      <th></th>\n",
       "      <th>CRIM</th>\n",
       "      <th>ZN</th>\n",
       "      <th>INDUS</th>\n",
       "      <th>CHAS</th>\n",
       "      <th>NOX</th>\n",
       "      <th>RM</th>\n",
       "      <th>AGE</th>\n",
       "      <th>DIS</th>\n",
       "      <th>RAD</th>\n",
       "      <th>TAX</th>\n",
       "      <th>PTRATIO</th>\n",
       "      <th>B</th>\n",
       "      <th>LSTAT</th>\n",
       "      <th>TARGET</th>\n",
       "    </tr>\n",
       "  </thead>\n",
       "  <tbody>\n",
       "    <tr>\n",
       "      <th>0</th>\n",
       "      <td>0.00632</td>\n",
       "      <td>18.0</td>\n",
       "      <td>2.31</td>\n",
       "      <td>0.0</td>\n",
       "      <td>0.538</td>\n",
       "      <td>6.575</td>\n",
       "      <td>65.2</td>\n",
       "      <td>4.0900</td>\n",
       "      <td>1.0</td>\n",
       "      <td>296.0</td>\n",
       "      <td>15.3</td>\n",
       "      <td>396.90</td>\n",
       "      <td>4.98</td>\n",
       "      <td>24.0</td>\n",
       "    </tr>\n",
       "    <tr>\n",
       "      <th>1</th>\n",
       "      <td>0.02731</td>\n",
       "      <td>0.0</td>\n",
       "      <td>7.07</td>\n",
       "      <td>0.0</td>\n",
       "      <td>0.469</td>\n",
       "      <td>6.421</td>\n",
       "      <td>78.9</td>\n",
       "      <td>4.9671</td>\n",
       "      <td>2.0</td>\n",
       "      <td>242.0</td>\n",
       "      <td>17.8</td>\n",
       "      <td>396.90</td>\n",
       "      <td>9.14</td>\n",
       "      <td>21.6</td>\n",
       "    </tr>\n",
       "    <tr>\n",
       "      <th>2</th>\n",
       "      <td>0.02729</td>\n",
       "      <td>0.0</td>\n",
       "      <td>7.07</td>\n",
       "      <td>0.0</td>\n",
       "      <td>0.469</td>\n",
       "      <td>7.185</td>\n",
       "      <td>61.1</td>\n",
       "      <td>4.9671</td>\n",
       "      <td>2.0</td>\n",
       "      <td>242.0</td>\n",
       "      <td>17.8</td>\n",
       "      <td>392.83</td>\n",
       "      <td>4.03</td>\n",
       "      <td>34.7</td>\n",
       "    </tr>\n",
       "    <tr>\n",
       "      <th>3</th>\n",
       "      <td>0.03237</td>\n",
       "      <td>0.0</td>\n",
       "      <td>2.18</td>\n",
       "      <td>0.0</td>\n",
       "      <td>0.458</td>\n",
       "      <td>6.998</td>\n",
       "      <td>45.8</td>\n",
       "      <td>6.0622</td>\n",
       "      <td>3.0</td>\n",
       "      <td>222.0</td>\n",
       "      <td>18.7</td>\n",
       "      <td>394.63</td>\n",
       "      <td>2.94</td>\n",
       "      <td>33.4</td>\n",
       "    </tr>\n",
       "    <tr>\n",
       "      <th>4</th>\n",
       "      <td>0.06905</td>\n",
       "      <td>0.0</td>\n",
       "      <td>2.18</td>\n",
       "      <td>0.0</td>\n",
       "      <td>0.458</td>\n",
       "      <td>7.147</td>\n",
       "      <td>54.2</td>\n",
       "      <td>6.0622</td>\n",
       "      <td>3.0</td>\n",
       "      <td>222.0</td>\n",
       "      <td>18.7</td>\n",
       "      <td>396.90</td>\n",
       "      <td>5.33</td>\n",
       "      <td>36.2</td>\n",
       "    </tr>\n",
       "    <tr>\n",
       "      <th>...</th>\n",
       "      <td>...</td>\n",
       "      <td>...</td>\n",
       "      <td>...</td>\n",
       "      <td>...</td>\n",
       "      <td>...</td>\n",
       "      <td>...</td>\n",
       "      <td>...</td>\n",
       "      <td>...</td>\n",
       "      <td>...</td>\n",
       "      <td>...</td>\n",
       "      <td>...</td>\n",
       "      <td>...</td>\n",
       "      <td>...</td>\n",
       "      <td>...</td>\n",
       "    </tr>\n",
       "    <tr>\n",
       "      <th>501</th>\n",
       "      <td>0.06263</td>\n",
       "      <td>0.0</td>\n",
       "      <td>11.93</td>\n",
       "      <td>0.0</td>\n",
       "      <td>0.573</td>\n",
       "      <td>6.593</td>\n",
       "      <td>69.1</td>\n",
       "      <td>2.4786</td>\n",
       "      <td>1.0</td>\n",
       "      <td>273.0</td>\n",
       "      <td>21.0</td>\n",
       "      <td>391.99</td>\n",
       "      <td>9.67</td>\n",
       "      <td>22.4</td>\n",
       "    </tr>\n",
       "    <tr>\n",
       "      <th>502</th>\n",
       "      <td>0.04527</td>\n",
       "      <td>0.0</td>\n",
       "      <td>11.93</td>\n",
       "      <td>0.0</td>\n",
       "      <td>0.573</td>\n",
       "      <td>6.120</td>\n",
       "      <td>76.7</td>\n",
       "      <td>2.2875</td>\n",
       "      <td>1.0</td>\n",
       "      <td>273.0</td>\n",
       "      <td>21.0</td>\n",
       "      <td>396.90</td>\n",
       "      <td>9.08</td>\n",
       "      <td>20.6</td>\n",
       "    </tr>\n",
       "    <tr>\n",
       "      <th>503</th>\n",
       "      <td>0.06076</td>\n",
       "      <td>0.0</td>\n",
       "      <td>11.93</td>\n",
       "      <td>0.0</td>\n",
       "      <td>0.573</td>\n",
       "      <td>6.976</td>\n",
       "      <td>91.0</td>\n",
       "      <td>2.1675</td>\n",
       "      <td>1.0</td>\n",
       "      <td>273.0</td>\n",
       "      <td>21.0</td>\n",
       "      <td>396.90</td>\n",
       "      <td>5.64</td>\n",
       "      <td>23.9</td>\n",
       "    </tr>\n",
       "    <tr>\n",
       "      <th>504</th>\n",
       "      <td>0.10959</td>\n",
       "      <td>0.0</td>\n",
       "      <td>11.93</td>\n",
       "      <td>0.0</td>\n",
       "      <td>0.573</td>\n",
       "      <td>6.794</td>\n",
       "      <td>89.3</td>\n",
       "      <td>2.3889</td>\n",
       "      <td>1.0</td>\n",
       "      <td>273.0</td>\n",
       "      <td>21.0</td>\n",
       "      <td>393.45</td>\n",
       "      <td>6.48</td>\n",
       "      <td>22.0</td>\n",
       "    </tr>\n",
       "    <tr>\n",
       "      <th>505</th>\n",
       "      <td>0.04741</td>\n",
       "      <td>0.0</td>\n",
       "      <td>11.93</td>\n",
       "      <td>0.0</td>\n",
       "      <td>0.573</td>\n",
       "      <td>6.030</td>\n",
       "      <td>80.8</td>\n",
       "      <td>2.5050</td>\n",
       "      <td>1.0</td>\n",
       "      <td>273.0</td>\n",
       "      <td>21.0</td>\n",
       "      <td>396.90</td>\n",
       "      <td>7.88</td>\n",
       "      <td>11.9</td>\n",
       "    </tr>\n",
       "  </tbody>\n",
       "</table>\n",
       "<p>506 rows × 14 columns</p>\n",
       "</div>"
      ],
      "text/plain": [
       "        CRIM    ZN  INDUS  CHAS    NOX     RM   AGE     DIS  RAD    TAX  \\\n",
       "0    0.00632  18.0   2.31   0.0  0.538  6.575  65.2  4.0900  1.0  296.0   \n",
       "1    0.02731   0.0   7.07   0.0  0.469  6.421  78.9  4.9671  2.0  242.0   \n",
       "2    0.02729   0.0   7.07   0.0  0.469  7.185  61.1  4.9671  2.0  242.0   \n",
       "3    0.03237   0.0   2.18   0.0  0.458  6.998  45.8  6.0622  3.0  222.0   \n",
       "4    0.06905   0.0   2.18   0.0  0.458  7.147  54.2  6.0622  3.0  222.0   \n",
       "..       ...   ...    ...   ...    ...    ...   ...     ...  ...    ...   \n",
       "501  0.06263   0.0  11.93   0.0  0.573  6.593  69.1  2.4786  1.0  273.0   \n",
       "502  0.04527   0.0  11.93   0.0  0.573  6.120  76.7  2.2875  1.0  273.0   \n",
       "503  0.06076   0.0  11.93   0.0  0.573  6.976  91.0  2.1675  1.0  273.0   \n",
       "504  0.10959   0.0  11.93   0.0  0.573  6.794  89.3  2.3889  1.0  273.0   \n",
       "505  0.04741   0.0  11.93   0.0  0.573  6.030  80.8  2.5050  1.0  273.0   \n",
       "\n",
       "     PTRATIO       B  LSTAT  TARGET  \n",
       "0       15.3  396.90   4.98    24.0  \n",
       "1       17.8  396.90   9.14    21.6  \n",
       "2       17.8  392.83   4.03    34.7  \n",
       "3       18.7  394.63   2.94    33.4  \n",
       "4       18.7  396.90   5.33    36.2  \n",
       "..       ...     ...    ...     ...  \n",
       "501     21.0  391.99   9.67    22.4  \n",
       "502     21.0  396.90   9.08    20.6  \n",
       "503     21.0  396.90   5.64    23.9  \n",
       "504     21.0  393.45   6.48    22.0  \n",
       "505     21.0  396.90   7.88    11.9  \n",
       "\n",
       "[506 rows x 14 columns]"
      ]
     },
     "execution_count": 105,
     "metadata": {},
     "output_type": "execute_result"
    }
   ],
   "source": [
    "df=df.drop('Unnamed: 0',axis=1)\n",
    "df"
   ]
  },
  {
   "cell_type": "markdown",
   "id": "474ef922",
   "metadata": {},
   "source": [
    "# FEATURE ENGINEERING"
   ]
  },
  {
   "cell_type": "markdown",
   "id": "c6dfe1b1",
   "metadata": {},
   "source": [
    "# Checking Null values and Datatypes of Features"
   ]
  },
  {
   "cell_type": "code",
   "execution_count": 106,
   "id": "ec89535f",
   "metadata": {},
   "outputs": [
    {
     "data": {
      "text/plain": [
       "CRIM       0\n",
       "ZN         0\n",
       "INDUS      0\n",
       "CHAS       0\n",
       "NOX        0\n",
       "RM         0\n",
       "AGE        0\n",
       "DIS        0\n",
       "RAD        0\n",
       "TAX        0\n",
       "PTRATIO    0\n",
       "B          0\n",
       "LSTAT      0\n",
       "TARGET     0\n",
       "dtype: int64"
      ]
     },
     "execution_count": 106,
     "metadata": {},
     "output_type": "execute_result"
    }
   ],
   "source": [
    "df.isna().sum()"
   ]
  },
  {
   "cell_type": "markdown",
   "id": "c9f3e9fe",
   "metadata": {},
   "source": [
    "# Treating Outliers"
   ]
  },
  {
   "cell_type": "code",
   "execution_count": 107,
   "id": "3eb2845a",
   "metadata": {},
   "outputs": [
    {
     "data": {
      "text/plain": [
       "<Axes: >"
      ]
     },
     "execution_count": 107,
     "metadata": {},
     "output_type": "execute_result"
    },
    {
     "data": {
      "image/png": "[encoded data removed]",
      "text/plain": [
       "<Figure size 1500x1000 with 1 Axes>"
      ]
     },
     "metadata": {},
     "output_type": "display_data"
    }
   ],
   "source": [
    "plt.figure(figsize=(15,10))\n",
    "df.boxplot()# "
   ]
  },
  {
   "cell_type": "markdown",
   "id": "84e42ebd",
   "metadata": {},
   "source": [
    "# 1. Treating CRIM Feature"
   ]
  },
  {
   "cell_type": "code",
   "execution_count": 108,
   "id": "4b4b0f3d",
   "metadata": {
    "scrolled": true
   },
   "outputs": [
    {
     "data": {
      "text/plain": [
       "<Axes: xlabel='CRIM'>"
      ]
     },
     "execution_count": 108,
     "metadata": {},
     "output_type": "execute_result"
    },
    {
     "data": {
      "image/png": "[encoded data removed]",
      "text/plain": [
       "<Figure size 640x480 with 1 Axes>"
      ]
     },
     "metadata": {},
     "output_type": "display_data"
    }
   ],
   "source": [
    "sns.boxplot(x = df[\"CRIM\"])"
   ]
  },
  {
   "cell_type": "markdown",
   "id": "f751a900",
   "metadata": {},
   "source": [
    "# Treating Outliers Using IQR Method"
   ]
  },
  {
   "cell_type": "code",
   "execution_count": 109,
   "id": "430011d4",
   "metadata": {},
   "outputs": [
    {
     "name": "stdout",
     "output_type": "stream",
     "text": [
      "IQR >>  3.5950375\n",
      "UpperTail : 14.462195000000001\n",
      "Lower Tail :  -10.7030675\n"
     ]
    }
   ],
   "source": [
    "q1 = df[\"CRIM\"].quantile(0.25)\n",
    "q2 = df[\"CRIM\"].quantile(0.50)\n",
    "q3 = df[\"CRIM\"].quantile(0.75)\n",
    "\n",
    "iqr = q3 - q1\n",
    "print(\"IQR >> \",iqr)\n",
    "\n",
    "upper_tail = q3 + 3 * iqr\n",
    "lower_tail = q1 - 3 * iqr\n",
    "\n",
    "print(\"UpperTail :\",upper_tail)\n",
    "print(\"Lower Tail : \",lower_tail)"
   ]
  },
  {
   "cell_type": "markdown",
   "id": "369038a4",
   "metadata": {},
   "source": [
    "# Imputing Upper tail"
   ]
  },
  {
   "cell_type": "code",
   "execution_count": 110,
   "id": "c2698d61",
   "metadata": {},
   "outputs": [],
   "source": [
    "df[\"CRIM\"] = np.where(df[\"CRIM\"] > upper_tail,upper_tail,df[\"CRIM\"])"
   ]
  },
  {
   "cell_type": "code",
   "execution_count": 111,
   "id": "477f9e26",
   "metadata": {},
   "outputs": [
    {
     "data": {
      "text/plain": [
       "<Axes: xlabel='CRIM'>"
      ]
     },
     "execution_count": 111,
     "metadata": {},
     "output_type": "execute_result"
    },
    {
     "data": {
      "image/png": "[encoded data removed]",
      "text/plain": [
       "<Figure size 640x480 with 1 Axes>"
      ]
     },
     "metadata": {},
     "output_type": "display_data"
    }
   ],
   "source": [
    "sns.boxplot(x = df[\"CRIM\"])"
   ]
  },
  {
   "cell_type": "markdown",
   "id": "053eb643",
   "metadata": {},
   "source": [
    "# 2. Treating ZN Feature"
   ]
  },
  {
   "cell_type": "code",
   "execution_count": 112,
   "id": "75b103ad",
   "metadata": {},
   "outputs": [
    {
     "data": {
      "text/plain": [
       "<Axes: xlabel='ZN'>"
      ]
     },
     "execution_count": 112,
     "metadata": {},
     "output_type": "execute_result"
    },
    {
     "data": {
      "image/png": "[encoded data removed]",
      "text/plain": [
       "<Figure size 640x480 with 1 Axes>"
      ]
     },
     "metadata": {},
     "output_type": "display_data"
    }
   ],
   "source": [
    "sns.boxplot(x = df[\"ZN\"])"
   ]
  },
  {
   "cell_type": "markdown",
   "id": "82c8a519",
   "metadata": {},
   "source": [
    "# Treating Outliers Using IQR Method"
   ]
  },
  {
   "cell_type": "code",
   "execution_count": 113,
   "id": "c8213052",
   "metadata": {},
   "outputs": [
    {
     "name": "stdout",
     "output_type": "stream",
     "text": [
      "IQR >>  12.5\n",
      "UpperTail : 37.5\n",
      "Lower Tail :  -18.75\n"
     ]
    }
   ],
   "source": [
    "q1 = df[\"ZN\"].quantile(0.25)\n",
    "q2 = df[\"ZN\"].quantile(0.50)\n",
    "q3 = df[\"ZN\"].quantile(0.75)\n",
    "\n",
    "iqr = q3 - q1\n",
    "print(\"IQR >> \",iqr)\n",
    "\n",
    "upper_tail = q3 + 2 * iqr\n",
    "lower_tail = q1 - 1.5 * iqr\n",
    "\n",
    "print(\"UpperTail :\",upper_tail)\n",
    "print(\"Lower Tail : \",lower_tail)"
   ]
  },
  {
   "cell_type": "markdown",
   "id": "d8853303",
   "metadata": {},
   "source": [
    "# Imputing Upper tail"
   ]
  },
  {
   "cell_type": "code",
   "execution_count": 114,
   "id": "b8fb6308",
   "metadata": {},
   "outputs": [],
   "source": [
    "df[\"ZN\"] = np.where(df[\"ZN\"] > upper_tail,upper_tail,df[\"ZN\"])"
   ]
  },
  {
   "cell_type": "code",
   "execution_count": 115,
   "id": "109e8c96",
   "metadata": {},
   "outputs": [
    {
     "data": {
      "text/plain": [
       "<Axes: xlabel='ZN'>"
      ]
     },
     "execution_count": 115,
     "metadata": {},
     "output_type": "execute_result"
    },
    {
     "data": {
      "image/png": "[encoded data removed]",
      "text/plain": [
       "<Figure size 640x480 with 1 Axes>"
      ]
     },
     "metadata": {},
     "output_type": "display_data"
    }
   ],
   "source": [
    "sns.boxplot(x = df[\"ZN\"])"
   ]
  },
  {
   "cell_type": "markdown",
   "id": "9003694e",
   "metadata": {},
   "source": [
    "# Checking Linearity"
   ]
  },
  {
   "cell_type": "code",
   "execution_count": 116,
   "id": "2cf5fbf9",
   "metadata": {},
   "outputs": [
    {
     "data": {
      "text/html": [
       "<div>\n",
       "<style scoped>\n",
       "    .dataframe tbody tr th:only-of-type {\n",
       "        vertical-align: middle;\n",
       "    }\n",
       "\n",
       "    .dataframe tbody tr th {\n",
       "        vertical-align: top;\n",
       "    }\n",
       "\n",
       "    .dataframe thead th {\n",
       "        text-align: right;\n",
       "    }\n",
       "</style>\n",
       "<table border=\"1\" class=\"dataframe\">\n",
       "  <thead>\n",
       "    <tr style=\"text-align: right;\">\n",
       "      <th></th>\n",
       "      <th>CRIM</th>\n",
       "      <th>ZN</th>\n",
       "      <th>INDUS</th>\n",
       "      <th>CHAS</th>\n",
       "      <th>NOX</th>\n",
       "      <th>RM</th>\n",
       "      <th>AGE</th>\n",
       "      <th>DIS</th>\n",
       "      <th>RAD</th>\n",
       "      <th>TAX</th>\n",
       "      <th>PTRATIO</th>\n",
       "      <th>B</th>\n",
       "      <th>LSTAT</th>\n",
       "      <th>TARGET</th>\n",
       "    </tr>\n",
       "  </thead>\n",
       "  <tbody>\n",
       "    <tr>\n",
       "      <th>CRIM</th>\n",
       "      <td>1.000000</td>\n",
       "      <td>-0.332813</td>\n",
       "      <td>0.579908</td>\n",
       "      <td>-0.053139</td>\n",
       "      <td>0.605070</td>\n",
       "      <td>-0.280560</td>\n",
       "      <td>0.486606</td>\n",
       "      <td>-0.518734</td>\n",
       "      <td>0.872522</td>\n",
       "      <td>0.816263</td>\n",
       "      <td>0.397144</td>\n",
       "      <td>-0.498347</td>\n",
       "      <td>0.602029</td>\n",
       "      <td>-0.463781</td>\n",
       "    </tr>\n",
       "    <tr>\n",
       "      <th>ZN</th>\n",
       "      <td>-0.332813</td>\n",
       "      <td>1.000000</td>\n",
       "      <td>-0.580582</td>\n",
       "      <td>-0.034643</td>\n",
       "      <td>-0.550650</td>\n",
       "      <td>0.330549</td>\n",
       "      <td>-0.590833</td>\n",
       "      <td>0.683015</td>\n",
       "      <td>-0.342017</td>\n",
       "      <td>-0.371073</td>\n",
       "      <td>-0.429324</td>\n",
       "      <td>0.205038</td>\n",
       "      <td>-0.444728</td>\n",
       "      <td>0.374340</td>\n",
       "    </tr>\n",
       "    <tr>\n",
       "      <th>INDUS</th>\n",
       "      <td>0.579908</td>\n",
       "      <td>-0.580582</td>\n",
       "      <td>1.000000</td>\n",
       "      <td>0.062938</td>\n",
       "      <td>0.763651</td>\n",
       "      <td>-0.391676</td>\n",
       "      <td>0.644779</td>\n",
       "      <td>-0.708027</td>\n",
       "      <td>0.595129</td>\n",
       "      <td>0.720760</td>\n",
       "      <td>0.383248</td>\n",
       "      <td>-0.356977</td>\n",
       "      <td>0.603800</td>\n",
       "      <td>-0.483725</td>\n",
       "    </tr>\n",
       "    <tr>\n",
       "      <th>CHAS</th>\n",
       "      <td>-0.053139</td>\n",
       "      <td>-0.034643</td>\n",
       "      <td>0.062938</td>\n",
       "      <td>1.000000</td>\n",
       "      <td>0.091203</td>\n",
       "      <td>0.091251</td>\n",
       "      <td>0.086518</td>\n",
       "      <td>-0.099176</td>\n",
       "      <td>-0.007368</td>\n",
       "      <td>-0.035587</td>\n",
       "      <td>-0.121515</td>\n",
       "      <td>0.048788</td>\n",
       "      <td>-0.053929</td>\n",
       "      <td>0.175260</td>\n",
       "    </tr>\n",
       "    <tr>\n",
       "      <th>NOX</th>\n",
       "      <td>0.605070</td>\n",
       "      <td>-0.550650</td>\n",
       "      <td>0.763651</td>\n",
       "      <td>0.091203</td>\n",
       "      <td>1.000000</td>\n",
       "      <td>-0.302188</td>\n",
       "      <td>0.731470</td>\n",
       "      <td>-0.769230</td>\n",
       "      <td>0.611441</td>\n",
       "      <td>0.668023</td>\n",
       "      <td>0.188933</td>\n",
       "      <td>-0.380051</td>\n",
       "      <td>0.590879</td>\n",
       "      <td>-0.427321</td>\n",
       "    </tr>\n",
       "    <tr>\n",
       "      <th>RM</th>\n",
       "      <td>-0.280560</td>\n",
       "      <td>0.330549</td>\n",
       "      <td>-0.391676</td>\n",
       "      <td>0.091251</td>\n",
       "      <td>-0.302188</td>\n",
       "      <td>1.000000</td>\n",
       "      <td>-0.240265</td>\n",
       "      <td>0.205246</td>\n",
       "      <td>-0.209847</td>\n",
       "      <td>-0.292048</td>\n",
       "      <td>-0.355501</td>\n",
       "      <td>0.128069</td>\n",
       "      <td>-0.613808</td>\n",
       "      <td>0.695360</td>\n",
       "    </tr>\n",
       "    <tr>\n",
       "      <th>AGE</th>\n",
       "      <td>0.486606</td>\n",
       "      <td>-0.590833</td>\n",
       "      <td>0.644779</td>\n",
       "      <td>0.086518</td>\n",
       "      <td>0.731470</td>\n",
       "      <td>-0.240265</td>\n",
       "      <td>1.000000</td>\n",
       "      <td>-0.747881</td>\n",
       "      <td>0.456022</td>\n",
       "      <td>0.506456</td>\n",
       "      <td>0.261515</td>\n",
       "      <td>-0.273534</td>\n",
       "      <td>0.602339</td>\n",
       "      <td>-0.376955</td>\n",
       "    </tr>\n",
       "    <tr>\n",
       "      <th>DIS</th>\n",
       "      <td>-0.518734</td>\n",
       "      <td>0.683015</td>\n",
       "      <td>-0.708027</td>\n",
       "      <td>-0.099176</td>\n",
       "      <td>-0.769230</td>\n",
       "      <td>0.205246</td>\n",
       "      <td>-0.747881</td>\n",
       "      <td>1.000000</td>\n",
       "      <td>-0.494588</td>\n",
       "      <td>-0.534432</td>\n",
       "      <td>-0.232471</td>\n",
       "      <td>0.291512</td>\n",
       "      <td>-0.496996</td>\n",
       "      <td>0.249929</td>\n",
       "    </tr>\n",
       "    <tr>\n",
       "      <th>RAD</th>\n",
       "      <td>0.872522</td>\n",
       "      <td>-0.342017</td>\n",
       "      <td>0.595129</td>\n",
       "      <td>-0.007368</td>\n",
       "      <td>0.611441</td>\n",
       "      <td>-0.209847</td>\n",
       "      <td>0.456022</td>\n",
       "      <td>-0.494588</td>\n",
       "      <td>1.000000</td>\n",
       "      <td>0.910228</td>\n",
       "      <td>0.464741</td>\n",
       "      <td>-0.444413</td>\n",
       "      <td>0.488676</td>\n",
       "      <td>-0.381626</td>\n",
       "    </tr>\n",
       "    <tr>\n",
       "      <th>TAX</th>\n",
       "      <td>0.816263</td>\n",
       "      <td>-0.371073</td>\n",
       "      <td>0.720760</td>\n",
       "      <td>-0.035587</td>\n",
       "      <td>0.668023</td>\n",
       "      <td>-0.292048</td>\n",
       "      <td>0.506456</td>\n",
       "      <td>-0.534432</td>\n",
       "      <td>0.910228</td>\n",
       "      <td>1.000000</td>\n",
       "      <td>0.460853</td>\n",
       "      <td>-0.441808</td>\n",
       "      <td>0.543993</td>\n",
       "      <td>-0.468536</td>\n",
       "    </tr>\n",
       "    <tr>\n",
       "      <th>PTRATIO</th>\n",
       "      <td>0.397144</td>\n",
       "      <td>-0.429324</td>\n",
       "      <td>0.383248</td>\n",
       "      <td>-0.121515</td>\n",
       "      <td>0.188933</td>\n",
       "      <td>-0.355501</td>\n",
       "      <td>0.261515</td>\n",
       "      <td>-0.232471</td>\n",
       "      <td>0.464741</td>\n",
       "      <td>0.460853</td>\n",
       "      <td>1.000000</td>\n",
       "      <td>-0.177383</td>\n",
       "      <td>0.374044</td>\n",
       "      <td>-0.507787</td>\n",
       "    </tr>\n",
       "    <tr>\n",
       "      <th>B</th>\n",
       "      <td>-0.498347</td>\n",
       "      <td>0.205038</td>\n",
       "      <td>-0.356977</td>\n",
       "      <td>0.048788</td>\n",
       "      <td>-0.380051</td>\n",
       "      <td>0.128069</td>\n",
       "      <td>-0.273534</td>\n",
       "      <td>0.291512</td>\n",
       "      <td>-0.444413</td>\n",
       "      <td>-0.441808</td>\n",
       "      <td>-0.177383</td>\n",
       "      <td>1.000000</td>\n",
       "      <td>-0.366087</td>\n",
       "      <td>0.333461</td>\n",
       "    </tr>\n",
       "    <tr>\n",
       "      <th>LSTAT</th>\n",
       "      <td>0.602029</td>\n",
       "      <td>-0.444728</td>\n",
       "      <td>0.603800</td>\n",
       "      <td>-0.053929</td>\n",
       "      <td>0.590879</td>\n",
       "      <td>-0.613808</td>\n",
       "      <td>0.602339</td>\n",
       "      <td>-0.496996</td>\n",
       "      <td>0.488676</td>\n",
       "      <td>0.543993</td>\n",
       "      <td>0.374044</td>\n",
       "      <td>-0.366087</td>\n",
       "      <td>1.000000</td>\n",
       "      <td>-0.737663</td>\n",
       "    </tr>\n",
       "    <tr>\n",
       "      <th>TARGET</th>\n",
       "      <td>-0.463781</td>\n",
       "      <td>0.374340</td>\n",
       "      <td>-0.483725</td>\n",
       "      <td>0.175260</td>\n",
       "      <td>-0.427321</td>\n",
       "      <td>0.695360</td>\n",
       "      <td>-0.376955</td>\n",
       "      <td>0.249929</td>\n",
       "      <td>-0.381626</td>\n",
       "      <td>-0.468536</td>\n",
       "      <td>-0.507787</td>\n",
       "      <td>0.333461</td>\n",
       "      <td>-0.737663</td>\n",
       "      <td>1.000000</td>\n",
       "    </tr>\n",
       "  </tbody>\n",
       "</table>\n",
       "</div>"
      ],
      "text/plain": [
       "             CRIM        ZN     INDUS      CHAS       NOX        RM       AGE  \\\n",
       "CRIM     1.000000 -0.332813  0.579908 -0.053139  0.605070 -0.280560  0.486606   \n",
       "ZN      -0.332813  1.000000 -0.580582 -0.034643 -0.550650  0.330549 -0.590833   \n",
       "INDUS    0.579908 -0.580582  1.000000  0.062938  0.763651 -0.391676  0.644779   \n",
       "CHAS    -0.053139 -0.034643  0.062938  1.000000  0.091203  0.091251  0.086518   \n",
       "NOX      0.605070 -0.550650  0.763651  0.091203  1.000000 -0.302188  0.731470   \n",
       "RM      -0.280560  0.330549 -0.391676  0.091251 -0.302188  1.000000 -0.240265   \n",
       "AGE      0.486606 -0.590833  0.644779  0.086518  0.731470 -0.240265  1.000000   \n",
       "DIS     -0.518734  0.683015 -0.708027 -0.099176 -0.769230  0.205246 -0.747881   \n",
       "RAD      0.872522 -0.342017  0.595129 -0.007368  0.611441 -0.209847  0.456022   \n",
       "TAX      0.816263 -0.371073  0.720760 -0.035587  0.668023 -0.292048  0.506456   \n",
       "PTRATIO  0.397144 -0.429324  0.383248 -0.121515  0.188933 -0.355501  0.261515   \n",
       "B       -0.498347  0.205038 -0.356977  0.048788 -0.380051  0.128069 -0.273534   \n",
       "LSTAT    0.602029 -0.444728  0.603800 -0.053929  0.590879 -0.613808  0.602339   \n",
       "TARGET  -0.463781  0.374340 -0.483725  0.175260 -0.427321  0.695360 -0.376955   \n",
       "\n",
       "              DIS       RAD       TAX   PTRATIO         B     LSTAT    TARGET  \n",
       "CRIM    -0.518734  0.872522  0.816263  0.397144 -0.498347  0.602029 -0.463781  \n",
       "ZN       0.683015 -0.342017 -0.371073 -0.429324  0.205038 -0.444728  0.374340  \n",
       "INDUS   -0.708027  0.595129  0.720760  0.383248 -0.356977  0.603800 -0.483725  \n",
       "CHAS    -0.099176 -0.007368 -0.035587 -0.121515  0.048788 -0.053929  0.175260  \n",
       "NOX     -0.769230  0.611441  0.668023  0.188933 -0.380051  0.590879 -0.427321  \n",
       "RM       0.205246 -0.209847 -0.292048 -0.355501  0.128069 -0.613808  0.695360  \n",
       "AGE     -0.747881  0.456022  0.506456  0.261515 -0.273534  0.602339 -0.376955  \n",
       "DIS      1.000000 -0.494588 -0.534432 -0.232471  0.291512 -0.496996  0.249929  \n",
       "RAD     -0.494588  1.000000  0.910228  0.464741 -0.444413  0.488676 -0.381626  \n",
       "TAX     -0.534432  0.910228  1.000000  0.460853 -0.441808  0.543993 -0.468536  \n",
       "PTRATIO -0.232471  0.464741  0.460853  1.000000 -0.177383  0.374044 -0.507787  \n",
       "B        0.291512 -0.444413 -0.441808 -0.177383  1.000000 -0.366087  0.333461  \n",
       "LSTAT   -0.496996  0.488676  0.543993  0.374044 -0.366087  1.000000 -0.737663  \n",
       "TARGET   0.249929 -0.381626 -0.468536 -0.507787  0.333461 -0.737663  1.000000  "
      ]
     },
     "execution_count": 116,
     "metadata": {},
     "output_type": "execute_result"
    }
   ],
   "source": [
    "df.corr()"
   ]
  },
  {
   "cell_type": "code",
   "execution_count": 117,
   "id": "695291af",
   "metadata": {},
   "outputs": [
    {
     "data": {
      "text/plain": [
       "CRIM          19.946710\n",
       "ZN           186.154386\n",
       "INDUS         47.064442\n",
       "CHAS           0.064513\n",
       "NOX            0.013428\n",
       "RM             0.493671\n",
       "AGE          792.358399\n",
       "DIS            4.434015\n",
       "RAD           75.816366\n",
       "TAX        28404.759488\n",
       "PTRATIO        4.686989\n",
       "B           8334.752263\n",
       "LSTAT         50.994760\n",
       "TARGET        84.586724\n",
       "dtype: float64"
      ]
     },
     "execution_count": 117,
     "metadata": {},
     "output_type": "execute_result"
    }
   ],
   "source": [
    "df.var()"
   ]
  },
  {
   "cell_type": "code",
   "execution_count": 118,
   "id": "1e60d26f",
   "metadata": {},
   "outputs": [
    {
     "data": {
      "text/plain": [
       "Index(['CRIM', 'ZN', 'INDUS', 'CHAS', 'NOX', 'RM', 'AGE', 'DIS', 'RAD', 'TAX',\n",
       "       'PTRATIO', 'B', 'LSTAT', 'TARGET'],\n",
       "      dtype='object')"
      ]
     },
     "execution_count": 118,
     "metadata": {},
     "output_type": "execute_result"
    }
   ],
   "source": [
    "df.columns"
   ]
  },
  {
   "cell_type": "markdown",
   "id": "ea39475f",
   "metadata": {},
   "source": [
    "# Checking No Multicolinearity"
   ]
  },
  {
   "cell_type": "code",
   "execution_count": 119,
   "id": "b623b6b7",
   "metadata": {},
   "outputs": [
    {
     "name": "stdout",
     "output_type": "stream",
     "text": [
      "VIF of CRIM is:  7.535930537488396\n",
      "VIF of ZN is:  3.284556208108204\n",
      "VIF of INDUS is:  14.525947052093603\n",
      "VIF of CHAS is:  1.181634071815477\n",
      "VIF of NOX is:  73.9133347161984\n",
      "VIF of RM is:  137.4254397242946\n",
      "VIF of AGE is:  21.395000272249533\n",
      "VIF of DIS is:  15.673808144467502\n",
      "VIF of RAD is:  20.490128034134248\n",
      "VIF of TAX is:  59.98609938948368\n",
      "VIF of PTRATIO is:  88.86874786530079\n",
      "VIF of B is:  21.807477598352165\n",
      "VIF of LSTAT is:  13.538484465816762\n"
     ]
    }
   ],
   "source": [
    "vif_list=[]\n",
    "for i in range(df.shape[1]-1):\n",
    "    vif=variance_inflation_factor(df.to_numpy(),i)\n",
    "    print(f'VIF of {df.columns[i]} is: ',vif)\n",
    "    vif_list.append(vif)\n",
    "    "
   ]
  },
  {
   "cell_type": "code",
   "execution_count": 120,
   "id": "5d177d80",
   "metadata": {},
   "outputs": [
    {
     "data": {
      "text/plain": [
       "<Axes: >"
      ]
     },
     "execution_count": 120,
     "metadata": {},
     "output_type": "execute_result"
    },
    {
     "data": {
      "image/png": "[encoded data removed]",
      "text/plain": [
       "<Figure size 640x480 with 1 Axes>"
      ]
     },
     "metadata": {},
     "output_type": "display_data"
    }
   ],
   "source": [
    "s1= pd.Series(vif_list,index=df.columns[:-1])\n",
    "s1.sort_values().plot(kind='bar')"
   ]
  },
  {
   "cell_type": "code",
   "execution_count": 121,
   "id": "f200c046",
   "metadata": {},
   "outputs": [
    {
     "data": {
      "text/plain": [
       "<Axes: >"
      ]
     },
     "execution_count": 121,
     "metadata": {},
     "output_type": "execute_result"
    },
    {
     "data": {
      "image/png": "[encoded data removed]",
      "text/plain": [
       "<Figure size 640x480 with 1 Axes>"
      ]
     },
     "metadata": {},
     "output_type": "display_data"
    }
   ],
   "source": [
    "s1.sort_values().plot(kind='barh')"
   ]
  },
  {
   "cell_type": "markdown",
   "id": "46f6275c",
   "metadata": {},
   "source": [
    "# Model Training"
   ]
  },
  {
   "cell_type": "code",
   "execution_count": 122,
   "id": "f240224e",
   "metadata": {},
   "outputs": [],
   "source": [
    "x=df.drop('TARGET',axis=1)\n",
    "y=df['TARGET']"
   ]
  },
  {
   "cell_type": "code",
   "execution_count": 123,
   "id": "f45e82b6",
   "metadata": {},
   "outputs": [
    {
     "data": {
      "text/html": [
       "<div>\n",
       "<style scoped>\n",
       "    .dataframe tbody tr th:only-of-type {\n",
       "        vertical-align: middle;\n",
       "    }\n",
       "\n",
       "    .dataframe tbody tr th {\n",
       "        vertical-align: top;\n",
       "    }\n",
       "\n",
       "    .dataframe thead th {\n",
       "        text-align: right;\n",
       "    }\n",
       "</style>\n",
       "<table border=\"1\" class=\"dataframe\">\n",
       "  <thead>\n",
       "    <tr style=\"text-align: right;\">\n",
       "      <th></th>\n",
       "      <th>CRIM</th>\n",
       "      <th>ZN</th>\n",
       "      <th>INDUS</th>\n",
       "      <th>CHAS</th>\n",
       "      <th>NOX</th>\n",
       "      <th>RM</th>\n",
       "      <th>AGE</th>\n",
       "      <th>DIS</th>\n",
       "      <th>RAD</th>\n",
       "      <th>TAX</th>\n",
       "      <th>PTRATIO</th>\n",
       "      <th>B</th>\n",
       "      <th>LSTAT</th>\n",
       "    </tr>\n",
       "  </thead>\n",
       "  <tbody>\n",
       "    <tr>\n",
       "      <th>0</th>\n",
       "      <td>0.00632</td>\n",
       "      <td>18.0</td>\n",
       "      <td>2.31</td>\n",
       "      <td>0.0</td>\n",
       "      <td>0.538</td>\n",
       "      <td>6.575</td>\n",
       "      <td>65.2</td>\n",
       "      <td>4.0900</td>\n",
       "      <td>1.0</td>\n",
       "      <td>296.0</td>\n",
       "      <td>15.3</td>\n",
       "      <td>396.90</td>\n",
       "      <td>4.98</td>\n",
       "    </tr>\n",
       "    <tr>\n",
       "      <th>1</th>\n",
       "      <td>0.02731</td>\n",
       "      <td>0.0</td>\n",
       "      <td>7.07</td>\n",
       "      <td>0.0</td>\n",
       "      <td>0.469</td>\n",
       "      <td>6.421</td>\n",
       "      <td>78.9</td>\n",
       "      <td>4.9671</td>\n",
       "      <td>2.0</td>\n",
       "      <td>242.0</td>\n",
       "      <td>17.8</td>\n",
       "      <td>396.90</td>\n",
       "      <td>9.14</td>\n",
       "    </tr>\n",
       "    <tr>\n",
       "      <th>2</th>\n",
       "      <td>0.02729</td>\n",
       "      <td>0.0</td>\n",
       "      <td>7.07</td>\n",
       "      <td>0.0</td>\n",
       "      <td>0.469</td>\n",
       "      <td>7.185</td>\n",
       "      <td>61.1</td>\n",
       "      <td>4.9671</td>\n",
       "      <td>2.0</td>\n",
       "      <td>242.0</td>\n",
       "      <td>17.8</td>\n",
       "      <td>392.83</td>\n",
       "      <td>4.03</td>\n",
       "    </tr>\n",
       "    <tr>\n",
       "      <th>3</th>\n",
       "      <td>0.03237</td>\n",
       "      <td>0.0</td>\n",
       "      <td>2.18</td>\n",
       "      <td>0.0</td>\n",
       "      <td>0.458</td>\n",
       "      <td>6.998</td>\n",
       "      <td>45.8</td>\n",
       "      <td>6.0622</td>\n",
       "      <td>3.0</td>\n",
       "      <td>222.0</td>\n",
       "      <td>18.7</td>\n",
       "      <td>394.63</td>\n",
       "      <td>2.94</td>\n",
       "    </tr>\n",
       "    <tr>\n",
       "      <th>4</th>\n",
       "      <td>0.06905</td>\n",
       "      <td>0.0</td>\n",
       "      <td>2.18</td>\n",
       "      <td>0.0</td>\n",
       "      <td>0.458</td>\n",
       "      <td>7.147</td>\n",
       "      <td>54.2</td>\n",
       "      <td>6.0622</td>\n",
       "      <td>3.0</td>\n",
       "      <td>222.0</td>\n",
       "      <td>18.7</td>\n",
       "      <td>396.90</td>\n",
       "      <td>5.33</td>\n",
       "    </tr>\n",
       "    <tr>\n",
       "      <th>...</th>\n",
       "      <td>...</td>\n",
       "      <td>...</td>\n",
       "      <td>...</td>\n",
       "      <td>...</td>\n",
       "      <td>...</td>\n",
       "      <td>...</td>\n",
       "      <td>...</td>\n",
       "      <td>...</td>\n",
       "      <td>...</td>\n",
       "      <td>...</td>\n",
       "      <td>...</td>\n",
       "      <td>...</td>\n",
       "      <td>...</td>\n",
       "    </tr>\n",
       "    <tr>\n",
       "      <th>501</th>\n",
       "      <td>0.06263</td>\n",
       "      <td>0.0</td>\n",
       "      <td>11.93</td>\n",
       "      <td>0.0</td>\n",
       "      <td>0.573</td>\n",
       "      <td>6.593</td>\n",
       "      <td>69.1</td>\n",
       "      <td>2.4786</td>\n",
       "      <td>1.0</td>\n",
       "      <td>273.0</td>\n",
       "      <td>21.0</td>\n",
       "      <td>391.99</td>\n",
       "      <td>9.67</td>\n",
       "    </tr>\n",
       "    <tr>\n",
       "      <th>502</th>\n",
       "      <td>0.04527</td>\n",
       "      <td>0.0</td>\n",
       "      <td>11.93</td>\n",
       "      <td>0.0</td>\n",
       "      <td>0.573</td>\n",
       "      <td>6.120</td>\n",
       "      <td>76.7</td>\n",
       "      <td>2.2875</td>\n",
       "      <td>1.0</td>\n",
       "      <td>273.0</td>\n",
       "      <td>21.0</td>\n",
       "      <td>396.90</td>\n",
       "      <td>9.08</td>\n",
       "    </tr>\n",
       "    <tr>\n",
       "      <th>503</th>\n",
       "      <td>0.06076</td>\n",
       "      <td>0.0</td>\n",
       "      <td>11.93</td>\n",
       "      <td>0.0</td>\n",
       "      <td>0.573</td>\n",
       "      <td>6.976</td>\n",
       "      <td>91.0</td>\n",
       "      <td>2.1675</td>\n",
       "      <td>1.0</td>\n",
       "      <td>273.0</td>\n",
       "      <td>21.0</td>\n",
       "      <td>396.90</td>\n",
       "      <td>5.64</td>\n",
       "    </tr>\n",
       "    <tr>\n",
       "      <th>504</th>\n",
       "      <td>0.10959</td>\n",
       "      <td>0.0</td>\n",
       "      <td>11.93</td>\n",
       "      <td>0.0</td>\n",
       "      <td>0.573</td>\n",
       "      <td>6.794</td>\n",
       "      <td>89.3</td>\n",
       "      <td>2.3889</td>\n",
       "      <td>1.0</td>\n",
       "      <td>273.0</td>\n",
       "      <td>21.0</td>\n",
       "      <td>393.45</td>\n",
       "      <td>6.48</td>\n",
       "    </tr>\n",
       "    <tr>\n",
       "      <th>505</th>\n",
       "      <td>0.04741</td>\n",
       "      <td>0.0</td>\n",
       "      <td>11.93</td>\n",
       "      <td>0.0</td>\n",
       "      <td>0.573</td>\n",
       "      <td>6.030</td>\n",
       "      <td>80.8</td>\n",
       "      <td>2.5050</td>\n",
       "      <td>1.0</td>\n",
       "      <td>273.0</td>\n",
       "      <td>21.0</td>\n",
       "      <td>396.90</td>\n",
       "      <td>7.88</td>\n",
       "    </tr>\n",
       "  </tbody>\n",
       "</table>\n",
       "<p>506 rows × 13 columns</p>\n",
       "</div>"
      ],
      "text/plain": [
       "        CRIM    ZN  INDUS  CHAS    NOX     RM   AGE     DIS  RAD    TAX  \\\n",
       "0    0.00632  18.0   2.31   0.0  0.538  6.575  65.2  4.0900  1.0  296.0   \n",
       "1    0.02731   0.0   7.07   0.0  0.469  6.421  78.9  4.9671  2.0  242.0   \n",
       "2    0.02729   0.0   7.07   0.0  0.469  7.185  61.1  4.9671  2.0  242.0   \n",
       "3    0.03237   0.0   2.18   0.0  0.458  6.998  45.8  6.0622  3.0  222.0   \n",
       "4    0.06905   0.0   2.18   0.0  0.458  7.147  54.2  6.0622  3.0  222.0   \n",
       "..       ...   ...    ...   ...    ...    ...   ...     ...  ...    ...   \n",
       "501  0.06263   0.0  11.93   0.0  0.573  6.593  69.1  2.4786  1.0  273.0   \n",
       "502  0.04527   0.0  11.93   0.0  0.573  6.120  76.7  2.2875  1.0  273.0   \n",
       "503  0.06076   0.0  11.93   0.0  0.573  6.976  91.0  2.1675  1.0  273.0   \n",
       "504  0.10959   0.0  11.93   0.0  0.573  6.794  89.3  2.3889  1.0  273.0   \n",
       "505  0.04741   0.0  11.93   0.0  0.573  6.030  80.8  2.5050  1.0  273.0   \n",
       "\n",
       "     PTRATIO       B  LSTAT  \n",
       "0       15.3  396.90   4.98  \n",
       "1       17.8  396.90   9.14  \n",
       "2       17.8  392.83   4.03  \n",
       "3       18.7  394.63   2.94  \n",
       "4       18.7  396.90   5.33  \n",
       "..       ...     ...    ...  \n",
       "501     21.0  391.99   9.67  \n",
       "502     21.0  396.90   9.08  \n",
       "503     21.0  396.90   5.64  \n",
       "504     21.0  393.45   6.48  \n",
       "505     21.0  396.90   7.88  \n",
       "\n",
       "[506 rows x 13 columns]"
      ]
     },
     "execution_count": 123,
     "metadata": {},
     "output_type": "execute_result"
    }
   ],
   "source": [
    "x"
   ]
  },
  {
   "cell_type": "code",
   "execution_count": 124,
   "id": "7d786392",
   "metadata": {},
   "outputs": [],
   "source": [
    "x_train,x_test,y_train,y_test= train_test_split(x,y,test_size=0.20,random_state=42)"
   ]
  },
  {
   "cell_type": "markdown",
   "id": "bf7294c1",
   "metadata": {},
   "source": [
    "# Training on Linear Regression"
   ]
  },
  {
   "cell_type": "code",
   "execution_count": 125,
   "id": "3acdb0e5",
   "metadata": {},
   "outputs": [],
   "source": [
    "linear_reg=LinearRegression()"
   ]
  },
  {
   "cell_type": "code",
   "execution_count": 126,
   "id": "29a5a9a5",
   "metadata": {},
   "outputs": [
    {
     "data": {
      "text/html": [
       "<style>#sk-container-id-14 {color: black;}#sk-container-id-14 pre{padding: 0;}#sk-container-id-14 div.sk-toggleable {background-color: white;}#sk-container-id-14 label.sk-toggleable__label {cursor: pointer;display: block;width: 100%;margin-bottom: 0;padding: 0.3em;box-sizing: border-box;text-align: center;}#sk-container-id-14 label.sk-toggleable__label-arrow:before {content: \"▸\";float: left;margin-right: 0.25em;color: #696969;}#sk-container-id-14 label.sk-toggleable__label-arrow:hover:before {color: black;}#sk-container-id-14 div.sk-estimator:hover label.sk-toggleable__label-arrow:before {color: black;}#sk-container-id-14 div.sk-toggleable__content {max-height: 0;max-width: 0;overflow: hidden;text-align: left;background-color: #f0f8ff;}#sk-container-id-14 div.sk-toggleable__content pre {margin: 0.2em;color: black;border-radius: 0.25em;background-color: #f0f8ff;}#sk-container-id-14 input.sk-toggleable__control:checked~div.sk-toggleable__content {max-height: 200px;max-width: 100%;overflow: auto;}#sk-container-id-14 input.sk-toggleable__control:checked~label.sk-toggleable__label-arrow:before {content: \"▾\";}#sk-container-id-14 div.sk-estimator input.sk-toggleable__control:checked~label.sk-toggleable__label {background-color: #d4ebff;}#sk-container-id-14 div.sk-label input.sk-toggleable__control:checked~label.sk-toggleable__label {background-color: #d4ebff;}#sk-container-id-14 input.sk-hidden--visually {border: 0;clip: rect(1px 1px 1px 1px);clip: rect(1px, 1px, 1px, 1px);height: 1px;margin: -1px;overflow: hidden;padding: 0;position: absolute;width: 1px;}#sk-container-id-14 div.sk-estimator {font-family: monospace;background-color: #f0f8ff;border: 1px dotted black;border-radius: 0.25em;box-sizing: border-box;margin-bottom: 0.5em;}#sk-container-id-14 div.sk-estimator:hover {background-color: #d4ebff;}#sk-container-id-14 div.sk-parallel-item::after {content: \"\";width: 100%;border-bottom: 1px solid gray;flex-grow: 1;}#sk-container-id-14 div.sk-label:hover label.sk-toggleable__label {background-color: #d4ebff;}#sk-container-id-14 div.sk-serial::before {content: \"\";position: absolute;border-left: 1px solid gray;box-sizing: border-box;top: 0;bottom: 0;left: 50%;z-index: 0;}#sk-container-id-14 div.sk-serial {display: flex;flex-direction: column;align-items: center;background-color: white;padding-right: 0.2em;padding-left: 0.2em;position: relative;}#sk-container-id-14 div.sk-item {position: relative;z-index: 1;}#sk-container-id-14 div.sk-parallel {display: flex;align-items: stretch;justify-content: center;background-color: white;position: relative;}#sk-container-id-14 div.sk-item::before, #sk-container-id-14 div.sk-parallel-item::before {content: \"\";position: absolute;border-left: 1px solid gray;box-sizing: border-box;top: 0;bottom: 0;left: 50%;z-index: -1;}#sk-container-id-14 div.sk-parallel-item {display: flex;flex-direction: column;z-index: 1;position: relative;background-color: white;}#sk-container-id-14 div.sk-parallel-item:first-child::after {align-self: flex-end;width: 50%;}#sk-container-id-14 div.sk-parallel-item:last-child::after {align-self: flex-start;width: 50%;}#sk-container-id-14 div.sk-parallel-item:only-child::after {width: 0;}#sk-container-id-14 div.sk-dashed-wrapped {border: 1px dashed gray;margin: 0 0.4em 0.5em 0.4em;box-sizing: border-box;padding-bottom: 0.4em;background-color: white;}#sk-container-id-14 div.sk-label label {font-family: monospace;font-weight: bold;display: inline-block;line-height: 1.2em;}#sk-container-id-14 div.sk-label-container {text-align: center;}#sk-container-id-14 div.sk-container {/* jupyter's `normalize.less` sets `[hidden] { display: none; }` but bootstrap.min.css set `[hidden] { display: none !important; }` so we also need the `!important` here to be able to override the default hidden behavior on the sphinx rendered scikit-learn.org. See: https://github.com/scikit-learn/scikit-learn/issues/21755 */display: inline-block !important;position: relative;}#sk-container-id-14 div.sk-text-repr-fallback {display: none;}</style><div id=\"sk-container-id-14\" class=\"sk-top-container\"><div class=\"sk-text-repr-fallback\"><pre>LinearRegression()</pre><b>In a Jupyter environment, please rerun this cell to show the HTML representation or trust the notebook. <br />On GitHub, the HTML representation is unable to render, please try loading this page with nbviewer.org.</b></div><div class=\"sk-container\" hidden><div class=\"sk-item\"><div class=\"sk-estimator sk-toggleable\"><input class=\"sk-toggleable__control sk-hidden--visually\" id=\"sk-estimator-id-18\" type=\"checkbox\" checked><label for=\"sk-estimator-id-18\" class=\"sk-toggleable__label sk-toggleable__label-arrow\">LinearRegression</label><div class=\"sk-toggleable__content\"><pre>LinearRegression()</pre></div></div></div></div></div>"
      ],
      "text/plain": [
       "LinearRegression()"
      ]
     },
     "execution_count": 126,
     "metadata": {},
     "output_type": "execute_result"
    }
   ],
   "source": [
    "linear_reg.fit(x_train,y_train)"
   ]
  },
  {
   "cell_type": "code",
   "execution_count": 127,
   "id": "dbb5aa89",
   "metadata": {},
   "outputs": [
    {
     "data": {
      "text/plain": [
       "array([-1.81314317e-01,  2.07545677e-02,  3.40337228e-02,  2.88159155e+00,\n",
       "       -1.70033326e+01,  4.51378319e+00, -8.51084473e-03, -1.32061376e+00,\n",
       "        2.53855654e-01, -8.96422073e-03, -9.67913565e-01,  1.25626375e-02,\n",
       "       -5.00604280e-01])"
      ]
     },
     "execution_count": 127,
     "metadata": {},
     "output_type": "execute_result"
    }
   ],
   "source": [
    "linear_reg.coef_"
   ]
  },
  {
   "cell_type": "code",
   "execution_count": 128,
   "id": "4d347c9d",
   "metadata": {},
   "outputs": [
    {
     "data": {
      "text/plain": [
       "29.839788952258953"
      ]
     },
     "execution_count": 128,
     "metadata": {},
     "output_type": "execute_result"
    }
   ],
   "source": [
    "linear_reg.intercept_"
   ]
  },
  {
   "cell_type": "code",
   "execution_count": 129,
   "id": "9a5ccc0e",
   "metadata": {},
   "outputs": [],
   "source": [
    "yp_train=linear_reg.predict(x_train)"
   ]
  },
  {
   "cell_type": "code",
   "execution_count": 130,
   "id": "fb4046c4",
   "metadata": {},
   "outputs": [
    {
     "data": {
      "text/plain": [
       "array([10.22318626, 19.43404547, 23.37700068, 11.83383492, 18.28442392])"
      ]
     },
     "execution_count": 130,
     "metadata": {},
     "output_type": "execute_result"
    }
   ],
   "source": [
    "yp_train[0:5]"
   ]
  },
  {
   "cell_type": "code",
   "execution_count": 131,
   "id": "7ce93387",
   "metadata": {},
   "outputs": [
    {
     "data": {
      "text/plain": [
       "477    12.0\n",
       "15     19.9\n",
       "332    19.4\n",
       "423    13.4\n",
       "19     18.2\n",
       "Name: TARGET, dtype: float64"
      ]
     },
     "execution_count": 131,
     "metadata": {},
     "output_type": "execute_result"
    }
   ],
   "source": [
    "y_train[0:5]"
   ]
  },
  {
   "cell_type": "markdown",
   "id": "1a62f601",
   "metadata": {},
   "source": [
    "# Evaluation Of Training Data"
   ]
  },
  {
   "cell_type": "code",
   "execution_count": 132,
   "id": "946d0f4c",
   "metadata": {},
   "outputs": [
    {
     "name": "stdout",
     "output_type": "stream",
     "text": [
      "MSE of taining data :  22.235026551760665\n",
      "RMSE of taining data :  4.715403116570275\n",
      "MAE of taining data :  3.344164241128678\n",
      "R2 score of taining data :  0.7440525457651601\n"
     ]
    }
   ],
   "source": [
    "mse=mean_squared_error(y_train,yp_train)\n",
    "print('MSE of taining data : ',mse)\n",
    "rmse=np.sqrt(mse)\n",
    "print('RMSE of taining data : ',rmse)\n",
    "mae=mean_absolute_error(y_train,yp_train)\n",
    "print('MAE of taining data : ',mae)\n",
    "r2_sqaure=r2_score(y_train,yp_train)\n",
    "print('R2 score of taining data : ',r2_sqaure)"
   ]
  },
  {
   "cell_type": "markdown",
   "id": "a9241d4e",
   "metadata": {},
   "source": [
    "# Evaluation of Testing Data"
   ]
  },
  {
   "cell_type": "code",
   "execution_count": 133,
   "id": "f44e3b8b",
   "metadata": {},
   "outputs": [],
   "source": [
    "yp_test=linear_reg.predict(x_test)"
   ]
  },
  {
   "cell_type": "code",
   "execution_count": 134,
   "id": "8247d28a",
   "metadata": {},
   "outputs": [
    {
     "name": "stdout",
     "output_type": "stream",
     "text": [
      "MSE of testing data :  24.94662741984407\n",
      "\n",
      "RMSE of testing data :  4.994659890307254\n",
      "\n",
      "MAE of testing data :  3.2648531355633343\n",
      "\n",
      "R2 score of testing data :  0.6598208036628148\n",
      "\n"
     ]
    }
   ],
   "source": [
    "mse=mean_squared_error(y_test,yp_test)\n",
    "print('MSE of testing data : ',mse)\n",
    "print()\n",
    "rmse=np.sqrt(mse)\n",
    "print('RMSE of testing data : ',rmse)\n",
    "print()\n",
    "mae=mean_absolute_error(y_test,yp_test)\n",
    "print('MAE of testing data : ',mae)\n",
    "print()\n",
    "r2_sqaured=r2_score(y_test,yp_test)\n",
    "print('R2 score of testing data : ',r2_sqaured)\n",
    "print()"
   ]
  },
  {
   "cell_type": "markdown",
   "id": "5df5a458",
   "metadata": {},
   "source": [
    "# Applying Regularisation"
   ]
  },
  {
   "cell_type": "markdown",
   "id": "59d8be34",
   "metadata": {},
   "source": [
    "# Lasso Regression"
   ]
  },
  {
   "cell_type": "code",
   "execution_count": 135,
   "id": "b185aa24",
   "metadata": {},
   "outputs": [
    {
     "data": {
      "text/html": [
       "<style>#sk-container-id-15 {color: black;}#sk-container-id-15 pre{padding: 0;}#sk-container-id-15 div.sk-toggleable {background-color: white;}#sk-container-id-15 label.sk-toggleable__label {cursor: pointer;display: block;width: 100%;margin-bottom: 0;padding: 0.3em;box-sizing: border-box;text-align: center;}#sk-container-id-15 label.sk-toggleable__label-arrow:before {content: \"▸\";float: left;margin-right: 0.25em;color: #696969;}#sk-container-id-15 label.sk-toggleable__label-arrow:hover:before {color: black;}#sk-container-id-15 div.sk-estimator:hover label.sk-toggleable__label-arrow:before {color: black;}#sk-container-id-15 div.sk-toggleable__content {max-height: 0;max-width: 0;overflow: hidden;text-align: left;background-color: #f0f8ff;}#sk-container-id-15 div.sk-toggleable__content pre {margin: 0.2em;color: black;border-radius: 0.25em;background-color: #f0f8ff;}#sk-container-id-15 input.sk-toggleable__control:checked~div.sk-toggleable__content {max-height: 200px;max-width: 100%;overflow: auto;}#sk-container-id-15 input.sk-toggleable__control:checked~label.sk-toggleable__label-arrow:before {content: \"▾\";}#sk-container-id-15 div.sk-estimator input.sk-toggleable__control:checked~label.sk-toggleable__label {background-color: #d4ebff;}#sk-container-id-15 div.sk-label input.sk-toggleable__control:checked~label.sk-toggleable__label {background-color: #d4ebff;}#sk-container-id-15 input.sk-hidden--visually {border: 0;clip: rect(1px 1px 1px 1px);clip: rect(1px, 1px, 1px, 1px);height: 1px;margin: -1px;overflow: hidden;padding: 0;position: absolute;width: 1px;}#sk-container-id-15 div.sk-estimator {font-family: monospace;background-color: #f0f8ff;border: 1px dotted black;border-radius: 0.25em;box-sizing: border-box;margin-bottom: 0.5em;}#sk-container-id-15 div.sk-estimator:hover {background-color: #d4ebff;}#sk-container-id-15 div.sk-parallel-item::after {content: \"\";width: 100%;border-bottom: 1px solid gray;flex-grow: 1;}#sk-container-id-15 div.sk-label:hover label.sk-toggleable__label {background-color: #d4ebff;}#sk-container-id-15 div.sk-serial::before {content: \"\";position: absolute;border-left: 1px solid gray;box-sizing: border-box;top: 0;bottom: 0;left: 50%;z-index: 0;}#sk-container-id-15 div.sk-serial {display: flex;flex-direction: column;align-items: center;background-color: white;padding-right: 0.2em;padding-left: 0.2em;position: relative;}#sk-container-id-15 div.sk-item {position: relative;z-index: 1;}#sk-container-id-15 div.sk-parallel {display: flex;align-items: stretch;justify-content: center;background-color: white;position: relative;}#sk-container-id-15 div.sk-item::before, #sk-container-id-15 div.sk-parallel-item::before {content: \"\";position: absolute;border-left: 1px solid gray;box-sizing: border-box;top: 0;bottom: 0;left: 50%;z-index: -1;}#sk-container-id-15 div.sk-parallel-item {display: flex;flex-direction: column;z-index: 1;position: relative;background-color: white;}#sk-container-id-15 div.sk-parallel-item:first-child::after {align-self: flex-end;width: 50%;}#sk-container-id-15 div.sk-parallel-item:last-child::after {align-self: flex-start;width: 50%;}#sk-container-id-15 div.sk-parallel-item:only-child::after {width: 0;}#sk-container-id-15 div.sk-dashed-wrapped {border: 1px dashed gray;margin: 0 0.4em 0.5em 0.4em;box-sizing: border-box;padding-bottom: 0.4em;background-color: white;}#sk-container-id-15 div.sk-label label {font-family: monospace;font-weight: bold;display: inline-block;line-height: 1.2em;}#sk-container-id-15 div.sk-label-container {text-align: center;}#sk-container-id-15 div.sk-container {/* jupyter's `normalize.less` sets `[hidden] { display: none; }` but bootstrap.min.css set `[hidden] { display: none !important; }` so we also need the `!important` here to be able to override the default hidden behavior on the sphinx rendered scikit-learn.org. See: https://github.com/scikit-learn/scikit-learn/issues/21755 */display: inline-block !important;position: relative;}#sk-container-id-15 div.sk-text-repr-fallback {display: none;}</style><div id=\"sk-container-id-15\" class=\"sk-top-container\"><div class=\"sk-text-repr-fallback\"><pre>Lasso()</pre><b>In a Jupyter environment, please rerun this cell to show the HTML representation or trust the notebook. <br />On GitHub, the HTML representation is unable to render, please try loading this page with nbviewer.org.</b></div><div class=\"sk-container\" hidden><div class=\"sk-item\"><div class=\"sk-estimator sk-toggleable\"><input class=\"sk-toggleable__control sk-hidden--visually\" id=\"sk-estimator-id-19\" type=\"checkbox\" checked><label for=\"sk-estimator-id-19\" class=\"sk-toggleable__label sk-toggleable__label-arrow\">Lasso</label><div class=\"sk-toggleable__content\"><pre>Lasso()</pre></div></div></div></div></div>"
      ],
      "text/plain": [
       "Lasso()"
      ]
     },
     "execution_count": 135,
     "metadata": {},
     "output_type": "execute_result"
    }
   ],
   "source": [
    "lasso_LR=Lasso()\n",
    "lasso_LR.fit(x_train,y_train)"
   ]
  },
  {
   "cell_type": "code",
   "execution_count": 136,
   "id": "6cfdcd4b",
   "metadata": {},
   "outputs": [
    {
     "data": {
      "text/plain": [
       "0.6882601425344654"
      ]
     },
     "execution_count": 136,
     "metadata": {},
     "output_type": "execute_result"
    }
   ],
   "source": [
    "lasso_LR.score(x_train,y_train)"
   ]
  },
  {
   "cell_type": "code",
   "execution_count": 137,
   "id": "40b45d8a",
   "metadata": {},
   "outputs": [],
   "source": [
    "yp_train=lasso_LR.predict(x_train)"
   ]
  },
  {
   "cell_type": "code",
   "execution_count": 138,
   "id": "9049419a",
   "metadata": {},
   "outputs": [
    {
     "data": {
      "text/html": [
       "<style>#sk-container-id-16 {color: black;}#sk-container-id-16 pre{padding: 0;}#sk-container-id-16 div.sk-toggleable {background-color: white;}#sk-container-id-16 label.sk-toggleable__label {cursor: pointer;display: block;width: 100%;margin-bottom: 0;padding: 0.3em;box-sizing: border-box;text-align: center;}#sk-container-id-16 label.sk-toggleable__label-arrow:before {content: \"▸\";float: left;margin-right: 0.25em;color: #696969;}#sk-container-id-16 label.sk-toggleable__label-arrow:hover:before {color: black;}#sk-container-id-16 div.sk-estimator:hover label.sk-toggleable__label-arrow:before {color: black;}#sk-container-id-16 div.sk-toggleable__content {max-height: 0;max-width: 0;overflow: hidden;text-align: left;background-color: #f0f8ff;}#sk-container-id-16 div.sk-toggleable__content pre {margin: 0.2em;color: black;border-radius: 0.25em;background-color: #f0f8ff;}#sk-container-id-16 input.sk-toggleable__control:checked~div.sk-toggleable__content {max-height: 200px;max-width: 100%;overflow: auto;}#sk-container-id-16 input.sk-toggleable__control:checked~label.sk-toggleable__label-arrow:before {content: \"▾\";}#sk-container-id-16 div.sk-estimator input.sk-toggleable__control:checked~label.sk-toggleable__label {background-color: #d4ebff;}#sk-container-id-16 div.sk-label input.sk-toggleable__control:checked~label.sk-toggleable__label {background-color: #d4ebff;}#sk-container-id-16 input.sk-hidden--visually {border: 0;clip: rect(1px 1px 1px 1px);clip: rect(1px, 1px, 1px, 1px);height: 1px;margin: -1px;overflow: hidden;padding: 0;position: absolute;width: 1px;}#sk-container-id-16 div.sk-estimator {font-family: monospace;background-color: #f0f8ff;border: 1px dotted black;border-radius: 0.25em;box-sizing: border-box;margin-bottom: 0.5em;}#sk-container-id-16 div.sk-estimator:hover {background-color: #d4ebff;}#sk-container-id-16 div.sk-parallel-item::after {content: \"\";width: 100%;border-bottom: 1px solid gray;flex-grow: 1;}#sk-container-id-16 div.sk-label:hover label.sk-toggleable__label {background-color: #d4ebff;}#sk-container-id-16 div.sk-serial::before {content: \"\";position: absolute;border-left: 1px solid gray;box-sizing: border-box;top: 0;bottom: 0;left: 50%;z-index: 0;}#sk-container-id-16 div.sk-serial {display: flex;flex-direction: column;align-items: center;background-color: white;padding-right: 0.2em;padding-left: 0.2em;position: relative;}#sk-container-id-16 div.sk-item {position: relative;z-index: 1;}#sk-container-id-16 div.sk-parallel {display: flex;align-items: stretch;justify-content: center;background-color: white;position: relative;}#sk-container-id-16 div.sk-item::before, #sk-container-id-16 div.sk-parallel-item::before {content: \"\";position: absolute;border-left: 1px solid gray;box-sizing: border-box;top: 0;bottom: 0;left: 50%;z-index: -1;}#sk-container-id-16 div.sk-parallel-item {display: flex;flex-direction: column;z-index: 1;position: relative;background-color: white;}#sk-container-id-16 div.sk-parallel-item:first-child::after {align-self: flex-end;width: 50%;}#sk-container-id-16 div.sk-parallel-item:last-child::after {align-self: flex-start;width: 50%;}#sk-container-id-16 div.sk-parallel-item:only-child::after {width: 0;}#sk-container-id-16 div.sk-dashed-wrapped {border: 1px dashed gray;margin: 0 0.4em 0.5em 0.4em;box-sizing: border-box;padding-bottom: 0.4em;background-color: white;}#sk-container-id-16 div.sk-label label {font-family: monospace;font-weight: bold;display: inline-block;line-height: 1.2em;}#sk-container-id-16 div.sk-label-container {text-align: center;}#sk-container-id-16 div.sk-container {/* jupyter's `normalize.less` sets `[hidden] { display: none; }` but bootstrap.min.css set `[hidden] { display: none !important; }` so we also need the `!important` here to be able to override the default hidden behavior on the sphinx rendered scikit-learn.org. See: https://github.com/scikit-learn/scikit-learn/issues/21755 */display: inline-block !important;position: relative;}#sk-container-id-16 div.sk-text-repr-fallback {display: none;}</style><div id=\"sk-container-id-16\" class=\"sk-top-container\"><div class=\"sk-text-repr-fallback\"><pre>Lasso(alpha=2)</pre><b>In a Jupyter environment, please rerun this cell to show the HTML representation or trust the notebook. <br />On GitHub, the HTML representation is unable to render, please try loading this page with nbviewer.org.</b></div><div class=\"sk-container\" hidden><div class=\"sk-item\"><div class=\"sk-estimator sk-toggleable\"><input class=\"sk-toggleable__control sk-hidden--visually\" id=\"sk-estimator-id-20\" type=\"checkbox\" checked><label for=\"sk-estimator-id-20\" class=\"sk-toggleable__label sk-toggleable__label-arrow\">Lasso</label><div class=\"sk-toggleable__content\"><pre>Lasso(alpha=2)</pre></div></div></div></div></div>"
      ],
      "text/plain": [
       "Lasso(alpha=2)"
      ]
     },
     "execution_count": 138,
     "metadata": {},
     "output_type": "execute_result"
    }
   ],
   "source": [
    "lasso_LR=Lasso(alpha=2)\n",
    "lasso_LR.fit(x_train,y_train)"
   ]
  },
  {
   "cell_type": "code",
   "execution_count": 139,
   "id": "308c63c1",
   "metadata": {},
   "outputs": [
    {
     "data": {
      "text/plain": [
       "0.6171455423246786"
      ]
     },
     "execution_count": 139,
     "metadata": {},
     "output_type": "execute_result"
    }
   ],
   "source": [
    "lasso_LR.score(x_train,y_train)"
   ]
  },
  {
   "cell_type": "code",
   "execution_count": 140,
   "id": "3fafaa6b",
   "metadata": {},
   "outputs": [],
   "source": [
    "yp_train=lasso_LR.predict(x_train)"
   ]
  },
  {
   "cell_type": "markdown",
   "id": "32e6e125",
   "metadata": {},
   "source": [
    "# Evaluation of Training Dataset for Lasso Regression"
   ]
  },
  {
   "cell_type": "code",
   "execution_count": 141,
   "id": "802ae6bd",
   "metadata": {},
   "outputs": [
    {
     "name": "stdout",
     "output_type": "stream",
     "text": [
      "MSE of taining data :  33.259869910876155\n",
      "RMSE of taining data :  5.767137063645718\n",
      "MAE of taining data :  4.121735222674709\n",
      "R2 score of taining data :  0.6171455423246786\n"
     ]
    }
   ],
   "source": [
    "mse=mean_squared_error(y_train,yp_train)\n",
    "print('MSE of taining data : ',mse)\n",
    "rmse=np.sqrt(mse)\n",
    "print('RMSE of taining data : ',rmse)\n",
    "mae=mean_absolute_error(y_train,yp_train)\n",
    "print('MAE of taining data : ',mae)\n",
    "r2_sqaure=r2_score(y_train,yp_train)\n",
    "print('R2 score of taining data : ',r2_sqaure)"
   ]
  },
  {
   "cell_type": "markdown",
   "id": "1861dd1f",
   "metadata": {},
   "source": [
    "# Evaluation of Testing Dataset For Lasso Regression"
   ]
  },
  {
   "cell_type": "code",
   "execution_count": 142,
   "id": "646238a8",
   "metadata": {},
   "outputs": [],
   "source": [
    "yp_test=lasso_LR.predict(x_test)"
   ]
  },
  {
   "cell_type": "code",
   "execution_count": 143,
   "id": "37e8e726",
   "metadata": {},
   "outputs": [
    {
     "name": "stdout",
     "output_type": "stream",
     "text": [
      "MSE of testing data :  28.990633739384105\n",
      "RMSE of testing data :  5.38429510143938\n",
      "MAE of testing data :  3.657909139876296\n",
      "R2 score of testing data :  0.604675601202729\n"
     ]
    }
   ],
   "source": [
    "mse=mean_squared_error(y_test,yp_test)\n",
    "print('MSE of testing data : ',mse)\n",
    "rmse=np.sqrt(mse)\n",
    "print('RMSE of testing data : ',rmse)\n",
    "mae=mean_absolute_error(y_test,yp_test)\n",
    "print('MAE of testing data : ',mae)\n",
    "r2_sqaured=r2_score(y_test,yp_test)\n",
    "print('R2 score of testing data : ',r2_sqaured)"
   ]
  },
  {
   "cell_type": "code",
   "execution_count": 144,
   "id": "6e172be7",
   "metadata": {},
   "outputs": [
    {
     "data": {
      "text/plain": [
       "<Axes: >"
      ]
     },
     "execution_count": 144,
     "metadata": {},
     "output_type": "execute_result"
    },
    {
     "data": {
      "image/png": "[encoded data removed]",
      "text/plain": [
       "<Figure size 640x480 with 1 Axes>"
      ]
     },
     "metadata": {},
     "output_type": "display_data"
    }
   ],
   "source": [
    "s1=pd.Series(lasso_LR.coef_,index=x.columns)\n",
    "s1.sort_values().plot(kind='barh')"
   ]
  },
  {
   "cell_type": "markdown",
   "id": "b98b8241",
   "metadata": {},
   "source": [
    "# 2. Ridge Regression"
   ]
  },
  {
   "cell_type": "code",
   "execution_count": 145,
   "id": "2b2d2c90",
   "metadata": {},
   "outputs": [
    {
     "data": {
      "text/html": [
       "<style>#sk-container-id-17 {color: black;}#sk-container-id-17 pre{padding: 0;}#sk-container-id-17 div.sk-toggleable {background-color: white;}#sk-container-id-17 label.sk-toggleable__label {cursor: pointer;display: block;width: 100%;margin-bottom: 0;padding: 0.3em;box-sizing: border-box;text-align: center;}#sk-container-id-17 label.sk-toggleable__label-arrow:before {content: \"▸\";float: left;margin-right: 0.25em;color: #696969;}#sk-container-id-17 label.sk-toggleable__label-arrow:hover:before {color: black;}#sk-container-id-17 div.sk-estimator:hover label.sk-toggleable__label-arrow:before {color: black;}#sk-container-id-17 div.sk-toggleable__content {max-height: 0;max-width: 0;overflow: hidden;text-align: left;background-color: #f0f8ff;}#sk-container-id-17 div.sk-toggleable__content pre {margin: 0.2em;color: black;border-radius: 0.25em;background-color: #f0f8ff;}#sk-container-id-17 input.sk-toggleable__control:checked~div.sk-toggleable__content {max-height: 200px;max-width: 100%;overflow: auto;}#sk-container-id-17 input.sk-toggleable__control:checked~label.sk-toggleable__label-arrow:before {content: \"▾\";}#sk-container-id-17 div.sk-estimator input.sk-toggleable__control:checked~label.sk-toggleable__label {background-color: #d4ebff;}#sk-container-id-17 div.sk-label input.sk-toggleable__control:checked~label.sk-toggleable__label {background-color: #d4ebff;}#sk-container-id-17 input.sk-hidden--visually {border: 0;clip: rect(1px 1px 1px 1px);clip: rect(1px, 1px, 1px, 1px);height: 1px;margin: -1px;overflow: hidden;padding: 0;position: absolute;width: 1px;}#sk-container-id-17 div.sk-estimator {font-family: monospace;background-color: #f0f8ff;border: 1px dotted black;border-radius: 0.25em;box-sizing: border-box;margin-bottom: 0.5em;}#sk-container-id-17 div.sk-estimator:hover {background-color: #d4ebff;}#sk-container-id-17 div.sk-parallel-item::after {content: \"\";width: 100%;border-bottom: 1px solid gray;flex-grow: 1;}#sk-container-id-17 div.sk-label:hover label.sk-toggleable__label {background-color: #d4ebff;}#sk-container-id-17 div.sk-serial::before {content: \"\";position: absolute;border-left: 1px solid gray;box-sizing: border-box;top: 0;bottom: 0;left: 50%;z-index: 0;}#sk-container-id-17 div.sk-serial {display: flex;flex-direction: column;align-items: center;background-color: white;padding-right: 0.2em;padding-left: 0.2em;position: relative;}#sk-container-id-17 div.sk-item {position: relative;z-index: 1;}#sk-container-id-17 div.sk-parallel {display: flex;align-items: stretch;justify-content: center;background-color: white;position: relative;}#sk-container-id-17 div.sk-item::before, #sk-container-id-17 div.sk-parallel-item::before {content: \"\";position: absolute;border-left: 1px solid gray;box-sizing: border-box;top: 0;bottom: 0;left: 50%;z-index: -1;}#sk-container-id-17 div.sk-parallel-item {display: flex;flex-direction: column;z-index: 1;position: relative;background-color: white;}#sk-container-id-17 div.sk-parallel-item:first-child::after {align-self: flex-end;width: 50%;}#sk-container-id-17 div.sk-parallel-item:last-child::after {align-self: flex-start;width: 50%;}#sk-container-id-17 div.sk-parallel-item:only-child::after {width: 0;}#sk-container-id-17 div.sk-dashed-wrapped {border: 1px dashed gray;margin: 0 0.4em 0.5em 0.4em;box-sizing: border-box;padding-bottom: 0.4em;background-color: white;}#sk-container-id-17 div.sk-label label {font-family: monospace;font-weight: bold;display: inline-block;line-height: 1.2em;}#sk-container-id-17 div.sk-label-container {text-align: center;}#sk-container-id-17 div.sk-container {/* jupyter's `normalize.less` sets `[hidden] { display: none; }` but bootstrap.min.css set `[hidden] { display: none !important; }` so we also need the `!important` here to be able to override the default hidden behavior on the sphinx rendered scikit-learn.org. See: https://github.com/scikit-learn/scikit-learn/issues/21755 */display: inline-block !important;position: relative;}#sk-container-id-17 div.sk-text-repr-fallback {display: none;}</style><div id=\"sk-container-id-17\" class=\"sk-top-container\"><div class=\"sk-text-repr-fallback\"><pre>Ridge(alpha=2)</pre><b>In a Jupyter environment, please rerun this cell to show the HTML representation or trust the notebook. <br />On GitHub, the HTML representation is unable to render, please try loading this page with nbviewer.org.</b></div><div class=\"sk-container\" hidden><div class=\"sk-item\"><div class=\"sk-estimator sk-toggleable\"><input class=\"sk-toggleable__control sk-hidden--visually\" id=\"sk-estimator-id-21\" type=\"checkbox\" checked><label for=\"sk-estimator-id-21\" class=\"sk-toggleable__label sk-toggleable__label-arrow\">Ridge</label><div class=\"sk-toggleable__content\"><pre>Ridge(alpha=2)</pre></div></div></div></div></div>"
      ],
      "text/plain": [
       "Ridge(alpha=2)"
      ]
     },
     "execution_count": 145,
     "metadata": {},
     "output_type": "execute_result"
    }
   ],
   "source": [
    "ridge_LR=Ridge(alpha=2)\n",
    "ridge_LR.fit(x_train,y_train)"
   ]
  },
  {
   "cell_type": "code",
   "execution_count": 146,
   "id": "40d540cb",
   "metadata": {},
   "outputs": [],
   "source": [
    "yp_train=ridge_LR.predict(x_train)\n"
   ]
  },
  {
   "cell_type": "markdown",
   "id": "98acda72",
   "metadata": {},
   "source": [
    "# Evaluation of Training Dataset For Ridge Regression"
   ]
  },
  {
   "cell_type": "code",
   "execution_count": 147,
   "id": "d1a2542a",
   "metadata": {},
   "outputs": [
    {
     "name": "stdout",
     "output_type": "stream",
     "text": [
      "MSE of taining data :  22.578930046504954\n",
      "RMSE of taining data :  4.751729163841827\n",
      "MAE of taining data :  3.3361081010206846\n",
      "R2 score of taining data :  0.7400938716535119\n"
     ]
    }
   ],
   "source": [
    "mse=mean_squared_error(y_train,yp_train)\n",
    "print('MSE of taining data : ',mse)\n",
    "rmse=np.sqrt(mse)\n",
    "print('RMSE of taining data : ',rmse)\n",
    "mae=mean_absolute_error(y_train,yp_train)\n",
    "print('MAE of taining data : ',mae)\n",
    "r2_sqaure=r2_score(y_train,yp_train)\n",
    "print('R2 score of taining data : ',r2_sqaure)"
   ]
  },
  {
   "cell_type": "markdown",
   "id": "e40e38bb",
   "metadata": {},
   "source": [
    "# Evaluation of Testing Dataset For Ridge Regression"
   ]
  },
  {
   "cell_type": "code",
   "execution_count": 148,
   "id": "b55077b9",
   "metadata": {},
   "outputs": [],
   "source": [
    "yp_test=ridge_LR.predict(x_test)"
   ]
  },
  {
   "cell_type": "code",
   "execution_count": 149,
   "id": "b544e192",
   "metadata": {},
   "outputs": [
    {
     "name": "stdout",
     "output_type": "stream",
     "text": [
      "MSE of testing data :  25.245186827267307\n",
      "RMSE of testing data :  5.02445885914765\n",
      "MAE of testing data :  3.1689362368213114\n",
      "R2 score of testing data :  0.6557495639891364\n"
     ]
    }
   ],
   "source": [
    "mse=mean_squared_error(y_test,yp_test)\n",
    "print('MSE of testing data : ',mse)\n",
    "rmse=np.sqrt(mse)\n",
    "print('RMSE of testing data : ',rmse)\n",
    "mae=mean_absolute_error(y_test,yp_test)\n",
    "print('MAE of testing data : ',mae)\n",
    "r2_sqaured=r2_score(y_test,yp_test)\n",
    "print('R2 score of testing data : ',r2_sqaured)"
   ]
  },
  {
   "cell_type": "code",
   "execution_count": 150,
   "id": "980e00c6",
   "metadata": {},
   "outputs": [
    {
     "data": {
      "text/plain": [
       "<Axes: >"
      ]
     },
     "execution_count": 150,
     "metadata": {},
     "output_type": "execute_result"
    },
    {
     "data": {
      "image/png": "[encoded data removed]",
      "text/plain": [
       "<Figure size 640x480 with 1 Axes>"
      ]
     },
     "metadata": {},
     "output_type": "display_data"
    }
   ],
   "source": [
    "s1=pd.Series(ridge_LR.coef_,index=x.columns)\n",
    "s1.plot(kind='barh')"
   ]
  },
  {
   "cell_type": "markdown",
   "id": "1bb66cba",
   "metadata": {},
   "source": [
    "# Applying HyperParameters For Lasso & Ridge Regression"
   ]
  },
  {
   "cell_type": "markdown",
   "id": "071b1ba8",
   "metadata": {},
   "source": [
    "# Finding the Best Estimator using gscv"
   ]
  },
  {
   "cell_type": "code",
   "execution_count": 151,
   "id": "a536feb4",
   "metadata": {},
   "outputs": [
    {
     "data": {
      "text/html": [
       "<style>#sk-container-id-18 {color: black;}#sk-container-id-18 pre{padding: 0;}#sk-container-id-18 div.sk-toggleable {background-color: white;}#sk-container-id-18 label.sk-toggleable__label {cursor: pointer;display: block;width: 100%;margin-bottom: 0;padding: 0.3em;box-sizing: border-box;text-align: center;}#sk-container-id-18 label.sk-toggleable__label-arrow:before {content: \"▸\";float: left;margin-right: 0.25em;color: #696969;}#sk-container-id-18 label.sk-toggleable__label-arrow:hover:before {color: black;}#sk-container-id-18 div.sk-estimator:hover label.sk-toggleable__label-arrow:before {color: black;}#sk-container-id-18 div.sk-toggleable__content {max-height: 0;max-width: 0;overflow: hidden;text-align: left;background-color: #f0f8ff;}#sk-container-id-18 div.sk-toggleable__content pre {margin: 0.2em;color: black;border-radius: 0.25em;background-color: #f0f8ff;}#sk-container-id-18 input.sk-toggleable__control:checked~div.sk-toggleable__content {max-height: 200px;max-width: 100%;overflow: auto;}#sk-container-id-18 input.sk-toggleable__control:checked~label.sk-toggleable__label-arrow:before {content: \"▾\";}#sk-container-id-18 div.sk-estimator input.sk-toggleable__control:checked~label.sk-toggleable__label {background-color: #d4ebff;}#sk-container-id-18 div.sk-label input.sk-toggleable__control:checked~label.sk-toggleable__label {background-color: #d4ebff;}#sk-container-id-18 input.sk-hidden--visually {border: 0;clip: rect(1px 1px 1px 1px);clip: rect(1px, 1px, 1px, 1px);height: 1px;margin: -1px;overflow: hidden;padding: 0;position: absolute;width: 1px;}#sk-container-id-18 div.sk-estimator {font-family: monospace;background-color: #f0f8ff;border: 1px dotted black;border-radius: 0.25em;box-sizing: border-box;margin-bottom: 0.5em;}#sk-container-id-18 div.sk-estimator:hover {background-color: #d4ebff;}#sk-container-id-18 div.sk-parallel-item::after {content: \"\";width: 100%;border-bottom: 1px solid gray;flex-grow: 1;}#sk-container-id-18 div.sk-label:hover label.sk-toggleable__label {background-color: #d4ebff;}#sk-container-id-18 div.sk-serial::before {content: \"\";position: absolute;border-left: 1px solid gray;box-sizing: border-box;top: 0;bottom: 0;left: 50%;z-index: 0;}#sk-container-id-18 div.sk-serial {display: flex;flex-direction: column;align-items: center;background-color: white;padding-right: 0.2em;padding-left: 0.2em;position: relative;}#sk-container-id-18 div.sk-item {position: relative;z-index: 1;}#sk-container-id-18 div.sk-parallel {display: flex;align-items: stretch;justify-content: center;background-color: white;position: relative;}#sk-container-id-18 div.sk-item::before, #sk-container-id-18 div.sk-parallel-item::before {content: \"\";position: absolute;border-left: 1px solid gray;box-sizing: border-box;top: 0;bottom: 0;left: 50%;z-index: -1;}#sk-container-id-18 div.sk-parallel-item {display: flex;flex-direction: column;z-index: 1;position: relative;background-color: white;}#sk-container-id-18 div.sk-parallel-item:first-child::after {align-self: flex-end;width: 50%;}#sk-container-id-18 div.sk-parallel-item:last-child::after {align-self: flex-start;width: 50%;}#sk-container-id-18 div.sk-parallel-item:only-child::after {width: 0;}#sk-container-id-18 div.sk-dashed-wrapped {border: 1px dashed gray;margin: 0 0.4em 0.5em 0.4em;box-sizing: border-box;padding-bottom: 0.4em;background-color: white;}#sk-container-id-18 div.sk-label label {font-family: monospace;font-weight: bold;display: inline-block;line-height: 1.2em;}#sk-container-id-18 div.sk-label-container {text-align: center;}#sk-container-id-18 div.sk-container {/* jupyter's `normalize.less` sets `[hidden] { display: none; }` but bootstrap.min.css set `[hidden] { display: none !important; }` so we also need the `!important` here to be able to override the default hidden behavior on the sphinx rendered scikit-learn.org. See: https://github.com/scikit-learn/scikit-learn/issues/21755 */display: inline-block !important;position: relative;}#sk-container-id-18 div.sk-text-repr-fallback {display: none;}</style><div id=\"sk-container-id-18\" class=\"sk-top-container\"><div class=\"sk-text-repr-fallback\"><pre>GridSearchCV(cv=5, estimator=Lasso(),\n",
       "             param_grid={&#x27;alpha&#x27;: array([0.01, 0.02, 0.03, 0.04, 0.05, 0.06, 0.07, 0.08, 0.09, 0.1 , 0.11,\n",
       "       0.12, 0.13, 0.14, 0.15, 0.16, 0.17, 0.18, 0.19, 0.2 , 0.21, 0.22,\n",
       "       0.23, 0.24, 0.25, 0.26, 0.27, 0.28, 0.29, 0.3 , 0.31, 0.32, 0.33,\n",
       "       0.34, 0.35, 0.36, 0.37, 0.38, 0.39, 0.4 , 0.41, 0.42, 0.43, 0.44,\n",
       "       0.45, 0.46, 0.47, 0.48, 0.49, 0.5 , 0.51, 0.52, 0.53, 0.54, 0.55,\n",
       "       0.56, 0.57, 0.58, 0....\n",
       "       4.19, 4.2 , 4.21, 4.22, 4.23, 4.24, 4.25, 4.26, 4.27, 4.28, 4.29,\n",
       "       4.3 , 4.31, 4.32, 4.33, 4.34, 4.35, 4.36, 4.37, 4.38, 4.39, 4.4 ,\n",
       "       4.41, 4.42, 4.43, 4.44, 4.45, 4.46, 4.47, 4.48, 4.49, 4.5 , 4.51,\n",
       "       4.52, 4.53, 4.54, 4.55, 4.56, 4.57, 4.58, 4.59, 4.6 , 4.61, 4.62,\n",
       "       4.63, 4.64, 4.65, 4.66, 4.67, 4.68, 4.69, 4.7 , 4.71, 4.72, 4.73,\n",
       "       4.74, 4.75, 4.76, 4.77, 4.78, 4.79, 4.8 , 4.81, 4.82, 4.83, 4.84,\n",
       "       4.85, 4.86, 4.87, 4.88, 4.89, 4.9 , 4.91, 4.92, 4.93, 4.94, 4.95,\n",
       "       4.96, 4.97, 4.98, 4.99])})</pre><b>In a Jupyter environment, please rerun this cell to show the HTML representation or trust the notebook. <br />On GitHub, the HTML representation is unable to render, please try loading this page with nbviewer.org.</b></div><div class=\"sk-container\" hidden><div class=\"sk-item sk-dashed-wrapped\"><div class=\"sk-label-container\"><div class=\"sk-label sk-toggleable\"><input class=\"sk-toggleable__control sk-hidden--visually\" id=\"sk-estimator-id-22\" type=\"checkbox\" ><label for=\"sk-estimator-id-22\" class=\"sk-toggleable__label sk-toggleable__label-arrow\">GridSearchCV</label><div class=\"sk-toggleable__content\"><pre>GridSearchCV(cv=5, estimator=Lasso(),\n",
       "             param_grid={&#x27;alpha&#x27;: array([0.01, 0.02, 0.03, 0.04, 0.05, 0.06, 0.07, 0.08, 0.09, 0.1 , 0.11,\n",
       "       0.12, 0.13, 0.14, 0.15, 0.16, 0.17, 0.18, 0.19, 0.2 , 0.21, 0.22,\n",
       "       0.23, 0.24, 0.25, 0.26, 0.27, 0.28, 0.29, 0.3 , 0.31, 0.32, 0.33,\n",
       "       0.34, 0.35, 0.36, 0.37, 0.38, 0.39, 0.4 , 0.41, 0.42, 0.43, 0.44,\n",
       "       0.45, 0.46, 0.47, 0.48, 0.49, 0.5 , 0.51, 0.52, 0.53, 0.54, 0.55,\n",
       "       0.56, 0.57, 0.58, 0....\n",
       "       4.19, 4.2 , 4.21, 4.22, 4.23, 4.24, 4.25, 4.26, 4.27, 4.28, 4.29,\n",
       "       4.3 , 4.31, 4.32, 4.33, 4.34, 4.35, 4.36, 4.37, 4.38, 4.39, 4.4 ,\n",
       "       4.41, 4.42, 4.43, 4.44, 4.45, 4.46, 4.47, 4.48, 4.49, 4.5 , 4.51,\n",
       "       4.52, 4.53, 4.54, 4.55, 4.56, 4.57, 4.58, 4.59, 4.6 , 4.61, 4.62,\n",
       "       4.63, 4.64, 4.65, 4.66, 4.67, 4.68, 4.69, 4.7 , 4.71, 4.72, 4.73,\n",
       "       4.74, 4.75, 4.76, 4.77, 4.78, 4.79, 4.8 , 4.81, 4.82, 4.83, 4.84,\n",
       "       4.85, 4.86, 4.87, 4.88, 4.89, 4.9 , 4.91, 4.92, 4.93, 4.94, 4.95,\n",
       "       4.96, 4.97, 4.98, 4.99])})</pre></div></div></div><div class=\"sk-parallel\"><div class=\"sk-parallel-item\"><div class=\"sk-item\"><div class=\"sk-label-container\"><div class=\"sk-label sk-toggleable\"><input class=\"sk-toggleable__control sk-hidden--visually\" id=\"sk-estimator-id-23\" type=\"checkbox\" ><label for=\"sk-estimator-id-23\" class=\"sk-toggleable__label sk-toggleable__label-arrow\">estimator: Lasso</label><div class=\"sk-toggleable__content\"><pre>Lasso()</pre></div></div></div><div class=\"sk-serial\"><div class=\"sk-item\"><div class=\"sk-estimator sk-toggleable\"><input class=\"sk-toggleable__control sk-hidden--visually\" id=\"sk-estimator-id-24\" type=\"checkbox\" ><label for=\"sk-estimator-id-24\" class=\"sk-toggleable__label sk-toggleable__label-arrow\">Lasso</label><div class=\"sk-toggleable__content\"><pre>Lasso()</pre></div></div></div></div></div></div></div></div></div></div>"
      ],
      "text/plain": [
       "GridSearchCV(cv=5, estimator=Lasso(),\n",
       "             param_grid={'alpha': array([0.01, 0.02, 0.03, 0.04, 0.05, 0.06, 0.07, 0.08, 0.09, 0.1 , 0.11,\n",
       "       0.12, 0.13, 0.14, 0.15, 0.16, 0.17, 0.18, 0.19, 0.2 , 0.21, 0.22,\n",
       "       0.23, 0.24, 0.25, 0.26, 0.27, 0.28, 0.29, 0.3 , 0.31, 0.32, 0.33,\n",
       "       0.34, 0.35, 0.36, 0.37, 0.38, 0.39, 0.4 , 0.41, 0.42, 0.43, 0.44,\n",
       "       0.45, 0.46, 0.47, 0.48, 0.49, 0.5 , 0.51, 0.52, 0.53, 0.54, 0.55,\n",
       "       0.56, 0.57, 0.58, 0....\n",
       "       4.19, 4.2 , 4.21, 4.22, 4.23, 4.24, 4.25, 4.26, 4.27, 4.28, 4.29,\n",
       "       4.3 , 4.31, 4.32, 4.33, 4.34, 4.35, 4.36, 4.37, 4.38, 4.39, 4.4 ,\n",
       "       4.41, 4.42, 4.43, 4.44, 4.45, 4.46, 4.47, 4.48, 4.49, 4.5 , 4.51,\n",
       "       4.52, 4.53, 4.54, 4.55, 4.56, 4.57, 4.58, 4.59, 4.6 , 4.61, 4.62,\n",
       "       4.63, 4.64, 4.65, 4.66, 4.67, 4.68, 4.69, 4.7 , 4.71, 4.72, 4.73,\n",
       "       4.74, 4.75, 4.76, 4.77, 4.78, 4.79, 4.8 , 4.81, 4.82, 4.83, 4.84,\n",
       "       4.85, 4.86, 4.87, 4.88, 4.89, 4.9 , 4.91, 4.92, 4.93, 4.94, 4.95,\n",
       "       4.96, 4.97, 4.98, 4.99])})"
      ]
     },
     "execution_count": 151,
     "metadata": {},
     "output_type": "execute_result"
    }
   ],
   "source": [
    "lasso_GSLR=Lasso()\n",
    "hyperparameters = {'alpha':np.arange(0.01,5,0.01)}\n",
    "gscv_lasso=GridSearchCV(lasso_GSLR,hyperparameters,cv=5)\n",
    "gscv_lasso.fit(x_train,y_train)"
   ]
  },
  {
   "cell_type": "code",
   "execution_count": 152,
   "id": "317555f1",
   "metadata": {},
   "outputs": [
    {
     "data": {
      "text/html": [
       "<style>#sk-container-id-19 {color: black;}#sk-container-id-19 pre{padding: 0;}#sk-container-id-19 div.sk-toggleable {background-color: white;}#sk-container-id-19 label.sk-toggleable__label {cursor: pointer;display: block;width: 100%;margin-bottom: 0;padding: 0.3em;box-sizing: border-box;text-align: center;}#sk-container-id-19 label.sk-toggleable__label-arrow:before {content: \"▸\";float: left;margin-right: 0.25em;color: #696969;}#sk-container-id-19 label.sk-toggleable__label-arrow:hover:before {color: black;}#sk-container-id-19 div.sk-estimator:hover label.sk-toggleable__label-arrow:before {color: black;}#sk-container-id-19 div.sk-toggleable__content {max-height: 0;max-width: 0;overflow: hidden;text-align: left;background-color: #f0f8ff;}#sk-container-id-19 div.sk-toggleable__content pre {margin: 0.2em;color: black;border-radius: 0.25em;background-color: #f0f8ff;}#sk-container-id-19 input.sk-toggleable__control:checked~div.sk-toggleable__content {max-height: 200px;max-width: 100%;overflow: auto;}#sk-container-id-19 input.sk-toggleable__control:checked~label.sk-toggleable__label-arrow:before {content: \"▾\";}#sk-container-id-19 div.sk-estimator input.sk-toggleable__control:checked~label.sk-toggleable__label {background-color: #d4ebff;}#sk-container-id-19 div.sk-label input.sk-toggleable__control:checked~label.sk-toggleable__label {background-color: #d4ebff;}#sk-container-id-19 input.sk-hidden--visually {border: 0;clip: rect(1px 1px 1px 1px);clip: rect(1px, 1px, 1px, 1px);height: 1px;margin: -1px;overflow: hidden;padding: 0;position: absolute;width: 1px;}#sk-container-id-19 div.sk-estimator {font-family: monospace;background-color: #f0f8ff;border: 1px dotted black;border-radius: 0.25em;box-sizing: border-box;margin-bottom: 0.5em;}#sk-container-id-19 div.sk-estimator:hover {background-color: #d4ebff;}#sk-container-id-19 div.sk-parallel-item::after {content: \"\";width: 100%;border-bottom: 1px solid gray;flex-grow: 1;}#sk-container-id-19 div.sk-label:hover label.sk-toggleable__label {background-color: #d4ebff;}#sk-container-id-19 div.sk-serial::before {content: \"\";position: absolute;border-left: 1px solid gray;box-sizing: border-box;top: 0;bottom: 0;left: 50%;z-index: 0;}#sk-container-id-19 div.sk-serial {display: flex;flex-direction: column;align-items: center;background-color: white;padding-right: 0.2em;padding-left: 0.2em;position: relative;}#sk-container-id-19 div.sk-item {position: relative;z-index: 1;}#sk-container-id-19 div.sk-parallel {display: flex;align-items: stretch;justify-content: center;background-color: white;position: relative;}#sk-container-id-19 div.sk-item::before, #sk-container-id-19 div.sk-parallel-item::before {content: \"\";position: absolute;border-left: 1px solid gray;box-sizing: border-box;top: 0;bottom: 0;left: 50%;z-index: -1;}#sk-container-id-19 div.sk-parallel-item {display: flex;flex-direction: column;z-index: 1;position: relative;background-color: white;}#sk-container-id-19 div.sk-parallel-item:first-child::after {align-self: flex-end;width: 50%;}#sk-container-id-19 div.sk-parallel-item:last-child::after {align-self: flex-start;width: 50%;}#sk-container-id-19 div.sk-parallel-item:only-child::after {width: 0;}#sk-container-id-19 div.sk-dashed-wrapped {border: 1px dashed gray;margin: 0 0.4em 0.5em 0.4em;box-sizing: border-box;padding-bottom: 0.4em;background-color: white;}#sk-container-id-19 div.sk-label label {font-family: monospace;font-weight: bold;display: inline-block;line-height: 1.2em;}#sk-container-id-19 div.sk-label-container {text-align: center;}#sk-container-id-19 div.sk-container {/* jupyter's `normalize.less` sets `[hidden] { display: none; }` but bootstrap.min.css set `[hidden] { display: none !important; }` so we also need the `!important` here to be able to override the default hidden behavior on the sphinx rendered scikit-learn.org. See: https://github.com/scikit-learn/scikit-learn/issues/21755 */display: inline-block !important;position: relative;}#sk-container-id-19 div.sk-text-repr-fallback {display: none;}</style><div id=\"sk-container-id-19\" class=\"sk-top-container\"><div class=\"sk-text-repr-fallback\"><pre>Lasso(alpha=0.01)</pre><b>In a Jupyter environment, please rerun this cell to show the HTML representation or trust the notebook. <br />On GitHub, the HTML representation is unable to render, please try loading this page with nbviewer.org.</b></div><div class=\"sk-container\" hidden><div class=\"sk-item\"><div class=\"sk-estimator sk-toggleable\"><input class=\"sk-toggleable__control sk-hidden--visually\" id=\"sk-estimator-id-25\" type=\"checkbox\" checked><label for=\"sk-estimator-id-25\" class=\"sk-toggleable__label sk-toggleable__label-arrow\">Lasso</label><div class=\"sk-toggleable__content\"><pre>Lasso(alpha=0.01)</pre></div></div></div></div></div>"
      ],
      "text/plain": [
       "Lasso(alpha=0.01)"
      ]
     },
     "execution_count": 152,
     "metadata": {},
     "output_type": "execute_result"
    }
   ],
   "source": [
    "gscv_lasso.best_estimator_"
   ]
  },
  {
   "cell_type": "markdown",
   "id": "ebaf67bc",
   "metadata": {},
   "source": [
    "# Applying Lasso with the Best Estimator"
   ]
  },
  {
   "cell_type": "code",
   "execution_count": 153,
   "id": "270a1573",
   "metadata": {},
   "outputs": [
    {
     "name": "stdout",
     "output_type": "stream",
     "text": [
      "Mean Squared Error : 22.27200583652309\n",
      "\n",
      "Root Mean Squared Error : 4.719322603565377\n",
      "\n",
      "Mean Absolute Error : 3.3286701602177557\n",
      "\n",
      "R Squared Value :  0.7436268771124902\n"
     ]
    }
   ],
   "source": [
    "lasso_model = Lasso(alpha=0.01)\n",
    "lasso_model.fit(x_train,y_train)\n",
    "\n",
    "y_pred_train = lasso_model.predict(x_train)\n",
    "\n",
    "mse = mean_squared_error(y_train,y_pred_train)\n",
    "print(\"Mean Squared Error :\",mse)\n",
    "print()\n",
    "\n",
    "rmse = np.sqrt(mse)\n",
    "print(\"Root Mean Squared Error :\",rmse)\n",
    "print()\n",
    "\n",
    "mae = mean_absolute_error(y_train,y_pred_train)\n",
    "print(\"Mean Absolute Error :\",mae)\n",
    "print()\n",
    "\n",
    "r_squared = r2_score(y_train,y_pred_train)\n",
    "print(\"R Squared Value : \",r_squared)"
   ]
  },
  {
   "cell_type": "code",
   "execution_count": 154,
   "id": "2ba9626c",
   "metadata": {},
   "outputs": [
    {
     "name": "stdout",
     "output_type": "stream",
     "text": [
      "Mean Squared Error : 24.955728255710866\n",
      "\n",
      "Root Mean Squared Error : 4.99557086384638\n",
      "\n",
      "Mean Absolute Error : 3.2286354408601547\n",
      "\n",
      "R Squared Value :  0.6596967021167797\n"
     ]
    }
   ],
   "source": [
    "\n",
    "#Testing Data Evaluation\n",
    "\n",
    "y_pred = lasso_model.predict(x_test)\n",
    "\n",
    "mse = mean_squared_error(y_test,y_pred)\n",
    "print(\"Mean Squared Error :\",mse)\n",
    "print()\n",
    "\n",
    "rmse = np.sqrt(mse)\n",
    "print(\"Root Mean Squared Error :\",rmse)\n",
    "print()\n",
    "\n",
    "mae = mean_absolute_error(y_test,y_pred)\n",
    "print(\"Mean Absolute Error :\",mae)\n",
    "print()\n",
    "\n",
    "r_squared = r2_score(y_test,y_pred)\n",
    "print(\"R Squared Value : \",r_squared)"
   ]
  },
  {
   "cell_type": "markdown",
   "id": "f059d7c1",
   "metadata": {},
   "source": [
    "# Applying Ridge with the Best Estimator"
   ]
  },
  {
   "cell_type": "code",
   "execution_count": 155,
   "id": "07e67de9",
   "metadata": {},
   "outputs": [
    {
     "data": {
      "text/html": [
       "<style>#sk-container-id-20 {color: black;}#sk-container-id-20 pre{padding: 0;}#sk-container-id-20 div.sk-toggleable {background-color: white;}#sk-container-id-20 label.sk-toggleable__label {cursor: pointer;display: block;width: 100%;margin-bottom: 0;padding: 0.3em;box-sizing: border-box;text-align: center;}#sk-container-id-20 label.sk-toggleable__label-arrow:before {content: \"▸\";float: left;margin-right: 0.25em;color: #696969;}#sk-container-id-20 label.sk-toggleable__label-arrow:hover:before {color: black;}#sk-container-id-20 div.sk-estimator:hover label.sk-toggleable__label-arrow:before {color: black;}#sk-container-id-20 div.sk-toggleable__content {max-height: 0;max-width: 0;overflow: hidden;text-align: left;background-color: #f0f8ff;}#sk-container-id-20 div.sk-toggleable__content pre {margin: 0.2em;color: black;border-radius: 0.25em;background-color: #f0f8ff;}#sk-container-id-20 input.sk-toggleable__control:checked~div.sk-toggleable__content {max-height: 200px;max-width: 100%;overflow: auto;}#sk-container-id-20 input.sk-toggleable__control:checked~label.sk-toggleable__label-arrow:before {content: \"▾\";}#sk-container-id-20 div.sk-estimator input.sk-toggleable__control:checked~label.sk-toggleable__label {background-color: #d4ebff;}#sk-container-id-20 div.sk-label input.sk-toggleable__control:checked~label.sk-toggleable__label {background-color: #d4ebff;}#sk-container-id-20 input.sk-hidden--visually {border: 0;clip: rect(1px 1px 1px 1px);clip: rect(1px, 1px, 1px, 1px);height: 1px;margin: -1px;overflow: hidden;padding: 0;position: absolute;width: 1px;}#sk-container-id-20 div.sk-estimator {font-family: monospace;background-color: #f0f8ff;border: 1px dotted black;border-radius: 0.25em;box-sizing: border-box;margin-bottom: 0.5em;}#sk-container-id-20 div.sk-estimator:hover {background-color: #d4ebff;}#sk-container-id-20 div.sk-parallel-item::after {content: \"\";width: 100%;border-bottom: 1px solid gray;flex-grow: 1;}#sk-container-id-20 div.sk-label:hover label.sk-toggleable__label {background-color: #d4ebff;}#sk-container-id-20 div.sk-serial::before {content: \"\";position: absolute;border-left: 1px solid gray;box-sizing: border-box;top: 0;bottom: 0;left: 50%;z-index: 0;}#sk-container-id-20 div.sk-serial {display: flex;flex-direction: column;align-items: center;background-color: white;padding-right: 0.2em;padding-left: 0.2em;position: relative;}#sk-container-id-20 div.sk-item {position: relative;z-index: 1;}#sk-container-id-20 div.sk-parallel {display: flex;align-items: stretch;justify-content: center;background-color: white;position: relative;}#sk-container-id-20 div.sk-item::before, #sk-container-id-20 div.sk-parallel-item::before {content: \"\";position: absolute;border-left: 1px solid gray;box-sizing: border-box;top: 0;bottom: 0;left: 50%;z-index: -1;}#sk-container-id-20 div.sk-parallel-item {display: flex;flex-direction: column;z-index: 1;position: relative;background-color: white;}#sk-container-id-20 div.sk-parallel-item:first-child::after {align-self: flex-end;width: 50%;}#sk-container-id-20 div.sk-parallel-item:last-child::after {align-self: flex-start;width: 50%;}#sk-container-id-20 div.sk-parallel-item:only-child::after {width: 0;}#sk-container-id-20 div.sk-dashed-wrapped {border: 1px dashed gray;margin: 0 0.4em 0.5em 0.4em;box-sizing: border-box;padding-bottom: 0.4em;background-color: white;}#sk-container-id-20 div.sk-label label {font-family: monospace;font-weight: bold;display: inline-block;line-height: 1.2em;}#sk-container-id-20 div.sk-label-container {text-align: center;}#sk-container-id-20 div.sk-container {/* jupyter's `normalize.less` sets `[hidden] { display: none; }` but bootstrap.min.css set `[hidden] { display: none !important; }` so we also need the `!important` here to be able to override the default hidden behavior on the sphinx rendered scikit-learn.org. See: https://github.com/scikit-learn/scikit-learn/issues/21755 */display: inline-block !important;position: relative;}#sk-container-id-20 div.sk-text-repr-fallback {display: none;}</style><div id=\"sk-container-id-20\" class=\"sk-top-container\"><div class=\"sk-text-repr-fallback\"><pre>Ridge(alpha=0.01)</pre><b>In a Jupyter environment, please rerun this cell to show the HTML representation or trust the notebook. <br />On GitHub, the HTML representation is unable to render, please try loading this page with nbviewer.org.</b></div><div class=\"sk-container\" hidden><div class=\"sk-item\"><div class=\"sk-estimator sk-toggleable\"><input class=\"sk-toggleable__control sk-hidden--visually\" id=\"sk-estimator-id-26\" type=\"checkbox\" checked><label for=\"sk-estimator-id-26\" class=\"sk-toggleable__label sk-toggleable__label-arrow\">Ridge</label><div class=\"sk-toggleable__content\"><pre>Ridge(alpha=0.01)</pre></div></div></div></div></div>"
      ],
      "text/plain": [
       "Ridge(alpha=0.01)"
      ]
     },
     "execution_count": 155,
     "metadata": {},
     "output_type": "execute_result"
    }
   ],
   "source": [
    "Ridge_model=Ridge(alpha= 0.01)\n",
    "Ridge_model.fit(x_train,y_train)"
   ]
  },
  {
   "cell_type": "code",
   "execution_count": 156,
   "id": "63817682",
   "metadata": {},
   "outputs": [
    {
     "name": "stdout",
     "output_type": "stream",
     "text": [
      "Mean Squared Error : 22.235083528684175\n",
      "\n",
      "Root Mean Squared Error : 4.7154091581414415\n",
      "\n",
      "Mean Absolute Error : 3.3434637771359608\n",
      "\n",
      "R Squared Value :  0.7440518899036306\n"
     ]
    }
   ],
   "source": [
    "yp_train = Ridge_model.predict(x_train)\n",
    "\n",
    "mse = mean_squared_error(y_train,yp_train)\n",
    "print(\"Mean Squared Error :\",mse)\n",
    "print()\n",
    "\n",
    "rmse = np.sqrt(mse)\n",
    "print(\"Root Mean Squared Error :\",rmse)\n",
    "print()\n",
    "\n",
    "mae = mean_absolute_error(y_train,yp_train)\n",
    "print(\"Mean Absolute Error :\",mae)\n",
    "print()\n",
    "\n",
    "r_squared = r2_score(y_train,yp_train)\n",
    "print(\"R Squared Value : \",r_squared)"
   ]
  },
  {
   "cell_type": "code",
   "execution_count": 157,
   "id": "10856072",
   "metadata": {},
   "outputs": [
    {
     "name": "stdout",
     "output_type": "stream",
     "text": [
      "MSE: 24.947023533854644\n",
      "RMSE; 4.994699543901979\n",
      "MAE: 3.2634397854210904\n",
      "R2_Score: 0.6598154021412581\n"
     ]
    }
   ],
   "source": [
    "yp_test= Ridge_model.predict(x_test)\n",
    "mse = mean_squared_error(y_test,yp_test)\n",
    "print(\"MSE:\",mse)\n",
    "\n",
    "rmse = np.sqrt(mse)\n",
    "print(\"RMSE;\",rmse)\n",
    "\n",
    "mae = mean_absolute_error(y_test,yp_test)\n",
    "print(\"MAE:\",mae)\n",
    "\n",
    "r2 = r2_score(y_test,yp_test)\n",
    "print(\"R2_Score:\",r2)"
   ]
  },
  {
   "cell_type": "markdown",
   "id": "e035946d",
   "metadata": {},
   "source": [
    "# Model Buliding on Decision Tree Without Hyperparameter Tuning"
   ]
  },
  {
   "cell_type": "code",
   "execution_count": 158,
   "id": "9f42f643",
   "metadata": {},
   "outputs": [
    {
     "data": {
      "text/html": [
       "<style>#sk-container-id-21 {color: black;}#sk-container-id-21 pre{padding: 0;}#sk-container-id-21 div.sk-toggleable {background-color: white;}#sk-container-id-21 label.sk-toggleable__label {cursor: pointer;display: block;width: 100%;margin-bottom: 0;padding: 0.3em;box-sizing: border-box;text-align: center;}#sk-container-id-21 label.sk-toggleable__label-arrow:before {content: \"▸\";float: left;margin-right: 0.25em;color: #696969;}#sk-container-id-21 label.sk-toggleable__label-arrow:hover:before {color: black;}#sk-container-id-21 div.sk-estimator:hover label.sk-toggleable__label-arrow:before {color: black;}#sk-container-id-21 div.sk-toggleable__content {max-height: 0;max-width: 0;overflow: hidden;text-align: left;background-color: #f0f8ff;}#sk-container-id-21 div.sk-toggleable__content pre {margin: 0.2em;color: black;border-radius: 0.25em;background-color: #f0f8ff;}#sk-container-id-21 input.sk-toggleable__control:checked~div.sk-toggleable__content {max-height: 200px;max-width: 100%;overflow: auto;}#sk-container-id-21 input.sk-toggleable__control:checked~label.sk-toggleable__label-arrow:before {content: \"▾\";}#sk-container-id-21 div.sk-estimator input.sk-toggleable__control:checked~label.sk-toggleable__label {background-color: #d4ebff;}#sk-container-id-21 div.sk-label input.sk-toggleable__control:checked~label.sk-toggleable__label {background-color: #d4ebff;}#sk-container-id-21 input.sk-hidden--visually {border: 0;clip: rect(1px 1px 1px 1px);clip: rect(1px, 1px, 1px, 1px);height: 1px;margin: -1px;overflow: hidden;padding: 0;position: absolute;width: 1px;}#sk-container-id-21 div.sk-estimator {font-family: monospace;background-color: #f0f8ff;border: 1px dotted black;border-radius: 0.25em;box-sizing: border-box;margin-bottom: 0.5em;}#sk-container-id-21 div.sk-estimator:hover {background-color: #d4ebff;}#sk-container-id-21 div.sk-parallel-item::after {content: \"\";width: 100%;border-bottom: 1px solid gray;flex-grow: 1;}#sk-container-id-21 div.sk-label:hover label.sk-toggleable__label {background-color: #d4ebff;}#sk-container-id-21 div.sk-serial::before {content: \"\";position: absolute;border-left: 1px solid gray;box-sizing: border-box;top: 0;bottom: 0;left: 50%;z-index: 0;}#sk-container-id-21 div.sk-serial {display: flex;flex-direction: column;align-items: center;background-color: white;padding-right: 0.2em;padding-left: 0.2em;position: relative;}#sk-container-id-21 div.sk-item {position: relative;z-index: 1;}#sk-container-id-21 div.sk-parallel {display: flex;align-items: stretch;justify-content: center;background-color: white;position: relative;}#sk-container-id-21 div.sk-item::before, #sk-container-id-21 div.sk-parallel-item::before {content: \"\";position: absolute;border-left: 1px solid gray;box-sizing: border-box;top: 0;bottom: 0;left: 50%;z-index: -1;}#sk-container-id-21 div.sk-parallel-item {display: flex;flex-direction: column;z-index: 1;position: relative;background-color: white;}#sk-container-id-21 div.sk-parallel-item:first-child::after {align-self: flex-end;width: 50%;}#sk-container-id-21 div.sk-parallel-item:last-child::after {align-self: flex-start;width: 50%;}#sk-container-id-21 div.sk-parallel-item:only-child::after {width: 0;}#sk-container-id-21 div.sk-dashed-wrapped {border: 1px dashed gray;margin: 0 0.4em 0.5em 0.4em;box-sizing: border-box;padding-bottom: 0.4em;background-color: white;}#sk-container-id-21 div.sk-label label {font-family: monospace;font-weight: bold;display: inline-block;line-height: 1.2em;}#sk-container-id-21 div.sk-label-container {text-align: center;}#sk-container-id-21 div.sk-container {/* jupyter's `normalize.less` sets `[hidden] { display: none; }` but bootstrap.min.css set `[hidden] { display: none !important; }` so we also need the `!important` here to be able to override the default hidden behavior on the sphinx rendered scikit-learn.org. See: https://github.com/scikit-learn/scikit-learn/issues/21755 */display: inline-block !important;position: relative;}#sk-container-id-21 div.sk-text-repr-fallback {display: none;}</style><div id=\"sk-container-id-21\" class=\"sk-top-container\"><div class=\"sk-text-repr-fallback\"><pre>DecisionTreeRegressor()</pre><b>In a Jupyter environment, please rerun this cell to show the HTML representation or trust the notebook. <br />On GitHub, the HTML representation is unable to render, please try loading this page with nbviewer.org.</b></div><div class=\"sk-container\" hidden><div class=\"sk-item\"><div class=\"sk-estimator sk-toggleable\"><input class=\"sk-toggleable__control sk-hidden--visually\" id=\"sk-estimator-id-27\" type=\"checkbox\" checked><label for=\"sk-estimator-id-27\" class=\"sk-toggleable__label sk-toggleable__label-arrow\">DecisionTreeRegressor</label><div class=\"sk-toggleable__content\"><pre>DecisionTreeRegressor()</pre></div></div></div></div></div>"
      ],
      "text/plain": [
       "DecisionTreeRegressor()"
      ]
     },
     "execution_count": 158,
     "metadata": {},
     "output_type": "execute_result"
    }
   ],
   "source": [
    "dt_reg = DecisionTreeRegressor()\n",
    "dt_reg.fit(x_train,y_train)"
   ]
  },
  {
   "cell_type": "markdown",
   "id": "b6c60461",
   "metadata": {},
   "source": [
    "# Evaluation Of Training dataset"
   ]
  },
  {
   "cell_type": "code",
   "execution_count": 159,
   "id": "bbedc7e6",
   "metadata": {},
   "outputs": [
    {
     "name": "stdout",
     "output_type": "stream",
     "text": [
      "Mean Squared Error : 0.0\n",
      "\n",
      "Root Mean Squared Error : 0.0\n",
      "\n",
      "Mean Absolute Error : 0.0\n",
      "\n",
      "R Squared Value :  1.0\n"
     ]
    }
   ],
   "source": [
    "yp_train = dt_reg.predict(x_train)\n",
    "\n",
    "mse = mean_squared_error(y_train,yp_train)\n",
    "print(\"Mean Squared Error :\",mse)\n",
    "print()\n",
    "\n",
    "rmse = np.sqrt(mse)\n",
    "print(\"Root Mean Squared Error :\",rmse)\n",
    "print()\n",
    "\n",
    "mae = mean_absolute_error(y_train,yp_train)\n",
    "print(\"Mean Absolute Error :\",mae)\n",
    "print()\n",
    "\n",
    "r_squared = r2_score(y_train,yp_train)\n",
    "print(\"R Squared Value : \",r_squared)"
   ]
  },
  {
   "cell_type": "markdown",
   "id": "370106b0",
   "metadata": {},
   "source": [
    "# Evaluation Of Testing dataset"
   ]
  },
  {
   "cell_type": "code",
   "execution_count": 160,
   "id": "8c373515",
   "metadata": {},
   "outputs": [
    {
     "name": "stdout",
     "output_type": "stream",
     "text": [
      "MSE: 9.690196078431374\n",
      "RMSE : 3.1129079778289905\n",
      "MAE: 2.298039215686275\n",
      "R2_Score: 0.8678617731033106\n"
     ]
    }
   ],
   "source": [
    "yp_test= dt_reg.predict(x_test)\n",
    "mse = mean_squared_error(y_test,yp_test)\n",
    "print(\"MSE:\",mse)\n",
    "\n",
    "rmse = np.sqrt(mse)\n",
    "print(\"RMSE :\",rmse)\n",
    "\n",
    "mae = mean_absolute_error(y_test,yp_test)\n",
    "print(\"MAE:\",mae)\n",
    "\n",
    "r2 = r2_score(y_test,yp_test)\n",
    "print(\"R2_Score:\",r2)"
   ]
  },
  {
   "cell_type": "markdown",
   "id": "c794a5dd",
   "metadata": {},
   "source": [
    "# Decision Tree Model With Hyperparameter Tuning"
   ]
  },
  {
   "cell_type": "code",
   "execution_count": 161,
   "id": "730219ef",
   "metadata": {},
   "outputs": [
    {
     "data": {
      "text/html": [
       "<style>#sk-container-id-22 {color: black;}#sk-container-id-22 pre{padding: 0;}#sk-container-id-22 div.sk-toggleable {background-color: white;}#sk-container-id-22 label.sk-toggleable__label {cursor: pointer;display: block;width: 100%;margin-bottom: 0;padding: 0.3em;box-sizing: border-box;text-align: center;}#sk-container-id-22 label.sk-toggleable__label-arrow:before {content: \"▸\";float: left;margin-right: 0.25em;color: #696969;}#sk-container-id-22 label.sk-toggleable__label-arrow:hover:before {color: black;}#sk-container-id-22 div.sk-estimator:hover label.sk-toggleable__label-arrow:before {color: black;}#sk-container-id-22 div.sk-toggleable__content {max-height: 0;max-width: 0;overflow: hidden;text-align: left;background-color: #f0f8ff;}#sk-container-id-22 div.sk-toggleable__content pre {margin: 0.2em;color: black;border-radius: 0.25em;background-color: #f0f8ff;}#sk-container-id-22 input.sk-toggleable__control:checked~div.sk-toggleable__content {max-height: 200px;max-width: 100%;overflow: auto;}#sk-container-id-22 input.sk-toggleable__control:checked~label.sk-toggleable__label-arrow:before {content: \"▾\";}#sk-container-id-22 div.sk-estimator input.sk-toggleable__control:checked~label.sk-toggleable__label {background-color: #d4ebff;}#sk-container-id-22 div.sk-label input.sk-toggleable__control:checked~label.sk-toggleable__label {background-color: #d4ebff;}#sk-container-id-22 input.sk-hidden--visually {border: 0;clip: rect(1px 1px 1px 1px);clip: rect(1px, 1px, 1px, 1px);height: 1px;margin: -1px;overflow: hidden;padding: 0;position: absolute;width: 1px;}#sk-container-id-22 div.sk-estimator {font-family: monospace;background-color: #f0f8ff;border: 1px dotted black;border-radius: 0.25em;box-sizing: border-box;margin-bottom: 0.5em;}#sk-container-id-22 div.sk-estimator:hover {background-color: #d4ebff;}#sk-container-id-22 div.sk-parallel-item::after {content: \"\";width: 100%;border-bottom: 1px solid gray;flex-grow: 1;}#sk-container-id-22 div.sk-label:hover label.sk-toggleable__label {background-color: #d4ebff;}#sk-container-id-22 div.sk-serial::before {content: \"\";position: absolute;border-left: 1px solid gray;box-sizing: border-box;top: 0;bottom: 0;left: 50%;z-index: 0;}#sk-container-id-22 div.sk-serial {display: flex;flex-direction: column;align-items: center;background-color: white;padding-right: 0.2em;padding-left: 0.2em;position: relative;}#sk-container-id-22 div.sk-item {position: relative;z-index: 1;}#sk-container-id-22 div.sk-parallel {display: flex;align-items: stretch;justify-content: center;background-color: white;position: relative;}#sk-container-id-22 div.sk-item::before, #sk-container-id-22 div.sk-parallel-item::before {content: \"\";position: absolute;border-left: 1px solid gray;box-sizing: border-box;top: 0;bottom: 0;left: 50%;z-index: -1;}#sk-container-id-22 div.sk-parallel-item {display: flex;flex-direction: column;z-index: 1;position: relative;background-color: white;}#sk-container-id-22 div.sk-parallel-item:first-child::after {align-self: flex-end;width: 50%;}#sk-container-id-22 div.sk-parallel-item:last-child::after {align-self: flex-start;width: 50%;}#sk-container-id-22 div.sk-parallel-item:only-child::after {width: 0;}#sk-container-id-22 div.sk-dashed-wrapped {border: 1px dashed gray;margin: 0 0.4em 0.5em 0.4em;box-sizing: border-box;padding-bottom: 0.4em;background-color: white;}#sk-container-id-22 div.sk-label label {font-family: monospace;font-weight: bold;display: inline-block;line-height: 1.2em;}#sk-container-id-22 div.sk-label-container {text-align: center;}#sk-container-id-22 div.sk-container {/* jupyter's `normalize.less` sets `[hidden] { display: none; }` but bootstrap.min.css set `[hidden] { display: none !important; }` so we also need the `!important` here to be able to override the default hidden behavior on the sphinx rendered scikit-learn.org. See: https://github.com/scikit-learn/scikit-learn/issues/21755 */display: inline-block !important;position: relative;}#sk-container-id-22 div.sk-text-repr-fallback {display: none;}</style><div id=\"sk-container-id-22\" class=\"sk-top-container\"><div class=\"sk-text-repr-fallback\"><pre>GridSearchCV(cv=5, estimator=DecisionTreeRegressor(),\n",
       "             param_grid={&#x27;criterion&#x27;: [&#x27;squared_error&#x27;, &#x27;absolute_error&#x27;],\n",
       "                         &#x27;max_depth&#x27;: array([3, 4, 5, 6, 7]),\n",
       "                         &#x27;min_samples_leaf&#x27;: array([ 2,  3,  4,  5,  6,  7,  8,  9, 10, 11, 12, 13, 14]),\n",
       "                         &#x27;min_samples_split&#x27;: array([ 2,  3,  4,  5,  6,  7,  8,  9, 10, 11, 12, 13, 14, 15, 16, 17, 18,\n",
       "       19])})</pre><b>In a Jupyter environment, please rerun this cell to show the HTML representation or trust the notebook. <br />On GitHub, the HTML representation is unable to render, please try loading this page with nbviewer.org.</b></div><div class=\"sk-container\" hidden><div class=\"sk-item sk-dashed-wrapped\"><div class=\"sk-label-container\"><div class=\"sk-label sk-toggleable\"><input class=\"sk-toggleable__control sk-hidden--visually\" id=\"sk-estimator-id-28\" type=\"checkbox\" ><label for=\"sk-estimator-id-28\" class=\"sk-toggleable__label sk-toggleable__label-arrow\">GridSearchCV</label><div class=\"sk-toggleable__content\"><pre>GridSearchCV(cv=5, estimator=DecisionTreeRegressor(),\n",
       "             param_grid={&#x27;criterion&#x27;: [&#x27;squared_error&#x27;, &#x27;absolute_error&#x27;],\n",
       "                         &#x27;max_depth&#x27;: array([3, 4, 5, 6, 7]),\n",
       "                         &#x27;min_samples_leaf&#x27;: array([ 2,  3,  4,  5,  6,  7,  8,  9, 10, 11, 12, 13, 14]),\n",
       "                         &#x27;min_samples_split&#x27;: array([ 2,  3,  4,  5,  6,  7,  8,  9, 10, 11, 12, 13, 14, 15, 16, 17, 18,\n",
       "       19])})</pre></div></div></div><div class=\"sk-parallel\"><div class=\"sk-parallel-item\"><div class=\"sk-item\"><div class=\"sk-label-container\"><div class=\"sk-label sk-toggleable\"><input class=\"sk-toggleable__control sk-hidden--visually\" id=\"sk-estimator-id-29\" type=\"checkbox\" ><label for=\"sk-estimator-id-29\" class=\"sk-toggleable__label sk-toggleable__label-arrow\">estimator: DecisionTreeRegressor</label><div class=\"sk-toggleable__content\"><pre>DecisionTreeRegressor()</pre></div></div></div><div class=\"sk-serial\"><div class=\"sk-item\"><div class=\"sk-estimator sk-toggleable\"><input class=\"sk-toggleable__control sk-hidden--visually\" id=\"sk-estimator-id-30\" type=\"checkbox\" ><label for=\"sk-estimator-id-30\" class=\"sk-toggleable__label sk-toggleable__label-arrow\">DecisionTreeRegressor</label><div class=\"sk-toggleable__content\"><pre>DecisionTreeRegressor()</pre></div></div></div></div></div></div></div></div></div></div>"
      ],
      "text/plain": [
       "GridSearchCV(cv=5, estimator=DecisionTreeRegressor(),\n",
       "             param_grid={'criterion': ['squared_error', 'absolute_error'],\n",
       "                         'max_depth': array([3, 4, 5, 6, 7]),\n",
       "                         'min_samples_leaf': array([ 2,  3,  4,  5,  6,  7,  8,  9, 10, 11, 12, 13, 14]),\n",
       "                         'min_samples_split': array([ 2,  3,  4,  5,  6,  7,  8,  9, 10, 11, 12, 13, 14, 15, 16, 17, 18,\n",
       "       19])})"
      ]
     },
     "execution_count": 161,
     "metadata": {},
     "output_type": "execute_result"
    }
   ],
   "source": [
    "dt_reg = DecisionTreeRegressor()\n",
    "\n",
    "hyperparameter = {\"criterion\" :['squared_error','absolute_error'],\n",
    "                 'max_depth': np.arange(3,8),\n",
    "                 \"min_samples_split\" :np.arange(2,20),\n",
    "                 \"min_samples_leaf\":np.arange(2,15)}\n",
    "                  \n",
    "                  \n",
    "gscv_dt_reg = GridSearchCV(dt_reg,hyperparameter,cv=5)    \n",
    "gscv_dt_reg.fit(x_train,y_train)"
   ]
  },
  {
   "cell_type": "code",
   "execution_count": 162,
   "id": "05dc1178",
   "metadata": {
    "scrolled": true
   },
   "outputs": [
    {
     "data": {
      "text/html": [
       "<style>#sk-container-id-23 {color: black;}#sk-container-id-23 pre{padding: 0;}#sk-container-id-23 div.sk-toggleable {background-color: white;}#sk-container-id-23 label.sk-toggleable__label {cursor: pointer;display: block;width: 100%;margin-bottom: 0;padding: 0.3em;box-sizing: border-box;text-align: center;}#sk-container-id-23 label.sk-toggleable__label-arrow:before {content: \"▸\";float: left;margin-right: 0.25em;color: #696969;}#sk-container-id-23 label.sk-toggleable__label-arrow:hover:before {color: black;}#sk-container-id-23 div.sk-estimator:hover label.sk-toggleable__label-arrow:before {color: black;}#sk-container-id-23 div.sk-toggleable__content {max-height: 0;max-width: 0;overflow: hidden;text-align: left;background-color: #f0f8ff;}#sk-container-id-23 div.sk-toggleable__content pre {margin: 0.2em;color: black;border-radius: 0.25em;background-color: #f0f8ff;}#sk-container-id-23 input.sk-toggleable__control:checked~div.sk-toggleable__content {max-height: 200px;max-width: 100%;overflow: auto;}#sk-container-id-23 input.sk-toggleable__control:checked~label.sk-toggleable__label-arrow:before {content: \"▾\";}#sk-container-id-23 div.sk-estimator input.sk-toggleable__control:checked~label.sk-toggleable__label {background-color: #d4ebff;}#sk-container-id-23 div.sk-label input.sk-toggleable__control:checked~label.sk-toggleable__label {background-color: #d4ebff;}#sk-container-id-23 input.sk-hidden--visually {border: 0;clip: rect(1px 1px 1px 1px);clip: rect(1px, 1px, 1px, 1px);height: 1px;margin: -1px;overflow: hidden;padding: 0;position: absolute;width: 1px;}#sk-container-id-23 div.sk-estimator {font-family: monospace;background-color: #f0f8ff;border: 1px dotted black;border-radius: 0.25em;box-sizing: border-box;margin-bottom: 0.5em;}#sk-container-id-23 div.sk-estimator:hover {background-color: #d4ebff;}#sk-container-id-23 div.sk-parallel-item::after {content: \"\";width: 100%;border-bottom: 1px solid gray;flex-grow: 1;}#sk-container-id-23 div.sk-label:hover label.sk-toggleable__label {background-color: #d4ebff;}#sk-container-id-23 div.sk-serial::before {content: \"\";position: absolute;border-left: 1px solid gray;box-sizing: border-box;top: 0;bottom: 0;left: 50%;z-index: 0;}#sk-container-id-23 div.sk-serial {display: flex;flex-direction: column;align-items: center;background-color: white;padding-right: 0.2em;padding-left: 0.2em;position: relative;}#sk-container-id-23 div.sk-item {position: relative;z-index: 1;}#sk-container-id-23 div.sk-parallel {display: flex;align-items: stretch;justify-content: center;background-color: white;position: relative;}#sk-container-id-23 div.sk-item::before, #sk-container-id-23 div.sk-parallel-item::before {content: \"\";position: absolute;border-left: 1px solid gray;box-sizing: border-box;top: 0;bottom: 0;left: 50%;z-index: -1;}#sk-container-id-23 div.sk-parallel-item {display: flex;flex-direction: column;z-index: 1;position: relative;background-color: white;}#sk-container-id-23 div.sk-parallel-item:first-child::after {align-self: flex-end;width: 50%;}#sk-container-id-23 div.sk-parallel-item:last-child::after {align-self: flex-start;width: 50%;}#sk-container-id-23 div.sk-parallel-item:only-child::after {width: 0;}#sk-container-id-23 div.sk-dashed-wrapped {border: 1px dashed gray;margin: 0 0.4em 0.5em 0.4em;box-sizing: border-box;padding-bottom: 0.4em;background-color: white;}#sk-container-id-23 div.sk-label label {font-family: monospace;font-weight: bold;display: inline-block;line-height: 1.2em;}#sk-container-id-23 div.sk-label-container {text-align: center;}#sk-container-id-23 div.sk-container {/* jupyter's `normalize.less` sets `[hidden] { display: none; }` but bootstrap.min.css set `[hidden] { display: none !important; }` so we also need the `!important` here to be able to override the default hidden behavior on the sphinx rendered scikit-learn.org. See: https://github.com/scikit-learn/scikit-learn/issues/21755 */display: inline-block !important;position: relative;}#sk-container-id-23 div.sk-text-repr-fallback {display: none;}</style><div id=\"sk-container-id-23\" class=\"sk-top-container\"><div class=\"sk-text-repr-fallback\"><pre>DecisionTreeRegressor(criterion=&#x27;absolute_error&#x27;, max_depth=6,\n",
       "                      min_samples_leaf=5, min_samples_split=18)</pre><b>In a Jupyter environment, please rerun this cell to show the HTML representation or trust the notebook. <br />On GitHub, the HTML representation is unable to render, please try loading this page with nbviewer.org.</b></div><div class=\"sk-container\" hidden><div class=\"sk-item\"><div class=\"sk-estimator sk-toggleable\"><input class=\"sk-toggleable__control sk-hidden--visually\" id=\"sk-estimator-id-31\" type=\"checkbox\" checked><label for=\"sk-estimator-id-31\" class=\"sk-toggleable__label sk-toggleable__label-arrow\">DecisionTreeRegressor</label><div class=\"sk-toggleable__content\"><pre>DecisionTreeRegressor(criterion=&#x27;absolute_error&#x27;, max_depth=6,\n",
       "                      min_samples_leaf=5, min_samples_split=18)</pre></div></div></div></div></div>"
      ],
      "text/plain": [
       "DecisionTreeRegressor(criterion='absolute_error', max_depth=6,\n",
       "                      min_samples_leaf=5, min_samples_split=18)"
      ]
     },
     "execution_count": 162,
     "metadata": {},
     "output_type": "execute_result"
    }
   ],
   "source": [
    "gscv_dt_reg.best_estimator_"
   ]
  },
  {
   "cell_type": "code",
   "execution_count": 163,
   "id": "ffef4e01",
   "metadata": {},
   "outputs": [
    {
     "data": {
      "text/plain": [
       "{'criterion': 'absolute_error',\n",
       " 'max_depth': 6,\n",
       " 'min_samples_leaf': 5,\n",
       " 'min_samples_split': 18}"
      ]
     },
     "execution_count": 163,
     "metadata": {},
     "output_type": "execute_result"
    }
   ],
   "source": [
    "gscv_dt_reg.best_params_"
   ]
  },
  {
   "cell_type": "markdown",
   "id": "485672f4",
   "metadata": {},
   "source": [
    "# Evaluation Of Training dataset For Hyperparameters "
   ]
  },
  {
   "cell_type": "code",
   "execution_count": 164,
   "id": "9a8f623f",
   "metadata": {},
   "outputs": [
    {
     "data": {
      "text/html": [
       "<style>#sk-container-id-24 {color: black;}#sk-container-id-24 pre{padding: 0;}#sk-container-id-24 div.sk-toggleable {background-color: white;}#sk-container-id-24 label.sk-toggleable__label {cursor: pointer;display: block;width: 100%;margin-bottom: 0;padding: 0.3em;box-sizing: border-box;text-align: center;}#sk-container-id-24 label.sk-toggleable__label-arrow:before {content: \"▸\";float: left;margin-right: 0.25em;color: #696969;}#sk-container-id-24 label.sk-toggleable__label-arrow:hover:before {color: black;}#sk-container-id-24 div.sk-estimator:hover label.sk-toggleable__label-arrow:before {color: black;}#sk-container-id-24 div.sk-toggleable__content {max-height: 0;max-width: 0;overflow: hidden;text-align: left;background-color: #f0f8ff;}#sk-container-id-24 div.sk-toggleable__content pre {margin: 0.2em;color: black;border-radius: 0.25em;background-color: #f0f8ff;}#sk-container-id-24 input.sk-toggleable__control:checked~div.sk-toggleable__content {max-height: 200px;max-width: 100%;overflow: auto;}#sk-container-id-24 input.sk-toggleable__control:checked~label.sk-toggleable__label-arrow:before {content: \"▾\";}#sk-container-id-24 div.sk-estimator input.sk-toggleable__control:checked~label.sk-toggleable__label {background-color: #d4ebff;}#sk-container-id-24 div.sk-label input.sk-toggleable__control:checked~label.sk-toggleable__label {background-color: #d4ebff;}#sk-container-id-24 input.sk-hidden--visually {border: 0;clip: rect(1px 1px 1px 1px);clip: rect(1px, 1px, 1px, 1px);height: 1px;margin: -1px;overflow: hidden;padding: 0;position: absolute;width: 1px;}#sk-container-id-24 div.sk-estimator {font-family: monospace;background-color: #f0f8ff;border: 1px dotted black;border-radius: 0.25em;box-sizing: border-box;margin-bottom: 0.5em;}#sk-container-id-24 div.sk-estimator:hover {background-color: #d4ebff;}#sk-container-id-24 div.sk-parallel-item::after {content: \"\";width: 100%;border-bottom: 1px solid gray;flex-grow: 1;}#sk-container-id-24 div.sk-label:hover label.sk-toggleable__label {background-color: #d4ebff;}#sk-container-id-24 div.sk-serial::before {content: \"\";position: absolute;border-left: 1px solid gray;box-sizing: border-box;top: 0;bottom: 0;left: 50%;z-index: 0;}#sk-container-id-24 div.sk-serial {display: flex;flex-direction: column;align-items: center;background-color: white;padding-right: 0.2em;padding-left: 0.2em;position: relative;}#sk-container-id-24 div.sk-item {position: relative;z-index: 1;}#sk-container-id-24 div.sk-parallel {display: flex;align-items: stretch;justify-content: center;background-color: white;position: relative;}#sk-container-id-24 div.sk-item::before, #sk-container-id-24 div.sk-parallel-item::before {content: \"\";position: absolute;border-left: 1px solid gray;box-sizing: border-box;top: 0;bottom: 0;left: 50%;z-index: -1;}#sk-container-id-24 div.sk-parallel-item {display: flex;flex-direction: column;z-index: 1;position: relative;background-color: white;}#sk-container-id-24 div.sk-parallel-item:first-child::after {align-self: flex-end;width: 50%;}#sk-container-id-24 div.sk-parallel-item:last-child::after {align-self: flex-start;width: 50%;}#sk-container-id-24 div.sk-parallel-item:only-child::after {width: 0;}#sk-container-id-24 div.sk-dashed-wrapped {border: 1px dashed gray;margin: 0 0.4em 0.5em 0.4em;box-sizing: border-box;padding-bottom: 0.4em;background-color: white;}#sk-container-id-24 div.sk-label label {font-family: monospace;font-weight: bold;display: inline-block;line-height: 1.2em;}#sk-container-id-24 div.sk-label-container {text-align: center;}#sk-container-id-24 div.sk-container {/* jupyter's `normalize.less` sets `[hidden] { display: none; }` but bootstrap.min.css set `[hidden] { display: none !important; }` so we also need the `!important` here to be able to override the default hidden behavior on the sphinx rendered scikit-learn.org. See: https://github.com/scikit-learn/scikit-learn/issues/21755 */display: inline-block !important;position: relative;}#sk-container-id-24 div.sk-text-repr-fallback {display: none;}</style><div id=\"sk-container-id-24\" class=\"sk-top-container\"><div class=\"sk-text-repr-fallback\"><pre>DecisionTreeRegressor(criterion=&#x27;absolute_error&#x27;, max_depth=6,\n",
       "                      min_samples_leaf=5, min_samples_split=18)</pre><b>In a Jupyter environment, please rerun this cell to show the HTML representation or trust the notebook. <br />On GitHub, the HTML representation is unable to render, please try loading this page with nbviewer.org.</b></div><div class=\"sk-container\" hidden><div class=\"sk-item\"><div class=\"sk-estimator sk-toggleable\"><input class=\"sk-toggleable__control sk-hidden--visually\" id=\"sk-estimator-id-32\" type=\"checkbox\" checked><label for=\"sk-estimator-id-32\" class=\"sk-toggleable__label sk-toggleable__label-arrow\">DecisionTreeRegressor</label><div class=\"sk-toggleable__content\"><pre>DecisionTreeRegressor(criterion=&#x27;absolute_error&#x27;, max_depth=6,\n",
       "                      min_samples_leaf=5, min_samples_split=18)</pre></div></div></div></div></div>"
      ],
      "text/plain": [
       "DecisionTreeRegressor(criterion='absolute_error', max_depth=6,\n",
       "                      min_samples_leaf=5, min_samples_split=18)"
      ]
     },
     "execution_count": 164,
     "metadata": {},
     "output_type": "execute_result"
    }
   ],
   "source": [
    "dt_reg = gscv_dt_reg.best_estimator_\n",
    "dt_reg.fit(x_train,y_train)"
   ]
  },
  {
   "cell_type": "code",
   "execution_count": 165,
   "id": "a8296d93",
   "metadata": {},
   "outputs": [
    {
     "name": "stdout",
     "output_type": "stream",
     "text": [
      "Mean Squared Error : 13.921819306930693\n",
      "\n",
      "Root Mean Squared Error : 3.7311954259902675\n",
      "\n",
      "Mean Absolute Error : 2.0492574257425744\n",
      "\n",
      "R Squared Value :  0.8397458981381698\n"
     ]
    }
   ],
   "source": [
    "yp_train = dt_reg.predict(x_train)\n",
    "\n",
    "mse = mean_squared_error(y_train,yp_train)\n",
    "print(\"Mean Squared Error :\",mse)\n",
    "print()\n",
    "\n",
    "rmse = np.sqrt(mse)\n",
    "print(\"Root Mean Squared Error :\",rmse)\n",
    "print()\n",
    "\n",
    "mae = mean_absolute_error(y_train,yp_train)\n",
    "print(\"Mean Absolute Error :\",mae)\n",
    "print()\n",
    "\n",
    "r_squared = r2_score(y_train,yp_train)\n",
    "print(\"R Squared Value : \",r_squared)"
   ]
  },
  {
   "cell_type": "markdown",
   "id": "7147aec1",
   "metadata": {},
   "source": [
    "# Evaluation Of Testing dataset For Hyperparameters"
   ]
  },
  {
   "cell_type": "code",
   "execution_count": 166,
   "id": "fadfaf23",
   "metadata": {},
   "outputs": [
    {
     "name": "stdout",
     "output_type": "stream",
     "text": [
      "MSE: 22.01921568627451\n",
      "RMSE; 4.692463711769598\n",
      "MAE: 2.9205882352941175\n",
      "R2_Score: 0.6997398097117681\n"
     ]
    }
   ],
   "source": [
    "yp_test= dt_reg.predict(x_test)\n",
    "mse = mean_squared_error(y_test,yp_test)\n",
    "print(\"MSE:\",mse)\n",
    "\n",
    "rmse = np.sqrt(mse)\n",
    "print(\"RMSE;\",rmse)\n",
    "\n",
    "mae = mean_absolute_error(y_test,yp_test)\n",
    "print(\"MAE:\",mae)\n",
    "\n",
    "r2 = r2_score(y_test,yp_test)\n",
    "print(\"R2_Score:\",r2)"
   ]
  },
  {
   "cell_type": "markdown",
   "id": "70efb905",
   "metadata": {},
   "source": [
    "# Building DT Model for Regression Using Pruning"
   ]
  },
  {
   "cell_type": "code",
   "execution_count": 167,
   "id": "a25f9371",
   "metadata": {},
   "outputs": [
    {
     "data": {
      "text/html": [
       "<style>#sk-container-id-25 {color: black;}#sk-container-id-25 pre{padding: 0;}#sk-container-id-25 div.sk-toggleable {background-color: white;}#sk-container-id-25 label.sk-toggleable__label {cursor: pointer;display: block;width: 100%;margin-bottom: 0;padding: 0.3em;box-sizing: border-box;text-align: center;}#sk-container-id-25 label.sk-toggleable__label-arrow:before {content: \"▸\";float: left;margin-right: 0.25em;color: #696969;}#sk-container-id-25 label.sk-toggleable__label-arrow:hover:before {color: black;}#sk-container-id-25 div.sk-estimator:hover label.sk-toggleable__label-arrow:before {color: black;}#sk-container-id-25 div.sk-toggleable__content {max-height: 0;max-width: 0;overflow: hidden;text-align: left;background-color: #f0f8ff;}#sk-container-id-25 div.sk-toggleable__content pre {margin: 0.2em;color: black;border-radius: 0.25em;background-color: #f0f8ff;}#sk-container-id-25 input.sk-toggleable__control:checked~div.sk-toggleable__content {max-height: 200px;max-width: 100%;overflow: auto;}#sk-container-id-25 input.sk-toggleable__control:checked~label.sk-toggleable__label-arrow:before {content: \"▾\";}#sk-container-id-25 div.sk-estimator input.sk-toggleable__control:checked~label.sk-toggleable__label {background-color: #d4ebff;}#sk-container-id-25 div.sk-label input.sk-toggleable__control:checked~label.sk-toggleable__label {background-color: #d4ebff;}#sk-container-id-25 input.sk-hidden--visually {border: 0;clip: rect(1px 1px 1px 1px);clip: rect(1px, 1px, 1px, 1px);height: 1px;margin: -1px;overflow: hidden;padding: 0;position: absolute;width: 1px;}#sk-container-id-25 div.sk-estimator {font-family: monospace;background-color: #f0f8ff;border: 1px dotted black;border-radius: 0.25em;box-sizing: border-box;margin-bottom: 0.5em;}#sk-container-id-25 div.sk-estimator:hover {background-color: #d4ebff;}#sk-container-id-25 div.sk-parallel-item::after {content: \"\";width: 100%;border-bottom: 1px solid gray;flex-grow: 1;}#sk-container-id-25 div.sk-label:hover label.sk-toggleable__label {background-color: #d4ebff;}#sk-container-id-25 div.sk-serial::before {content: \"\";position: absolute;border-left: 1px solid gray;box-sizing: border-box;top: 0;bottom: 0;left: 50%;z-index: 0;}#sk-container-id-25 div.sk-serial {display: flex;flex-direction: column;align-items: center;background-color: white;padding-right: 0.2em;padding-left: 0.2em;position: relative;}#sk-container-id-25 div.sk-item {position: relative;z-index: 1;}#sk-container-id-25 div.sk-parallel {display: flex;align-items: stretch;justify-content: center;background-color: white;position: relative;}#sk-container-id-25 div.sk-item::before, #sk-container-id-25 div.sk-parallel-item::before {content: \"\";position: absolute;border-left: 1px solid gray;box-sizing: border-box;top: 0;bottom: 0;left: 50%;z-index: -1;}#sk-container-id-25 div.sk-parallel-item {display: flex;flex-direction: column;z-index: 1;position: relative;background-color: white;}#sk-container-id-25 div.sk-parallel-item:first-child::after {align-self: flex-end;width: 50%;}#sk-container-id-25 div.sk-parallel-item:last-child::after {align-self: flex-start;width: 50%;}#sk-container-id-25 div.sk-parallel-item:only-child::after {width: 0;}#sk-container-id-25 div.sk-dashed-wrapped {border: 1px dashed gray;margin: 0 0.4em 0.5em 0.4em;box-sizing: border-box;padding-bottom: 0.4em;background-color: white;}#sk-container-id-25 div.sk-label label {font-family: monospace;font-weight: bold;display: inline-block;line-height: 1.2em;}#sk-container-id-25 div.sk-label-container {text-align: center;}#sk-container-id-25 div.sk-container {/* jupyter's `normalize.less` sets `[hidden] { display: none; }` but bootstrap.min.css set `[hidden] { display: none !important; }` so we also need the `!important` here to be able to override the default hidden behavior on the sphinx rendered scikit-learn.org. See: https://github.com/scikit-learn/scikit-learn/issues/21755 */display: inline-block !important;position: relative;}#sk-container-id-25 div.sk-text-repr-fallback {display: none;}</style><div id=\"sk-container-id-25\" class=\"sk-top-container\"><div class=\"sk-text-repr-fallback\"><pre>DecisionTreeRegressor(random_state=10)</pre><b>In a Jupyter environment, please rerun this cell to show the HTML representation or trust the notebook. <br />On GitHub, the HTML representation is unable to render, please try loading this page with nbviewer.org.</b></div><div class=\"sk-container\" hidden><div class=\"sk-item\"><div class=\"sk-estimator sk-toggleable\"><input class=\"sk-toggleable__control sk-hidden--visually\" id=\"sk-estimator-id-33\" type=\"checkbox\" checked><label for=\"sk-estimator-id-33\" class=\"sk-toggleable__label sk-toggleable__label-arrow\">DecisionTreeRegressor</label><div class=\"sk-toggleable__content\"><pre>DecisionTreeRegressor(random_state=10)</pre></div></div></div></div></div>"
      ],
      "text/plain": [
       "DecisionTreeRegressor(random_state=10)"
      ]
     },
     "execution_count": 167,
     "metadata": {},
     "output_type": "execute_result"
    }
   ],
   "source": [
    "decision_tree_Model = DecisionTreeRegressor(random_state=10)\n",
    "decision_tree_Model.fit(x_train,y_train)"
   ]
  },
  {
   "cell_type": "code",
   "execution_count": 168,
   "id": "7f189ca6",
   "metadata": {},
   "outputs": [
    {
     "data": {
      "text/plain": [
       "array([0.00000000e+00, 1.40701532e-16, 5.62806127e-16, 5.62806127e-16,\n",
       "       1.12561225e-15, 1.12561225e-15, 1.23762376e-05, 1.23762376e-05,\n",
       "       1.23762376e-05, 1.23762376e-05, 1.23762376e-05, 1.23762376e-05,\n",
       "       1.23762376e-05, 1.23762376e-05, 1.23762376e-05, 1.23762376e-05,\n",
       "       1.23762376e-05, 1.23762376e-05, 1.23762376e-05, 1.23762376e-05,\n",
       "       1.23762376e-05, 1.23762376e-05, 1.23762376e-05, 1.23762376e-05,\n",
       "       1.23762376e-05, 1.23762376e-05, 1.23762376e-05, 1.23762376e-05,\n",
       "       1.23762376e-05, 1.23762376e-05, 1.23762376e-05, 1.23762376e-05,\n",
       "       1.23762376e-05, 1.23762376e-05, 1.23762376e-05, 1.23762376e-05,\n",
       "       1.65016502e-05, 1.65016502e-05, 3.71287129e-05, 3.71287129e-05,\n",
       "       3.71287129e-05, 3.71287129e-05, 3.71287129e-05, 3.71287129e-05,\n",
       "       4.95049505e-05, 4.95049505e-05, 4.95049505e-05, 4.95049505e-05,\n",
       "       4.95049505e-05, 4.95049505e-05, 4.95049505e-05, 4.95049505e-05,\n",
       "       4.95049505e-05, 4.95049505e-05, 4.95049505e-05, 6.60066007e-05,\n",
       "       1.01072607e-04, 1.03135314e-04, 1.03135314e-04, 1.03135314e-04,\n",
       "       1.11386139e-04, 1.11386139e-04, 1.11386139e-04, 1.11386139e-04,\n",
       "       1.11386139e-04, 1.11386139e-04, 1.11386139e-04, 1.11386139e-04,\n",
       "       1.11386139e-04, 1.11386139e-04, 1.11386139e-04, 1.11386139e-04,\n",
       "       1.11386139e-04, 1.48514851e-04, 1.48514851e-04, 1.48514851e-04,\n",
       "       1.54702970e-04, 1.54702970e-04, 1.67079208e-04, 1.98019802e-04,\n",
       "       1.98019802e-04, 1.98019802e-04, 1.98019802e-04, 1.98019802e-04,\n",
       "       1.98019802e-04, 1.98019802e-04, 1.98019802e-04, 1.98019802e-04,\n",
       "       2.02145215e-04, 2.02145215e-04, 2.11221122e-04, 2.97029703e-04,\n",
       "       2.97029703e-04, 3.03217822e-04, 3.09405941e-04, 3.09405941e-04,\n",
       "       3.09405941e-04, 3.09405941e-04, 3.09405941e-04, 3.09405941e-04,\n",
       "       3.09405941e-04, 3.09405941e-04, 3.09405941e-04, 3.34158416e-04,\n",
       "       3.34158416e-04, 3.34158416e-04, 4.12541254e-04, 4.12541254e-04,\n",
       "       4.45544554e-04, 4.45544554e-04, 4.45544554e-04, 4.45544554e-04,\n",
       "       4.45544554e-04, 4.45544554e-04, 4.45544554e-04, 4.45544554e-04,\n",
       "       4.46782178e-04, 4.64108911e-04, 4.99174917e-04, 4.99174917e-04,\n",
       "       4.99174917e-04, 4.99174917e-04, 4.99174917e-04, 5.52805281e-04,\n",
       "       5.94059406e-04, 5.94059406e-04, 5.96122112e-04, 6.06435644e-04,\n",
       "       6.97194719e-04, 6.97194719e-04, 7.01732673e-04, 7.48762376e-04,\n",
       "       7.73514851e-04, 7.92079208e-04, 7.92079208e-04, 7.92079208e-04,\n",
       "       8.08580858e-04, 8.08580858e-04, 8.08580858e-04, 8.25082508e-04,\n",
       "       8.91089109e-04, 8.91089109e-04, 9.02227723e-04, 9.09653465e-04,\n",
       "       9.09653465e-04, 1.00247525e-03, 1.00247525e-03, 1.00247525e-03,\n",
       "       1.00247525e-03, 1.01072607e-03, 1.04579208e-03, 1.12953795e-03,\n",
       "       1.12953795e-03, 1.18811881e-03, 1.19141914e-03, 1.19224422e-03,\n",
       "       1.23762376e-03, 1.23762376e-03, 1.33663366e-03, 1.33663366e-03,\n",
       "       1.38696370e-03, 1.48927393e-03, 1.49752475e-03, 1.49752475e-03,\n",
       "       1.49752475e-03, 1.51608911e-03, 1.59358793e-03, 1.59735974e-03,\n",
       "       1.69430693e-03, 1.78217822e-03, 1.78217822e-03, 1.78217822e-03,\n",
       "       1.98226073e-03, 1.99669967e-03, 1.99669967e-03, 2.00495050e-03,\n",
       "       2.09158416e-03, 2.09158416e-03, 2.09158416e-03, 2.09158416e-03,\n",
       "       2.14603960e-03, 2.23391089e-03, 2.23391089e-03, 2.24628713e-03,\n",
       "       2.28836634e-03, 2.37623762e-03, 2.38448845e-03, 2.47524752e-03,\n",
       "       2.61527581e-03, 2.67326733e-03, 2.72896040e-03, 2.78465347e-03,\n",
       "       2.78465347e-03, 2.78877888e-03, 2.82885431e-03, 2.97854785e-03,\n",
       "       2.97854785e-03, 2.99292786e-03, 3.00742574e-03, 3.17161716e-03,\n",
       "       3.23432343e-03, 3.23432343e-03, 3.24876238e-03, 3.30033003e-03,\n",
       "       3.46947195e-03, 3.46947195e-03, 3.57673267e-03, 3.96452145e-03,\n",
       "       4.04290429e-03, 4.22442244e-03, 4.36468647e-03, 4.46782178e-03,\n",
       "       4.95049505e-03, 4.95255776e-03, 4.95344177e-03, 5.05363036e-03,\n",
       "       5.17715700e-03, 5.36509901e-03, 5.45792079e-03, 5.54785479e-03,\n",
       "       5.66006601e-03, 5.97595474e-03, 6.01485149e-03, 6.05109618e-03,\n",
       "       6.24336987e-03, 6.34936351e-03, 6.54702970e-03, 6.60066007e-03,\n",
       "       6.62187647e-03, 6.68714639e-03, 6.70173267e-03, 6.98349835e-03,\n",
       "       7.12871287e-03, 7.12871287e-03, 7.60396040e-03, 7.73514851e-03,\n",
       "       8.25082508e-03, 8.35396040e-03, 8.98514851e-03, 9.35643564e-03,\n",
       "       9.36757426e-03, 1.00499764e-02, 1.05354785e-02, 1.09356436e-02,\n",
       "       1.09356436e-02, 1.11113861e-02, 1.11386139e-02, 1.11695545e-02,\n",
       "       1.14573020e-02, 1.15882838e-02, 1.16027228e-02, 1.16027228e-02,\n",
       "       1.18364961e-02, 1.18935644e-02, 1.19141914e-02, 1.21507151e-02,\n",
       "       1.22297855e-02, 1.22297855e-02, 1.25792079e-02, 1.32626513e-02,\n",
       "       1.33263444e-02, 1.34777228e-02, 1.42151894e-02, 1.55945354e-02,\n",
       "       1.56223479e-02, 1.63386964e-02, 1.63871786e-02, 1.67326733e-02,\n",
       "       1.78712871e-02, 1.82291372e-02, 1.85150479e-02, 1.88127063e-02,\n",
       "       1.93446834e-02, 2.03685369e-02, 2.07962046e-02, 2.14603960e-02,\n",
       "       2.17256011e-02, 2.19843234e-02, 2.22772277e-02, 2.34014026e-02,\n",
       "       2.34499450e-02, 2.44018152e-02, 2.45513614e-02, 2.67605198e-02,\n",
       "       2.69311645e-02, 2.69441694e-02, 2.70668317e-02, 2.73040429e-02,\n",
       "       2.74603960e-02, 2.78465347e-02, 2.86199375e-02, 2.98518977e-02,\n",
       "       3.27107889e-02, 3.33459060e-02, 3.37627298e-02, 3.41120050e-02,\n",
       "       3.52875571e-02, 3.66893564e-02, 3.72453245e-02, 3.83755190e-02,\n",
       "       3.98526752e-02, 3.99339934e-02, 4.10086634e-02, 4.33069307e-02,\n",
       "       4.33426155e-02, 4.74107007e-02, 5.26773927e-02, 5.37304730e-02,\n",
       "       5.66784082e-02, 5.82278060e-02, 5.82485402e-02, 6.03506358e-02,\n",
       "       6.31703795e-02, 6.65387789e-02, 6.77722772e-02, 6.89306931e-02,\n",
       "       7.11955961e-02, 7.90160891e-02, 8.20173267e-02, 8.26550670e-02,\n",
       "       8.42838284e-02, 8.43187124e-02, 8.68193878e-02, 8.68415842e-02,\n",
       "       9.03564356e-02, 9.18170559e-02, 9.36757426e-02, 1.14429776e-01,\n",
       "       1.30429443e-01, 1.31274456e-01, 1.35163580e-01, 1.38135553e-01,\n",
       "       1.48350031e-01, 1.49354568e-01, 1.51116955e-01, 1.63821879e-01,\n",
       "       1.64280666e-01, 1.73293042e-01, 1.75319194e-01, 1.83176568e-01,\n",
       "       2.09658097e-01, 2.49122260e-01, 2.81162123e-01, 2.84152174e-01,\n",
       "       3.50386339e-01, 3.85231892e-01, 4.10880429e-01, 4.21082567e-01,\n",
       "       4.92822179e-01, 5.66054566e-01, 6.70218676e-01, 7.95876037e-01,\n",
       "       9.06701733e-01, 1.33233911e+00, 1.73592852e+00, 2.16662832e+00,\n",
       "       2.87069416e+00, 4.51811732e+00, 5.94515856e+00, 1.44201615e+01,\n",
       "       4.08534465e+01])"
      ]
     },
     "execution_count": 168,
     "metadata": {},
     "output_type": "execute_result"
    }
   ],
   "source": [
    "result = decision_tree_Model.cost_complexity_pruning_path(x_train,y_train) \n",
    "result[\"ccp_alphas\"]"
   ]
  },
  {
   "cell_type": "code",
   "execution_count": 169,
   "id": "7acda295",
   "metadata": {},
   "outputs": [
    {
     "data": {
      "text/plain": [
       "array([0.00000000e+00, 1.40701532e-16, 5.62806127e-16, 5.62806127e-16,\n",
       "       1.12561225e-15, 1.12561225e-15, 1.23762376e-05, 1.23762376e-05,\n",
       "       1.23762376e-05, 1.23762376e-05, 1.23762376e-05, 1.23762376e-05,\n",
       "       1.23762376e-05, 1.23762376e-05, 1.23762376e-05, 1.23762376e-05,\n",
       "       1.23762376e-05, 1.23762376e-05, 1.23762376e-05, 1.23762376e-05,\n",
       "       1.23762376e-05, 1.23762376e-05, 1.23762376e-05, 1.23762376e-05,\n",
       "       1.23762376e-05, 1.23762376e-05, 1.23762376e-05, 1.23762376e-05,\n",
       "       1.23762376e-05, 1.23762376e-05, 1.23762376e-05, 1.23762376e-05,\n",
       "       1.23762376e-05, 1.23762376e-05, 1.23762376e-05, 1.23762376e-05,\n",
       "       1.65016502e-05, 1.65016502e-05, 3.71287129e-05, 3.71287129e-05,\n",
       "       3.71287129e-05, 3.71287129e-05, 3.71287129e-05, 3.71287129e-05,\n",
       "       4.95049505e-05, 4.95049505e-05, 4.95049505e-05, 4.95049505e-05,\n",
       "       4.95049505e-05, 4.95049505e-05, 4.95049505e-05, 4.95049505e-05,\n",
       "       4.95049505e-05, 4.95049505e-05, 4.95049505e-05, 6.60066007e-05,\n",
       "       1.01072607e-04, 1.03135314e-04, 1.03135314e-04, 1.03135314e-04,\n",
       "       1.11386139e-04, 1.11386139e-04, 1.11386139e-04, 1.11386139e-04,\n",
       "       1.11386139e-04, 1.11386139e-04, 1.11386139e-04, 1.11386139e-04,\n",
       "       1.11386139e-04, 1.11386139e-04, 1.11386139e-04, 1.11386139e-04,\n",
       "       1.11386139e-04, 1.48514851e-04, 1.48514851e-04, 1.48514851e-04,\n",
       "       1.54702970e-04, 1.54702970e-04, 1.67079208e-04, 1.98019802e-04,\n",
       "       1.98019802e-04, 1.98019802e-04, 1.98019802e-04, 1.98019802e-04,\n",
       "       1.98019802e-04, 1.98019802e-04, 1.98019802e-04, 1.98019802e-04,\n",
       "       2.02145215e-04, 2.02145215e-04, 2.11221122e-04, 2.97029703e-04,\n",
       "       2.97029703e-04, 3.03217822e-04, 3.09405941e-04, 3.09405941e-04,\n",
       "       3.09405941e-04, 3.09405941e-04, 3.09405941e-04, 3.09405941e-04,\n",
       "       3.09405941e-04, 3.09405941e-04, 3.09405941e-04, 3.34158416e-04,\n",
       "       3.34158416e-04, 3.34158416e-04, 4.12541254e-04, 4.12541254e-04,\n",
       "       4.45544554e-04, 4.45544554e-04, 4.45544554e-04, 4.45544554e-04,\n",
       "       4.45544554e-04, 4.45544554e-04, 4.45544554e-04, 4.45544554e-04,\n",
       "       4.46782178e-04, 4.64108911e-04, 4.99174917e-04, 4.99174917e-04,\n",
       "       4.99174917e-04, 4.99174917e-04, 4.99174917e-04, 5.52805281e-04,\n",
       "       5.94059406e-04, 5.94059406e-04, 5.96122112e-04, 6.06435644e-04,\n",
       "       6.97194719e-04, 6.97194719e-04, 7.01732673e-04, 7.48762376e-04,\n",
       "       7.73514851e-04, 7.92079208e-04, 7.92079208e-04, 7.92079208e-04,\n",
       "       8.08580858e-04, 8.08580858e-04, 8.08580858e-04, 8.25082508e-04,\n",
       "       8.91089109e-04, 8.91089109e-04, 9.02227723e-04, 9.09653465e-04,\n",
       "       9.09653465e-04, 1.00247525e-03, 1.00247525e-03, 1.00247525e-03,\n",
       "       1.00247525e-03, 1.01072607e-03, 1.04579208e-03, 1.12953795e-03,\n",
       "       1.12953795e-03, 1.18811881e-03, 1.19141914e-03, 1.19224422e-03,\n",
       "       1.23762376e-03, 1.23762376e-03, 1.33663366e-03, 1.33663366e-03,\n",
       "       1.38696370e-03, 1.48927393e-03, 1.49752475e-03, 1.49752475e-03,\n",
       "       1.49752475e-03, 1.51608911e-03, 1.59358793e-03, 1.59735974e-03,\n",
       "       1.69430693e-03, 1.78217822e-03, 1.78217822e-03, 1.78217822e-03,\n",
       "       1.98226073e-03, 1.99669967e-03, 1.99669967e-03, 2.00495050e-03,\n",
       "       2.09158416e-03, 2.09158416e-03, 2.09158416e-03, 2.09158416e-03,\n",
       "       2.14603960e-03, 2.23391089e-03, 2.23391089e-03, 2.24628713e-03,\n",
       "       2.28836634e-03, 2.37623762e-03, 2.38448845e-03, 2.47524752e-03,\n",
       "       2.61527581e-03, 2.67326733e-03, 2.72896040e-03, 2.78465347e-03,\n",
       "       2.78465347e-03, 2.78877888e-03, 2.82885431e-03, 2.97854785e-03,\n",
       "       2.97854785e-03, 2.99292786e-03, 3.00742574e-03, 3.17161716e-03,\n",
       "       3.23432343e-03, 3.23432343e-03, 3.24876238e-03, 3.30033003e-03,\n",
       "       3.46947195e-03, 3.46947195e-03, 3.57673267e-03, 3.96452145e-03,\n",
       "       4.04290429e-03, 4.22442244e-03, 4.36468647e-03, 4.46782178e-03,\n",
       "       4.95049505e-03, 4.95255776e-03, 4.95344177e-03, 5.05363036e-03,\n",
       "       5.17715700e-03, 5.36509901e-03, 5.45792079e-03, 5.54785479e-03,\n",
       "       5.66006601e-03, 5.97595474e-03, 6.01485149e-03, 6.05109618e-03,\n",
       "       6.24336987e-03, 6.34936351e-03, 6.54702970e-03, 6.60066007e-03,\n",
       "       6.62187647e-03, 6.68714639e-03, 6.70173267e-03, 6.98349835e-03,\n",
       "       7.12871287e-03, 7.12871287e-03, 7.60396040e-03, 7.73514851e-03,\n",
       "       8.25082508e-03, 8.35396040e-03, 8.98514851e-03, 9.35643564e-03,\n",
       "       9.36757426e-03, 1.00499764e-02, 1.05354785e-02, 1.09356436e-02,\n",
       "       1.09356436e-02, 1.11113861e-02, 1.11386139e-02, 1.11695545e-02,\n",
       "       1.14573020e-02, 1.15882838e-02, 1.16027228e-02, 1.16027228e-02,\n",
       "       1.18364961e-02, 1.18935644e-02, 1.19141914e-02, 1.21507151e-02,\n",
       "       1.22297855e-02, 1.22297855e-02, 1.25792079e-02, 1.32626513e-02,\n",
       "       1.33263444e-02, 1.34777228e-02, 1.42151894e-02, 1.55945354e-02,\n",
       "       1.56223479e-02, 1.63386964e-02, 1.63871786e-02, 1.67326733e-02,\n",
       "       1.78712871e-02, 1.82291372e-02, 1.85150479e-02, 1.88127063e-02,\n",
       "       1.93446834e-02, 2.03685369e-02, 2.07962046e-02, 2.14603960e-02,\n",
       "       2.17256011e-02, 2.19843234e-02, 2.22772277e-02, 2.34014026e-02,\n",
       "       2.34499450e-02, 2.44018152e-02, 2.45513614e-02, 2.67605198e-02,\n",
       "       2.69311645e-02, 2.69441694e-02, 2.70668317e-02, 2.73040429e-02,\n",
       "       2.74603960e-02, 2.78465347e-02, 2.86199375e-02, 2.98518977e-02,\n",
       "       3.27107889e-02, 3.33459060e-02, 3.37627298e-02, 3.41120050e-02,\n",
       "       3.52875571e-02, 3.66893564e-02, 3.72453245e-02, 3.83755190e-02,\n",
       "       3.98526752e-02, 3.99339934e-02, 4.10086634e-02, 4.33069307e-02,\n",
       "       4.33426155e-02, 4.74107007e-02, 5.26773927e-02, 5.37304730e-02,\n",
       "       5.66784082e-02, 5.82278060e-02, 5.82485402e-02, 6.03506358e-02,\n",
       "       6.31703795e-02, 6.65387789e-02, 6.77722772e-02, 6.89306931e-02,\n",
       "       7.11955961e-02, 7.90160891e-02, 8.20173267e-02, 8.26550670e-02,\n",
       "       8.42838284e-02, 8.43187124e-02, 8.68193878e-02, 8.68415842e-02,\n",
       "       9.03564356e-02, 9.18170559e-02, 9.36757426e-02, 1.14429776e-01,\n",
       "       1.30429443e-01, 1.31274456e-01, 1.35163580e-01, 1.38135553e-01,\n",
       "       1.48350031e-01, 1.49354568e-01, 1.51116955e-01, 1.63821879e-01,\n",
       "       1.64280666e-01, 1.73293042e-01, 1.75319194e-01, 1.83176568e-01,\n",
       "       2.09658097e-01, 2.49122260e-01, 2.81162123e-01, 2.84152174e-01,\n",
       "       3.50386339e-01, 3.85231892e-01, 4.10880429e-01, 4.21082567e-01,\n",
       "       4.92822179e-01, 5.66054566e-01, 6.70218676e-01, 7.95876037e-01,\n",
       "       9.06701733e-01, 1.33233911e+00, 1.73592852e+00, 2.16662832e+00,\n",
       "       2.87069416e+00, 4.51811732e+00, 5.94515856e+00, 1.44201615e+01,\n",
       "       4.08534465e+01])"
      ]
     },
     "execution_count": 169,
     "metadata": {},
     "output_type": "execute_result"
    }
   ],
   "source": [
    "ccp_alpha_list = result[\"ccp_alphas\"]\n",
    "ccp_alpha_list\n"
   ]
  },
  {
   "cell_type": "code",
   "execution_count": 170,
   "id": "e2c9a8d0",
   "metadata": {},
   "outputs": [
    {
     "data": {
      "text/plain": [
       "361"
      ]
     },
     "execution_count": 170,
     "metadata": {},
     "output_type": "execute_result"
    }
   ],
   "source": [
    "len(ccp_alpha_list)"
   ]
  },
  {
   "cell_type": "markdown",
   "id": "fdb4470e",
   "metadata": {},
   "source": [
    "# Calculating Training & Testing Accuracy For each ccp_alpha value "
   ]
  },
  {
   "cell_type": "code",
   "execution_count": 171,
   "id": "dadd3070",
   "metadata": {},
   "outputs": [
    {
     "name": "stdout",
     "output_type": "stream",
     "text": [
      "[1.0, 1.0, 1.0, 1.0, 1.0, 1.0, 0.9999997150741866, 0.9999997150741866, 0.9999992876854665, 0.9999992876854665, 0.9999992876854665, 0.9999991452225598, 0.9999990027596531, 0.9999988602967466, 0.9999985753709332, 0.9999985753709332, 0.9999984329080265, 0.9999974356676796, 0.9999974356676796, 0.9999974356676796, 0.9999974356676796, 0.9999974356676796, 0.9999974356676796, 0.9999974356676796, 0.9999972932047729, 0.999996865816053, 0.999996865816053, 0.999996865816053, 0.9999967233531463, 0.9999965808902396, 0.9999961535015195, 0.9999961535015195, 0.9999961535015195, 0.9999960110386128, 0.9999958685757061, 0.9999957261127994, 0.9999955361622571, 0.9999953462117149, 0.9999949188229948, 0.9999944914342748, 0.9999940640455548, 0.9999936366568347, 0.9999932092681146, 0.9999927818793946, 0.9999922120277678, 0.9999916421761411, 0.9999910723245143, 0.9999905024728876, 0.9999893627696341, 0.9999893627696341, 0.9999882230663806, 0.9999882230663806, 0.9999876532147539, 0.9999870833631271, 0.9999865135115004, 0.9999857537093314, 0.9999845902622602, 0.999983403071371, 0.9999810286895929, 0.9999810286895929, 0.9999797465234328, 0.9999784643572726, 0.9999771821911124, 0.9999759000249523, 0.999974617858792, 0.9999720535264718, 0.9999720535264718, 0.9999707713603115, 0.9999682070279912, 0.9999682070279912, 0.999966924861831, 0.9999656426956709, 0.9999643605295107, 0.9999626509746304, 0.9999609414197502, 0.99995923186487, 0.9999574510785364, 0.9999556702922028, 0.9999537470429626, 0.9999514676364556, 0.9999469088234416, 0.9999469088234416, 0.9999400706039206, 0.9999400706039206, 0.9999400706039206, 0.9999377911974138, 0.9999355117909068, 0.9999332323843998, 0.9999309054902572, 0.9999285785961147, 0.999926147229174, 0.9999227281194134, 0.999919309009653, 0.9999158186684391, 0.999912257095772, 0.9999086955231048, 0.9999051339504377, 0.9999015723777706, 0.9998980108051034, 0.9998944492324362, 0.9998908876597691, 0.999887326087102, 0.9998837645144347, 0.9998799180159542, 0.9998760715174737, 0.9998722250189932, 0.999867476255437, 0.9998579787283246, 0.9998528500636839, 0.9998477213990432, 0.9998425927344025, 0.9998220780758397, 0.9998220780758397, 0.9998220780758397, 0.9998220780758397, 0.9998169494111989, 0.9998118065002676, 0.9998064641412668, 0.9998007181373638, 0.9997949721334608, 0.9997892261295579, 0.9997834801256549, 0.9997777341217519, 0.9997650074354212, 0.9997581692159002, 0.9997513309963794, 0.9997444690330406, 0.999737488350613, 0.999729462940203, 0.999721437529793, 0.9997052822361748, 0.9996966632303204, 0.9996877592986524, 0.9996786416726245, 0.9996695240465966, 0.9996604064205686, 0.9996510988439985, 0.9996417912674284, 0.9996324836908582, 0.9996229861637458, 0.9996127288344644, 0.999602471505183, 0.9995920859592856, 0.9995816149356441, 0.9995711439120027, 0.9995596044165611, 0.999536525425678, 0.999536525425678, 0.9995249859302364, 0.9995133514595237, 0.9995013133439087, 0.9994883112292918, 0.999475309114675, 0.999461632675633, 0.9994479182464827, 0.9994341943198053, 0.9994199480291367, 0.9994057017384681, 0.999390315744546, 0.9993749297506239, 0.9993589644075479, 0.99934182137111, 0.999324583359401, 0.9993073453476919, 0.9992901073359829, 0.9992726556299139, 0.999254311834691, 0.9992359246222015, 0.9992164214502761, 0.9991959067917133, 0.9991753921331505, 0.9991548774745876, 0.9991320596657002, 0.9991090756500881, 0.999086091634476, 0.9990630126435929, 0.999038936412363, 0.999014860181133, 0.9989667077186731, 0.9989667077186731, 0.9989420046506537, 0.9989162900959968, 0.99889057554134, 0.9988647185237765, 0.9988383771323301, 0.9988110242542465, 0.9987835764008915, 0.9987550838195544, 0.9987249793721872, 0.998694207384343, 0.9986627943134186, 0.9986307401594143, 0.9985986860054099, 0.99856658436377, 0.9985340214136703, 0.9984997353407945, 0.9984654492679187, 0.9984309976667133, 0.9983963791803885, 0.9983598706861684, 0.9983226403798877, 0.998285410073607, 0.998248013560602, 0.9982100234521524, 0.9981700863506446, 0.998130149249137, 0.9980889774691047, 0.9980433418513296, 0.9979968039684788, 0.9979481766296632, 0.9978979347112386, 0.9978465056019249, 0.9977895204392504, 0.9977325115327582, 0.997675492450344, 0.9976173200967805, 0.9975577258277293, 0.9974959681576809, 0.9974331420158323, 0.9973692806435285, 0.9973041276075373, 0.9972353383754518, 0.9971661014028023, 0.9970964472173547, 0.9969527123204303, 0.9968796247789314, 0.9968042619012945, 0.9967282816843952, 0.9966520572453702, 0.9965750814841111, 0.9964979378201405, 0.9964175507506611, 0.9963354921164099, 0.9962534334821587, 0.9961659042722907, 0.9960768649556119, 0.9959818896844878, 0.9958857272224746, 0.9957822991522205, 0.9956745971947658, 0.995566767020695, 0.9954510817133075, 0.9953298077896091, 0.9952039275652613, 0.9950780473409134, 0.9949501441432906, 0.994821927527273, 0.9946933547539888, 0.9945614697181241, 0.9944280769498304, 0.994294517974812, 0.9941609589997938, 0.9938884591177269, 0.9937515522644015, 0.9936144079728984, 0.9934745410569562, 0.9933337639613325, 0.9931929868657089, 0.993048187567353, 0.9928955211507058, 0.9927421215622108, 0.9925869794568295, 0.9924233483712626, 0.9922438396294955, 0.9920640107375699, 0.9918759359569265, 0.9914986702366758, 0.9913060603868362, 0.9911003439495814, 0.9906806726486966, 0.9904675458789781, 0.9902509927632881, 0.9900283160571339, 0.9897938537711523, 0.989554468600284, 0.9893074379200902, 0.9890573544633245, 0.9888042928534144, 0.9885478596213794, 0.9880091123959279, 0.9877391800120238, 0.9874582906476742, 0.9871756798565356, 0.9868676394365535, 0.9865576347244461, 0.9862474803132208, 0.9859359139362983, 0.984993023188396, 0.9846769264910408, 0.984356384950997, 0.9840269407685424, 0.9836833154888518, 0.9825537135338415, 0.9821698687142775, 0.9817812258344689, 0.9813885624479153, 0.9809823672769634, 0.9805600359900923, 0.9801313049528687, 0.979689564243856, 0.9792308199859702, 0.9787711396737296, 0.978299088832425, 0.9778005826293489, 0.9773016656582251, 0.9767559209470289, 0.9761495513285371, 0.9755310596996075, 0.9748786343804106, 0.9742083739392998, 0.973537874826008, 0.9728431784847098, 0.972116024065166, 0.9713500959911857, 0.9705699691141724, 0.9697765077090932, 0.968956974998495, 0.9680474205707573, 0.9671033188881483, 0.9661518761757594, 0.9651816847861725, 0.9632404989072797, 0.9622411206857463, 0.9602418532384756, 0.9592017600493414, 0.9570879472633955, 0.9560096455226881, 0.954692444040276, 0.9531910703494846, 0.9516799697076334, 0.9501241013539053, 0.9485340226118394, 0.9468263649757122, 0.9433879232626275, 0.9416484155562631, 0.9378769073231238, 0.935985872111905, 0.9319963187121696, 0.9279601192322647, 0.9258515732380387, 0.9234381982793249, 0.9205705512294979, 0.9173340932298568, 0.914063216737, 0.910029918583018, 0.905595513176837, 0.9008658673819255, 0.8960187847466583, 0.8903459072354234, 0.877314195780555, 0.8695993066844212, 0.860437975346946, 0.850000929108759, 0.8346643698152755, 0.8146820916600518, 0.789742026905439, 0.7566974582735907, 0.7046893968727066, 0.6362546597149275, 0.47026413973279113, 0.0]\n",
      "*****************************************************************************************************************************\n",
      "*****************************************************************************************************************************\n",
      "*****************************************************************************************************************************\n",
      "[0.8656920003164498, 0.8656920003164498, 0.8656920003164498, 0.8656920003164498, 0.8656920003164498, 0.8656920003164498, 0.8657331096899532, 0.8657331096899532, 0.8657331096899532, 0.8657331096899532, 0.8657331096899532, 0.8657207434556472, 0.8657207434556472, 0.8656736180762653, 0.8656736180762653, 0.8656736180762653, 0.8656736180762653, 0.8656679362929356, 0.8656679362929356, 0.8656679362929356, 0.8656679362929356, 0.8656679362929356, 0.8656679362929356, 0.8656679362929356, 0.8656796340821439, 0.8656833105301808, 0.8656833105301808, 0.8656833105301808, 0.8656833105301808, 0.8656833105301808, 0.8657481497046495, 0.8657481497046495, 0.8657481497046495, 0.86580129108991, 0.8657969461967755, 0.8657969461967755, 0.8657969461967755, 0.8657754074102967, 0.8657660491789301, 0.8657660491789301, 0.8657490038289409, 0.8657850998642121, 0.8657850998642121, 0.8657850998642121, 0.8657850998642121, 0.8657850998642121, 0.8657850998642121, 0.8657850998642121, 0.8658733346170975, 0.8658733346170975, 0.8659121044327591, 0.8659121044327591, 0.8659121044327591, 0.8659615693699827, 0.8659615693699827, 0.865980582919426, 0.8660180808326103, 0.8660180808326103, 0.8659582921322124, 0.8659582921322124, 0.8659582921322124, 0.8658710600469736, 0.8658710600469736, 0.8658710600469736, 0.8658359666793488, 0.8658359666793488, 0.8658359666793488, 0.8658650440410951, 0.8658650440410951, 0.8658650440410951, 0.8658650440410951, 0.8658740680499128, 0.8658740680499128, 0.8658299506734702, 0.865851340916594, 0.865851340916594, 0.8660694211296911, 0.8661989323673542, 0.8662242497254263, 0.8662242497254263, 0.866037085098094, 0.866037085098094, 0.8662242497254264, 0.8662242497254264, 0.8662242497254264, 0.8662135546038645, 0.8660959082666841, 0.8660959082666841, 0.8660959082666841, 0.8659989465916911, 0.865921181174468, 0.8660628915351626, 0.8658837482490015, 0.8659100682747202, 0.8658950282600237, 0.8662142107941353, 0.8662142107941353, 0.8662142107941353, 0.8662142107941353, 0.8662142107941353, 0.8662142107941353, 0.8662142107941353, 0.8662142107941353, 0.8662142107941353, 0.8662142107941353, 0.8662904135352635, 0.8662807582171869, 0.8663178940559433, 0.8663178940559433, 0.8663178940559433, 0.8663178940559433, 0.8663178940559433, 0.8663178940559433, 0.8663178940559433, 0.8663178940559433, 0.8664502461852712, 0.8665430865248791, 0.8665543665359013, 0.8665543665359013, 0.8665915395104965, 0.866555183524354, 0.866555183524354, 0.866660983528971, 0.866822598699239, 0.866822598699239, 0.866822598699239, 0.866822598699239, 0.866843654719814, 0.866843654719814, 0.866817102595103, 0.8670522482115424, 0.8670522482115424, 0.8670522482115424, 0.8670522482115424, 0.8668918213881146, 0.8668918213881146, 0.8668918213881146, 0.8668918213881146, 0.8670280356446731, 0.8671164189409135, 0.8671164189409135, 0.8669198960822144, 0.8668732419566263, 0.8668732419566263, 0.8668732419566263, 0.8666416257303025, 0.8666416257303025, 0.8666416257303025, 0.8666416257303025, 0.8665802773246769, 0.8665802773246769, 0.866547135816737, 0.8660124198453503, 0.8660124198453503, 0.8660800427222922, 0.8661431736481782, 0.8661431736481782, 0.8661431736481782, 0.8665322086949905, 0.8665322086949905, 0.8663971263387973, 0.8663971263387973, 0.8656508073873093, 0.8658897765097069, 0.8658897765097069, 0.8658985498516131, 0.8661561300922218, 0.8661851495220596, 0.8659311470694165, 0.8659311470694165, 0.8659632324341021, 0.8659632324341021, 0.8669495324595939, 0.8669021471293407, 0.8663449610046392, 0.8663600010193355, 0.8663600010193355, 0.8663600010193355, 0.8658342689500607, 0.8658342689500607, 0.8658342689500607, 0.8653024373192701, 0.8650182645971463, 0.8638905141618312, 0.8638905141618312, 0.8639439897696404, 0.8639439897696404, 0.8640375720833067, 0.864117677452466, 0.8632593939471274, 0.8632593939471274, 0.8632593939471274, 0.8632593939471274, 0.8632593939471274, 0.8631759065186088, 0.863337484553038, 0.863337484553038, 0.863728655350146, 0.8625555342038302, 0.8627715934845823, 0.8625303590760205, 0.8627632750567009, 0.8628656307122733, 0.8628656307122733, 0.8590758812313406, 0.8590758812313406, 0.8587690649315349, 0.8584864426306791, 0.8584729251853718, 0.8584729251853718, 0.8584729251853718, 0.8584729251853718, 0.8560665228339549, 0.8553341112540811, 0.854894772303239, 0.854894772303239, 0.8553545774059618, 0.8553545774059618, 0.8547579901563397, 0.8551808990298321, 0.8551465855148213, 0.8551465855148213, 0.854644249023963, 0.8540093438412069, 0.8513934811490613, 0.8513934811490613, 0.8507554503033871, 0.8501672186174851, 0.8518270936019924, 0.8518468617573632, 0.8518547995428974, 0.8518547995428974, 0.85302413283366, 0.8523681653778664, 0.8523681653778664, 0.8523681653778664, 0.8524513496566808, 0.8524513496566808, 0.8522601743587627, 0.8517989472414078, 0.8517989472414078, 0.8522140338824545, 0.8522140338824545, 0.8522410524333002, 0.8522410524333002, 0.8526006825802684, 0.8529064962124276, 0.8538177539917524, 0.8537154192250893, 0.8554494029441434, 0.8561575369694301, 0.8577555385309178, 0.8581653036281649, 0.8581653036281649, 0.8603272036172094, 0.8598222057245736, 0.8649620843272545, 0.8658492316632667, 0.8662579056270471, 0.8659846106110256, 0.8665601821677946, 0.8665601821677946, 0.8665601821677946, 0.8668710456148087, 0.866114759858923, 0.8702568634619364, 0.8698363591891002, 0.8696278043186441, 0.8695516015775158, 0.8686806574491935, 0.8686806574491935, 0.8691283611795069, 0.8701702978748713, 0.8709128165921932, 0.8709128165921932, 0.8744582493899474, 0.8745769870660627, 0.8784048007817208, 0.8737925296081718, 0.8740903218991596, 0.8740903218991596, 0.8738441112882045, 0.8750678044839366, 0.8750678044839366, 0.8756335157846179, 0.8686639513530162, 0.8689723919744091, 0.8683465231159275, 0.8689932437478709, 0.8703618850852392, 0.8704428574211674, 0.8705130838917645, 0.8692286385953482, 0.870164954855529, 0.870164954855529, 0.8700121524839959, 0.8700121524839959, 0.8712317119966765, 0.8706030765182076, 0.8730580997436252, 0.8745129085734762, 0.8753805503101816, 0.8745440748261526, 0.8744155729405869, 0.8713062007664604, 0.8713819412323177, 0.875615009072365, 0.8764654752360732, 0.8764654752360732, 0.8761636358099959, 0.8761556196019203, 0.876422728666986, 0.8792464450064282, 0.8771477130791084, 0.8780875468863563, 0.8736136705858177, 0.8738528427948336, 0.8728845350832193, 0.8728845350832193, 0.8728845350832193, 0.8728845350832193, 0.8885171921378746, 0.8815153625498733, 0.8817775178045569, 0.8800006303082707, 0.8798439339462202, 0.8798439339462202, 0.880278560799814, 0.8786859901760559, 0.8765643851933005, 0.8774313032724751, 0.8805888676238344, 0.8805888676238344, 0.8778497469760901, 0.8864050527680086, 0.8865355778780017, 0.8862076600455877, 0.8941754942500152, 0.8925041339337174, 0.8927116304327689, 0.8907990944577435, 0.8834951375445045, 0.8789107906777033, 0.8647598472798552, 0.8666510295813592, 0.8713612535514907, 0.8699934592613077, 0.8689090699045534, 0.8639643901234522, 0.855934550824653, 0.857184046958672, 0.8577971942153856, 0.853716253338804, 0.8508986770389417, 0.8097063368140078, 0.775355713845591, 0.737668683988948, 0.645549571073612, 0.5585030890325369, 0.3602156982888397, -0.023340500652033747]\n"
     ]
    }
   ],
   "source": [
    "train_accuracy_list = []\n",
    "test_accuracy_list  = []\n",
    "\n",
    "for ccp_alpha in ccp_alpha_list:\n",
    "\n",
    "    decision_tree_Model = DecisionTreeRegressor(random_state=10,ccp_alpha = ccp_alpha)\n",
    "    decision_tree_Model.fit(x_train,y_train)\n",
    "    train_accuracy_list.append(decision_tree_Model.score(x_train,y_train)) # Training Accuracy\n",
    "    test_accuracy_list.append(decision_tree_Model.score(x_test,y_test))    # Testing Accuracy\n",
    "    \n",
    "    \n",
    "print(train_accuracy_list)\n",
    "print('*'*125)\n",
    "print('*'*125)\n",
    "print('*'*125)\n",
    "print(test_accuracy_list)"
   ]
  },
  {
   "cell_type": "markdown",
   "id": "ef2469d6",
   "metadata": {},
   "source": [
    "# Visualising Best Training & Testing Accuracy After Pruning DT"
   ]
  },
  {
   "cell_type": "code",
   "execution_count": 172,
   "id": "cbee8b6b",
   "metadata": {},
   "outputs": [
    {
     "data": {
      "text/plain": [
       "<matplotlib.legend.Legend at 0x23448a32bd0>"
      ]
     },
     "execution_count": 172,
     "metadata": {},
     "output_type": "execute_result"
    },
    {
     "data": {
      "image/png": "[encoded data removed]",
      "text/plain": [
       "<Figure size 640x480 with 1 Axes>"
      ]
     },
     "metadata": {},
     "output_type": "display_data"
    }
   ],
   "source": [
    "fig,ax  = plt.subplots()\n",
    "ax.plot(ccp_alpha_list,train_accuracy_list,label = \"Training Data Accuracy\")\n",
    "ax.plot(ccp_alpha_list,test_accuracy_list,label = \"Test Accuracy list\")\n",
    "ax.legend()"
   ]
  },
  {
   "cell_type": "code",
   "execution_count": 173,
   "id": "73ad42ce",
   "metadata": {},
   "outputs": [
    {
     "data": {
      "text/plain": [
       "(array([337], dtype=int64),)"
      ]
     },
     "execution_count": 173,
     "metadata": {},
     "output_type": "execute_result"
    }
   ],
   "source": [
    "best_test_accuracy = np.where(test_accuracy_list == np.max(test_accuracy_list)) # Best Accuracy at 340th Index\n",
    "best_test_accuracy"
   ]
  },
  {
   "cell_type": "code",
   "execution_count": 174,
   "id": "843ff949",
   "metadata": {},
   "outputs": [
    {
     "data": {
      "text/plain": [
       "337"
      ]
     },
     "execution_count": 174,
     "metadata": {},
     "output_type": "execute_result"
    }
   ],
   "source": [
    "best_test_accuracy[0][0]"
   ]
  },
  {
   "cell_type": "code",
   "execution_count": 175,
   "id": "250840e0",
   "metadata": {},
   "outputs": [
    {
     "data": {
      "text/plain": [
       "0.8941754942500152"
      ]
     },
     "execution_count": 175,
     "metadata": {},
     "output_type": "execute_result"
    }
   ],
   "source": [
    "test_accuracy_list[best_test_accuracy[0][0]]"
   ]
  },
  {
   "cell_type": "code",
   "execution_count": 176,
   "id": "2faa6ba1",
   "metadata": {},
   "outputs": [
    {
     "data": {
      "text/plain": [
       "0.9319963187121696"
      ]
     },
     "execution_count": 176,
     "metadata": {},
     "output_type": "execute_result"
    }
   ],
   "source": [
    "train_accuracy_list[best_test_accuracy[0][0]]"
   ]
  },
  {
   "cell_type": "code",
   "execution_count": 177,
   "id": "c16d9127",
   "metadata": {},
   "outputs": [
    {
     "data": {
      "text/plain": [
       "0.17329304180417898"
      ]
     },
     "execution_count": 177,
     "metadata": {},
     "output_type": "execute_result"
    }
   ],
   "source": [
    "best_ccp = ccp_alpha_list[best_test_accuracy[0][0]] #---Best ccp value\n",
    "best_ccp "
   ]
  },
  {
   "cell_type": "code",
   "execution_count": 178,
   "id": "54cbdc1b",
   "metadata": {},
   "outputs": [
    {
     "data": {
      "text/html": [
       "<style>#sk-container-id-26 {color: black;}#sk-container-id-26 pre{padding: 0;}#sk-container-id-26 div.sk-toggleable {background-color: white;}#sk-container-id-26 label.sk-toggleable__label {cursor: pointer;display: block;width: 100%;margin-bottom: 0;padding: 0.3em;box-sizing: border-box;text-align: center;}#sk-container-id-26 label.sk-toggleable__label-arrow:before {content: \"▸\";float: left;margin-right: 0.25em;color: #696969;}#sk-container-id-26 label.sk-toggleable__label-arrow:hover:before {color: black;}#sk-container-id-26 div.sk-estimator:hover label.sk-toggleable__label-arrow:before {color: black;}#sk-container-id-26 div.sk-toggleable__content {max-height: 0;max-width: 0;overflow: hidden;text-align: left;background-color: #f0f8ff;}#sk-container-id-26 div.sk-toggleable__content pre {margin: 0.2em;color: black;border-radius: 0.25em;background-color: #f0f8ff;}#sk-container-id-26 input.sk-toggleable__control:checked~div.sk-toggleable__content {max-height: 200px;max-width: 100%;overflow: auto;}#sk-container-id-26 input.sk-toggleable__control:checked~label.sk-toggleable__label-arrow:before {content: \"▾\";}#sk-container-id-26 div.sk-estimator input.sk-toggleable__control:checked~label.sk-toggleable__label {background-color: #d4ebff;}#sk-container-id-26 div.sk-label input.sk-toggleable__control:checked~label.sk-toggleable__label {background-color: #d4ebff;}#sk-container-id-26 input.sk-hidden--visually {border: 0;clip: rect(1px 1px 1px 1px);clip: rect(1px, 1px, 1px, 1px);height: 1px;margin: -1px;overflow: hidden;padding: 0;position: absolute;width: 1px;}#sk-container-id-26 div.sk-estimator {font-family: monospace;background-color: #f0f8ff;border: 1px dotted black;border-radius: 0.25em;box-sizing: border-box;margin-bottom: 0.5em;}#sk-container-id-26 div.sk-estimator:hover {background-color: #d4ebff;}#sk-container-id-26 div.sk-parallel-item::after {content: \"\";width: 100%;border-bottom: 1px solid gray;flex-grow: 1;}#sk-container-id-26 div.sk-label:hover label.sk-toggleable__label {background-color: #d4ebff;}#sk-container-id-26 div.sk-serial::before {content: \"\";position: absolute;border-left: 1px solid gray;box-sizing: border-box;top: 0;bottom: 0;left: 50%;z-index: 0;}#sk-container-id-26 div.sk-serial {display: flex;flex-direction: column;align-items: center;background-color: white;padding-right: 0.2em;padding-left: 0.2em;position: relative;}#sk-container-id-26 div.sk-item {position: relative;z-index: 1;}#sk-container-id-26 div.sk-parallel {display: flex;align-items: stretch;justify-content: center;background-color: white;position: relative;}#sk-container-id-26 div.sk-item::before, #sk-container-id-26 div.sk-parallel-item::before {content: \"\";position: absolute;border-left: 1px solid gray;box-sizing: border-box;top: 0;bottom: 0;left: 50%;z-index: -1;}#sk-container-id-26 div.sk-parallel-item {display: flex;flex-direction: column;z-index: 1;position: relative;background-color: white;}#sk-container-id-26 div.sk-parallel-item:first-child::after {align-self: flex-end;width: 50%;}#sk-container-id-26 div.sk-parallel-item:last-child::after {align-self: flex-start;width: 50%;}#sk-container-id-26 div.sk-parallel-item:only-child::after {width: 0;}#sk-container-id-26 div.sk-dashed-wrapped {border: 1px dashed gray;margin: 0 0.4em 0.5em 0.4em;box-sizing: border-box;padding-bottom: 0.4em;background-color: white;}#sk-container-id-26 div.sk-label label {font-family: monospace;font-weight: bold;display: inline-block;line-height: 1.2em;}#sk-container-id-26 div.sk-label-container {text-align: center;}#sk-container-id-26 div.sk-container {/* jupyter's `normalize.less` sets `[hidden] { display: none; }` but bootstrap.min.css set `[hidden] { display: none !important; }` so we also need the `!important` here to be able to override the default hidden behavior on the sphinx rendered scikit-learn.org. See: https://github.com/scikit-learn/scikit-learn/issues/21755 */display: inline-block !important;position: relative;}#sk-container-id-26 div.sk-text-repr-fallback {display: none;}</style><div id=\"sk-container-id-26\" class=\"sk-top-container\"><div class=\"sk-text-repr-fallback\"><pre>DecisionTreeRegressor(ccp_alpha=0.17329304180417898, random_state=10)</pre><b>In a Jupyter environment, please rerun this cell to show the HTML representation or trust the notebook. <br />On GitHub, the HTML representation is unable to render, please try loading this page with nbviewer.org.</b></div><div class=\"sk-container\" hidden><div class=\"sk-item\"><div class=\"sk-estimator sk-toggleable\"><input class=\"sk-toggleable__control sk-hidden--visually\" id=\"sk-estimator-id-34\" type=\"checkbox\" checked><label for=\"sk-estimator-id-34\" class=\"sk-toggleable__label sk-toggleable__label-arrow\">DecisionTreeRegressor</label><div class=\"sk-toggleable__content\"><pre>DecisionTreeRegressor(ccp_alpha=0.17329304180417898, random_state=10)</pre></div></div></div></div></div>"
      ],
      "text/plain": [
       "DecisionTreeRegressor(ccp_alpha=0.17329304180417898, random_state=10)"
      ]
     },
     "execution_count": 178,
     "metadata": {},
     "output_type": "execute_result"
    }
   ],
   "source": [
    "decision_tree_Model = DecisionTreeRegressor(random_state=10, ccp_alpha=best_ccp)\n",
    "decision_tree_Model.fit(x_train,y_train)\n",
    "\n"
   ]
  },
  {
   "cell_type": "markdown",
   "id": "64a089d2",
   "metadata": {},
   "source": [
    "# Training Accuracy With Pruning Decision Tree"
   ]
  },
  {
   "cell_type": "code",
   "execution_count": 179,
   "id": "4ee254ac",
   "metadata": {},
   "outputs": [
    {
     "name": "stdout",
     "output_type": "stream",
     "text": [
      "Mean Squared Error : 5.907711266645432\n",
      "\n",
      "Root Mean Squared Error : 2.4305783810948025\n",
      "\n",
      "Mean Absolute Error : 1.8701317805001105\n",
      "\n",
      "R Squared Value :  0.9319963187121696\n"
     ]
    }
   ],
   "source": [
    "yp_train = decision_tree_Model.predict(x_train)\n",
    "\n",
    "mse = mean_squared_error(y_train,yp_train)\n",
    "print(\"Mean Squared Error :\",mse)\n",
    "print()\n",
    "\n",
    "rmse = np.sqrt(mse)\n",
    "print(\"Root Mean Squared Error :\",rmse)\n",
    "print()\n",
    "\n",
    "mae = mean_absolute_error(y_train,yp_train)\n",
    "print(\"Mean Absolute Error :\",mae)\n",
    "print()\n",
    "\n",
    "r_squared = r2_score(y_train,yp_train)\n",
    "print(\"R Squared Value : \",r_squared)"
   ]
  },
  {
   "cell_type": "markdown",
   "id": "5c93e2e9",
   "metadata": {},
   "source": [
    "# Testing Accuracy With Pruning Decision Tree"
   ]
  },
  {
   "cell_type": "code",
   "execution_count": 180,
   "id": "c198a5d3",
   "metadata": {},
   "outputs": [
    {
     "name": "stdout",
     "output_type": "stream",
     "text": [
      "MSE: 7.760511357717735\n",
      "RMSE; 2.7857694372861754\n",
      "MAE: 2.0900176439971703\n",
      "R2_Score: 0.8941754942500152\n"
     ]
    }
   ],
   "source": [
    "yp_test= decision_tree_Model.predict(x_test)\n",
    "mse = mean_squared_error(y_test,yp_test)\n",
    "print(\"MSE:\",mse)\n",
    "\n",
    "rmse = np.sqrt(mse)\n",
    "print(\"RMSE;\",rmse)\n",
    "\n",
    "mae = mean_absolute_error(y_test,yp_test)\n",
    "print(\"MAE:\",mae)\n",
    "\n",
    "r2 = r2_score(y_test,yp_test)\n",
    "print(\"R2_Score:\",r2)"
   ]
  },
  {
   "cell_type": "markdown",
   "id": "edfcd20e",
   "metadata": {},
   "source": [
    "# Evaluation Of Linear regression,Lasso, Ridge,DT & DT with Pruning Algorithm"
   ]
  },
  {
   "cell_type": "code",
   "execution_count": 181,
   "id": "ec977279",
   "metadata": {},
   "outputs": [
    {
     "data": {
      "text/html": [
       "<div>\n",
       "<style scoped>\n",
       "    .dataframe tbody tr th:only-of-type {\n",
       "        vertical-align: middle;\n",
       "    }\n",
       "\n",
       "    .dataframe tbody tr th {\n",
       "        vertical-align: top;\n",
       "    }\n",
       "\n",
       "    .dataframe thead th {\n",
       "        text-align: right;\n",
       "    }\n",
       "</style>\n",
       "<table border=\"1\" class=\"dataframe\">\n",
       "  <thead>\n",
       "    <tr style=\"text-align: right;\">\n",
       "      <th></th>\n",
       "      <th>Linear Regression</th>\n",
       "      <th>Lasso Regression</th>\n",
       "      <th>Ridge Regression</th>\n",
       "      <th>DT Without HypParams</th>\n",
       "      <th>DT With HyperParams</th>\n",
       "      <th>DT With Pruning</th>\n",
       "    </tr>\n",
       "  </thead>\n",
       "  <tbody>\n",
       "    <tr>\n",
       "      <th>MSE</th>\n",
       "      <td>22.2350</td>\n",
       "      <td>22.27200</td>\n",
       "      <td>22.2350</td>\n",
       "      <td>0.0</td>\n",
       "      <td>13.9218</td>\n",
       "      <td>5.9077</td>\n",
       "    </tr>\n",
       "    <tr>\n",
       "      <th>RMSE</th>\n",
       "      <td>4.7154</td>\n",
       "      <td>4.71930</td>\n",
       "      <td>4.7154</td>\n",
       "      <td>0.0</td>\n",
       "      <td>3.7311</td>\n",
       "      <td>2.4305</td>\n",
       "    </tr>\n",
       "    <tr>\n",
       "      <th>MAE</th>\n",
       "      <td>3.3441</td>\n",
       "      <td>3.32860</td>\n",
       "      <td>3.3434</td>\n",
       "      <td>0.0</td>\n",
       "      <td>2.0492</td>\n",
       "      <td>1.8701</td>\n",
       "    </tr>\n",
       "    <tr>\n",
       "      <th>R2_Score</th>\n",
       "      <td>0.7440</td>\n",
       "      <td>0.74362</td>\n",
       "      <td>0.7440</td>\n",
       "      <td>1.0</td>\n",
       "      <td>0.8397</td>\n",
       "      <td>0.9319</td>\n",
       "    </tr>\n",
       "  </tbody>\n",
       "</table>\n",
       "</div>"
      ],
      "text/plain": [
       "          Linear Regression  Lasso Regression  Ridge Regression  \\\n",
       "MSE                 22.2350          22.27200           22.2350   \n",
       "RMSE                 4.7154           4.71930            4.7154   \n",
       "MAE                  3.3441           3.32860            3.3434   \n",
       "R2_Score             0.7440           0.74362            0.7440   \n",
       "\n",
       "          DT Without HypParams  DT With HyperParams  DT With Pruning  \n",
       "MSE                        0.0              13.9218           5.9077  \n",
       "RMSE                       0.0               3.7311           2.4305  \n",
       "MAE                        0.0               2.0492           1.8701  \n",
       "R2_Score                   1.0               0.8397           0.9319  "
      ]
     },
     "execution_count": 181,
     "metadata": {},
     "output_type": "execute_result"
    }
   ],
   "source": [
    "Training_Result = pd.DataFrame({'Linear Regression': [22.2350,4.7154,3.3441,0.7440],\n",
    "                                'Lasso Regression' : [22.2720,4.7193,3.3286,0.74362],\n",
    "                                'Ridge Regression' : [22.2350,4.7154,3.3434,0.7440],\n",
    "                                'DT Without HypParams': [0.0,0.0,0.0,1.0],\n",
    "                                'DT With HyperParams':[13.9218,3.7311,2.0492,0.8397],\n",
    "                                'DT With Pruning' : [5.9077,2.4305,1.8701,0.9319],\n",
    "                               }\n",
    "                                ,index=['MSE','RMSE','MAE','R2_Score'])\n",
    "Training_Result\n"
   ]
  },
  {
   "cell_type": "code",
   "execution_count": 182,
   "id": "2db6e90a",
   "metadata": {},
   "outputs": [
    {
     "data": {
      "text/html": [
       "<div>\n",
       "<style scoped>\n",
       "    .dataframe tbody tr th:only-of-type {\n",
       "        vertical-align: middle;\n",
       "    }\n",
       "\n",
       "    .dataframe tbody tr th {\n",
       "        vertical-align: top;\n",
       "    }\n",
       "\n",
       "    .dataframe thead th {\n",
       "        text-align: right;\n",
       "    }\n",
       "</style>\n",
       "<table border=\"1\" class=\"dataframe\">\n",
       "  <thead>\n",
       "    <tr style=\"text-align: right;\">\n",
       "      <th></th>\n",
       "      <th>Linear Regression</th>\n",
       "      <th>Lasso Regression</th>\n",
       "      <th>Ridge Regression</th>\n",
       "      <th>DT Without HypParams</th>\n",
       "      <th>DT With HyperParams</th>\n",
       "      <th>DT with Pruning</th>\n",
       "    </tr>\n",
       "  </thead>\n",
       "  <tbody>\n",
       "    <tr>\n",
       "      <th>MSE</th>\n",
       "      <td>28.9906</td>\n",
       "      <td>24.9557</td>\n",
       "      <td>24.947027</td>\n",
       "      <td>22.9059</td>\n",
       "      <td>22.0192</td>\n",
       "      <td>7.7605</td>\n",
       "    </tr>\n",
       "    <tr>\n",
       "      <th>RMSE</th>\n",
       "      <td>5.3842</td>\n",
       "      <td>4.9955</td>\n",
       "      <td>4.994600</td>\n",
       "      <td>4.7860</td>\n",
       "      <td>4.6924</td>\n",
       "      <td>2.7857</td>\n",
       "    </tr>\n",
       "    <tr>\n",
       "      <th>MAE</th>\n",
       "      <td>3.6579</td>\n",
       "      <td>3.2286</td>\n",
       "      <td>3.263400</td>\n",
       "      <td>2.8009</td>\n",
       "      <td>2.9205</td>\n",
       "      <td>2.0900</td>\n",
       "    </tr>\n",
       "    <tr>\n",
       "      <th>R2_Score</th>\n",
       "      <td>0.6046</td>\n",
       "      <td>0.6596</td>\n",
       "      <td>0.659800</td>\n",
       "      <td>0.6876</td>\n",
       "      <td>0.6997</td>\n",
       "      <td>0.8941</td>\n",
       "    </tr>\n",
       "  </tbody>\n",
       "</table>\n",
       "</div>"
      ],
      "text/plain": [
       "          Linear Regression  Lasso Regression  Ridge Regression  \\\n",
       "MSE                 28.9906           24.9557         24.947027   \n",
       "RMSE                 5.3842            4.9955          4.994600   \n",
       "MAE                  3.6579            3.2286          3.263400   \n",
       "R2_Score             0.6046            0.6596          0.659800   \n",
       "\n",
       "          DT Without HypParams  DT With HyperParams  DT with Pruning  \n",
       "MSE                    22.9059              22.0192           7.7605  \n",
       "RMSE                    4.7860               4.6924           2.7857  \n",
       "MAE                     2.8009               2.9205           2.0900  \n",
       "R2_Score                0.6876               0.6997           0.8941  "
      ]
     },
     "execution_count": 182,
     "metadata": {},
     "output_type": "execute_result"
    }
   ],
   "source": [
    "Testing_Result = pd.DataFrame({'Linear Regression':     [28.9906,5.3842,3.6579,0.6046],\n",
    "                                'Lasso Regression' :    [24.9557,4.9955,3.2286,0.6596],\n",
    "                                'Ridge Regression' :    [24.9470,4.9946,3.2634,0.6598],\n",
    "                                'DT Without HypParams': [22.9059,4.7860,2.8009,0.6876],\n",
    "                                'DT With HyperParams':  [22.0192,4.6924,2.9205,0.6997],\n",
    "                                'DT with Pruning':      [7.7605,2.7857,2.0900,0.8941]}\n",
    "                                ,index=['MSE','RMSE','MAE','R2_Score'])\n",
    "Testing_Result\n"
   ]
  },
  {
   "cell_type": "code",
   "execution_count": null,
   "id": "e32cdc43",
   "metadata": {},
   "outputs": [],
   "source": []
  }
 ],
 "metadata": {
  "kernelspec": {
   "display_name": "Python 3 (ipykernel)",
   "language": "python",
   "name": "python3"
  },
  "language_info": {
   "codemirror_mode": {
    "name": "ipython",
    "version": 3
   },
   "file_extension": ".py",
   "mimetype": "text/x-python",
   "name": "python",
   "nbconvert_exporter": "python",
   "pygments_lexer": "ipython3",
   "version": "3.11.5"
  }
 },
 "nbformat": 4,
 "nbformat_minor": 5
}
